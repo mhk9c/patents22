{
 "cells": [
  {
   "cell_type": "code",
   "execution_count": 1,
   "metadata": {},
   "outputs": [],
   "source": [
    "import pandas as pd\n",
    "import numpy as np\n",
    "import geocoder\n",
    "import requests\n",
    "import time\n",
    "from geopy.geocoders import Nominatim\n",
    "import json \n",
    "from sqlalchemy.sql import text\n",
    "import boto3\n",
    "\n",
    "from File_Utilities import FileTools\n",
    "import DB_Utilities\n",
    "DBTools = DB_Utilities.DBTools()  # instantiate the class\n",
    "FileTools.MYDIR = \"./data/\""
   ]
  },
  {
   "cell_type": "markdown",
   "metadata": {},
   "source": [
    "##"
   ]
  },
  {
   "cell_type": "markdown",
   "metadata": {},
   "source": [
    "### Working on Economic Indicators\n",
    "\n",
    "* CAINC4__ALL_AREAS_1969_2020.csv\n",
    "* https://virginia.box.com/s/v70g9niz9att0381tapsnmtffksq7ahw"
   ]
  },
  {
   "cell_type": "code",
   "execution_count": null,
   "metadata": {},
   "outputs": [],
   "source": [
    "# Read in the data, there are some encoding issues so we need to explicitly specify the encoding.\n",
    "_CAINC4__ALL_AREAS_1969_2020_df = pd.read_csv(FileTools.get_full_file_path('CAINC4__ALL_AREAS_1969_2020.csv'),low_memory=False, encoding = \"ISO-8859-1\" )\n",
    "\n",
    "# Clean up the description field a bit.\n",
    "_CAINC4__ALL_AREAS_1969_2020_df['Description'] = _CAINC4__ALL_AREAS_1969_2020_df.Description.str.strip().str.replace(\"/\",\"\")\n",
    "\n",
    "# Seems like there is double data for 'Employer contributions for government social insurance' but they have different LineCodes so we can take out one of them.\n",
    "# The other descriptions are in 30's and on so we will take out 62.\n",
    "_CAINC4__ALL_AREAS_1969_2020_df = _CAINC4__ALL_AREAS_1969_2020_df[~(_CAINC4__ALL_AREAS_1969_2020_df.LineCode == 62)]\n",
    "# DBTools.truncate_and_insert_df(_CAINC4__ALL_AREAS_1969_2020_df, \"CAINC4__ALL_AREAS_1969_2020_df\")"
   ]
  },
  {
   "cell_type": "markdown",
   "metadata": {},
   "source": [
    "### Pivot the table so that county is row and all predictors are columns by year"
   ]
  },
  {
   "cell_type": "code",
   "execution_count": null,
   "metadata": {},
   "outputs": [],
   "source": [
    "all_data_ei = pd.DataFrame()\n",
    "for i in range(1969,2021):  \n",
    "# for i in range(1969,1970):\n",
    "    year = str(i)\n",
    "    print(f'Working on year : {year}')\n",
    "    temp_CAINC4__ALL_AREAS_1969_2020_df = _CAINC4__ALL_AREAS_1969_2020_df[[year, 'GeoFIPS',  'Description']].copy()\n",
    "    pivot_CAINC4__ALL_AREAS_1969_2020_df = pd.pivot_table(temp_CAINC4__ALL_AREAS_1969_2020_df, \n",
    "                                                    values=year\n",
    "                                                    ,index=['GeoFIPS']\n",
    "                                                    ,columns=['Description']\n",
    "                                                    ,aggfunc=np.sum, fill_value=0)\n",
    "\n",
    "    pivot_CAINC4__ALL_AREAS_1969_2020_df['year'] = year\n",
    "    pivot_CAINC4__ALL_AREAS_1969_2020_df.reset_index(inplace=True)\n",
    "    all_data_ei = pd.concat([all_data_ei, pivot_CAINC4__ALL_AREAS_1969_2020_df])   \n",
    "\n",
    "all_data_ei.GeoFIPS = all_data_ei.GeoFIPS.str.replace('\"','')\n",
    "\n",
    "FileTools.save_df_as_parquet(all_data_ei, 'CAINC4_ALL_AREAS_1969_2020_PIVOT.gzip')\n",
    "FileTools.save_df_as_csv(all_data_ei, 'CAINC4_ALL_AREAS_1969_2020_PIVOT.csv')\n",
    "# DBTools.truncate_and_insert_df(all_data_ei, \"CAINC4__ALL_AREAS_1969_2020_PIVOT\")"
   ]
  },
  {
   "cell_type": "code",
   "execution_count": null,
   "metadata": {},
   "outputs": [],
   "source": [
    "all_data_ei.head()"
   ]
  },
  {
   "cell_type": "code",
   "execution_count": null,
   "metadata": {},
   "outputs": [],
   "source": [
    "# test = FileTools.load_df_from_csv('CAINC4_ALL_AREAS_1969_2020_PIVOT.csv')\n",
    "test = pd.read_csv(FileTools.get_full_file_path('CAINC4_ALL_AREAS_1969_2020_PIVOT.csv'),low_memory=False, encoding = \"ISO-8859-1\" )\n",
    "test.head()"
   ]
  },
  {
   "cell_type": "code",
   "execution_count": null,
   "metadata": {},
   "outputs": [],
   "source": []
  }
 ],
 "metadata": {
  "kernelspec": {
   "display_name": "Python 3.9.12 ('UVACapstone')",
   "language": "python",
   "name": "python3"
  },
  "language_info": {
   "codemirror_mode": {
    "name": "ipython",
    "version": 3
   },
   "file_extension": ".py",
   "mimetype": "text/x-python",
   "name": "python",
   "nbconvert_exporter": "python",
   "pygments_lexer": "ipython3",
   "version": "3.9.12"
  },
  "orig_nbformat": 4,
  "vscode": {
   "interpreter": {
    "hash": "1320d6b9c24963eeab91ed3c1b469bbfc0dc38b81cdaee0abc39ad090f12f690"
   }
  }
 },
 "nbformat": 4,
 "nbformat_minor": 2
}
