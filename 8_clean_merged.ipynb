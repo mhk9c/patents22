{
 "cells": [
  {
   "cell_type": "markdown",
   "id": "4d654aab-f5e7-451f-8fbb-63d189c440b9",
   "metadata": {},
   "source": [
    "# Cleaning Merged Patents Data and Split for Model Training/Testing\n",
    "\n",
    "### Outline:\n",
    "\n",
    "- Drop redundant columns\n",
    "- Rename columns\n",
    "- Add key features\n",
    "- Clean University Assignment Features\n",
    "- Data Dictionary\n",
    "- Split Data\n",
    "- Save Data"
   ]
  },
  {
   "cell_type": "code",
   "execution_count": 1,
   "id": "cd5d080a-7b55-4d63-91f8-99a821365e3e",
   "metadata": {},
   "outputs": [
    {
     "name": "stderr",
     "output_type": "stream",
     "text": [
      "c:\\Users\\micha\\anaconda3\\envs\\UVACapstone\\lib\\site-packages\\scipy\\__init__.py:146: UserWarning: A NumPy version >=1.16.5 and <1.23.0 is required for this version of SciPy (detected version 1.23.1\n",
      "  warnings.warn(f\"A NumPy version >={np_minversion} and <{np_maxversion}\"\n"
     ]
    }
   ],
   "source": [
    "import numpy as np\n",
    "import pandas as pd\n",
    "from matplotlib import pyplot as plt\n",
    "import seaborn as sns\n",
    "import os"
   ]
  },
  {
   "cell_type": "code",
   "execution_count": 2,
   "id": "12d9f4ed-5536-4a9a-8252-b93a56feedeb",
   "metadata": {},
   "outputs": [],
   "source": [
    "file_location =  r'C:\\Users\\micha\\Documents\\GitHub\\patents22\\data\\merged' ##change as necessaru\n",
    "os.chdir(file_location)"
   ]
  },
  {
   "cell_type": "code",
   "execution_count": 3,
   "id": "3c2dc17c-749c-4737-a002-f1c2a5897250",
   "metadata": {},
   "outputs": [],
   "source": [
    "patents_full = pd.read_csv('PATENTS_DATA_ei.csv', dtype = {'GEOID':'str'}, low_memory = False)"
   ]
  },
  {
   "cell_type": "code",
   "execution_count": 4,
   "id": "1c83b08a-307a-4077-bab3-b044e0607906",
   "metadata": {},
   "outputs": [
    {
     "data": {
      "text/plain": [
       "Index(['patent_number', 'assignee', 'grant_year', 'application_year',\n",
       "       'application_number', 'GEOID', 'ipc_section', 'team_size', 'inventors',\n",
       "       'men_inventors', 'women_inventors', 'already_granted',\n",
       "       'assignee_uni_clean2', 'Institution', 'Control', 'level_r1', 'level_r2',\n",
       "       'special_focus', 'Perc_Over25_LessNinthGrade',\n",
       "       'Perc_Over25_SomeHighSchool', 'Perc_Over25_HighSchoolGrad',\n",
       "       'Perc_Over25_SomeCollege', 'Perc_Over25_Assosciates',\n",
       "       'Perc_Over25_Bachelors', 'Perc_Over25_Graduate', 'bea_region',\n",
       "       'Agriculture_Forestry_Fishing_Hunting',\n",
       "       'Mining_Quarrying_and_Oil_Gas_Extraction', 'Utilities', 'Construction',\n",
       "       'Manufacturing', 'Wholesale_Trade', 'Retail_Trade',\n",
       "       'Transportation_Warehousing', 'Information', 'Finance_Insurance',\n",
       "       'Real_Estate_Rental_Leasing',\n",
       "       'Professional_Scientific_and_Technical_Services',\n",
       "       'Management_of_Companies_Enterprises',\n",
       "       'Administrative_Support_Waste_Management_Remediation_Services',\n",
       "       'Educational_Services', 'Health_Care_Social_Assistance',\n",
       "       'Arts_Entertainment_and_Recreation', 'Accommodation_Food_Services',\n",
       "       'Other_Services_except_Public_Administration', 'qp1', 'ap', 'est',\n",
       "       'Agriculture_Forestry_Fishing_Hunting_base',\n",
       "       'Mining_Quarrying_and_Oil_Gas_Extraction_base', 'Utilities_base',\n",
       "       'Construction_base', 'Manufacturing_base', 'Wholesale_Trade_base',\n",
       "       'Retail_Trade_base', 'Transportation_Warehousing_base',\n",
       "       'Information_base', 'Finance_Insurance_base',\n",
       "       'Real_Estate_Rental_Leasing_base',\n",
       "       'Professional_Scientific_and_Technical_Services_base',\n",
       "       'Management_of_Companies_Enterprises_base',\n",
       "       'Administrative_Support_Waste_Management_Remediation_Services_base',\n",
       "       'Educational_Services_base', 'Health_Care_Social_Assistance_base',\n",
       "       'Arts_Entertainment_and_Recreation_base',\n",
       "       'Accommodation_Food_Services_base',\n",
       "       'Other_Services_except_Public_Administration_base', 'GDP', 'pop_gt_16',\n",
       "       'pop_gt_16_lf', 'pop_gt_16_lf_c', 'Pop_Est', 'year',\n",
       "       'Earnings_by_place_of_work',\n",
       "       'Employee_and_self-employed_contributions_for_government_social_insurance',\n",
       "       'Employer_contributions_for_employee_pension_and_insurance_funds',\n",
       "       'Employer_contributions_for_government_social_insurance',\n",
       "       'Equals_Net_earnings_by_place_of_residence', 'Farm_income',\n",
       "       'Farm_proprietors_income',\n",
       "       'Less_Contributions_for_government_social_insurance',\n",
       "       'Nonfarm_personal_income', 'Nonfarm_proprietors_income',\n",
       "       'Per_capita_personal_income_dollars',\n",
       "       'Personal_income_thousands_of_dollars', 'Plus_Adjustment_for_residence',\n",
       "       'Plus_Dividends_interest_and_rent',\n",
       "       'Plus_Personal_current_transfer_receipts', 'Population_persons',\n",
       "       'Proprietors_employment', 'Proprietors_income',\n",
       "       'Supplements_to_wages_and_salaries', 'Total_employment',\n",
       "       'Wage_and_salary_employment', 'Wages_and_salaries',\n",
       "       'Population_Estimate', 'Applications', 'Award_Amount'],\n",
       "      dtype='object')"
      ]
     },
     "execution_count": 4,
     "metadata": {},
     "output_type": "execute_result"
    }
   ],
   "source": [
    "patents_full.columns"
   ]
  },
  {
   "cell_type": "code",
   "execution_count": 5,
   "id": "5272c425-81f3-484c-bb40-6be4c9a6100a",
   "metadata": {},
   "outputs": [
    {
     "data": {
      "text/plain": [
       "patent_number                  object\n",
       "assignee                       object\n",
       "grant_year                    float64\n",
       "application_year                int64\n",
       "application_number              int64\n",
       "                               ...   \n",
       "Wage_and_salary_employment      int64\n",
       "Wages_and_salaries              int64\n",
       "Population_Estimate             int64\n",
       "Applications                    int64\n",
       "Award_Amount                  float64\n",
       "Length: 98, dtype: object"
      ]
     },
     "execution_count": 5,
     "metadata": {},
     "output_type": "execute_result"
    }
   ],
   "source": [
    "patents_full.dtypes"
   ]
  },
  {
   "cell_type": "markdown",
   "id": "8212a8e0-dd75-4e2b-a331-989c5e9fc92b",
   "metadata": {},
   "source": [
    "## Dropping Redundant Columns"
   ]
  },
  {
   "cell_type": "code",
   "execution_count": 6,
   "id": "2d64453f-3422-47f9-b77b-3ac0c7c725a1",
   "metadata": {},
   "outputs": [],
   "source": [
    "patents_full.drop(['year','inventors'], axis = 1, inplace = True)"
   ]
  },
  {
   "cell_type": "markdown",
   "id": "88d1fe20-9f1b-4f9f-b4fb-c53ea0a0b80f",
   "metadata": {},
   "source": [
    "## Renaming Columns"
   ]
  },
  {
   "cell_type": "code",
   "execution_count": 7,
   "id": "06467cd2-a051-4143-93c3-3c9e51c25653",
   "metadata": {},
   "outputs": [],
   "source": [
    "patents_full.rename(columns = \n",
    "                      {'patent_number':'patent_num',\n",
    "                      'grant_year':'grant_yr',\n",
    "                      'application_year':'app_yr',\n",
    "                      'application_number':'app_num',\n",
    "                      'ipc_section':'ipc',\n",
    "                      'level_r1':'r1',\n",
    "                      'level_r2':'r2',\n",
    "                      'Perc_Over25_LessNinthGrade':'Over25_Less9Grade',\n",
    "                      'Perc_Over25_SomeHighSchool':'Over25_SomeHS',\n",
    "                      'Perc_Over25_HighSchoolGrad':'Over25_HSGrad', \n",
    "                      'Perc_Over25_SomeCollege':'Over25_SomeCollege',\n",
    "                      'Perc_Over25_Assosciates':'Over25_Assosc',\n",
    "                      'Perc_Over25_Bachelors':'Over25_Bach',\n",
    "                      'Perc_Over25_Graduate':'Over25_Grad',\n",
    "                      'assignee_uni_clean2':'assignee_univ_map'}, inplace = True)"
   ]
  },
  {
   "cell_type": "markdown",
   "id": "c6e336fe-af01-475f-8547-f95a7e497ca5",
   "metadata": {},
   "source": [
    "## Creating Necessary Features"
   ]
  },
  {
   "cell_type": "markdown",
   "id": "977b77b9-5159-4e45-89b1-7694fbbc5ae4",
   "metadata": {},
   "source": [
    "### Women Involvement in Patent"
   ]
  },
  {
   "cell_type": "code",
   "execution_count": 8,
   "id": "8ba70ee7-67ac-4374-a7ce-d863d903aef2",
   "metadata": {},
   "outputs": [],
   "source": [
    "patents_full['women_involved'] = np.where(patents_full['women_inventors'] > 0, 1, 0)"
   ]
  },
  {
   "cell_type": "code",
   "execution_count": 9,
   "id": "88e9da5a-ae3c-4ded-b5b1-614ff4f337d9",
   "metadata": {},
   "outputs": [
    {
     "data": {
      "text/plain": [
       "0    1303441\n",
       "1     412278\n",
       "Name: women_involved, dtype: int64"
      ]
     },
     "execution_count": 9,
     "metadata": {},
     "output_type": "execute_result"
    }
   ],
   "source": [
    "patents_full['women_involved'].value_counts()"
   ]
  },
  {
   "cell_type": "markdown",
   "id": "62ded848",
   "metadata": {},
   "source": [
    "### Normalize some columns - THIS IS NOT CENTERING AND SCALING -"
   ]
  },
  {
   "cell_type": "markdown",
   "id": "89271170",
   "metadata": {},
   "source": [
    "#### GDP by labor force"
   ]
  },
  {
   "cell_type": "code",
   "execution_count": 10,
   "id": "77d6a1ba",
   "metadata": {},
   "outputs": [],
   "source": [
    "# Fixing an issue with how mhk managed the bea/census enumerations...Should go back and fix in the merges...\n",
    "patents_full['pop_gt_16_lf'] = np.where(patents_full['GEOID'] == '15005', 87051, patents_full['pop_gt_16_lf'])\n",
    "patents_full.query(\"GEOID != '15005'\" )['pop_gt_16_lf']\n",
    "patents_full['GDP_by_labor_force'] = patents_full['GDP']/patents_full['pop_gt_16_lf']"
   ]
  },
  {
   "cell_type": "markdown",
   "id": "c30d20bc",
   "metadata": {},
   "source": [
    "### Annual Payrol by number of establishments"
   ]
  },
  {
   "cell_type": "code",
   "execution_count": 11,
   "id": "c257a038",
   "metadata": {},
   "outputs": [],
   "source": [
    "patents_full['ap_by_est'] = patents_full['ap']/patents_full['est']\n",
    "# patents_full.hist(column = 'ap_by_est', bins = 100)\n",
    "# Show all columns in pandas\n",
    "# pd.set_option('display.max_columns', None)\n",
    "# patents_full.sort_values(by = 'ap_by_est', ascending = False).head(5)"
   ]
  },
  {
   "cell_type": "markdown",
   "id": "7e319390",
   "metadata": {},
   "source": [
    "### Establishments by Labor Force > 16"
   ]
  },
  {
   "cell_type": "code",
   "execution_count": 18,
   "id": "70e9c618",
   "metadata": {},
   "outputs": [
    {
     "data": {
      "text/plain": [
       "<AxesSubplot:xlabel='pop_gt_16_lf', ylabel='est'>"
      ]
     },
     "execution_count": 18,
     "metadata": {},
     "output_type": "execute_result"
    },
    {
     "data": {
      "image/png": "[encoded data removed]",
      "text/plain": [
       "<Figure size 432x288 with 1 Axes>"
      ]
     },
     "metadata": {
      "needs_background": "light"
     },
     "output_type": "display_data"
    }
   ],
   "source": [
    "patents_full['est_by_pop_gt_16_lf'] = patents_full['est']/patents_full['pop_gt_16_lf']\n",
    "# patents_full.hist(column = 'est_by_pop_gt_16_lf', bins = 100)\n",
    "# patents_full.boxplot(column = 'est_by_pop_gt_16_lf')\n",
    "# patents_full.plot.scatter(x = 'est', y = 'pop_gt_16_lf')\n",
    "# patents_full.sort_values(by = 'est_by_pop_gt_16_lf', ascending = False).head(5)\n",
    "# patents_full[['est_by_pop_gt_16_lf', 'est', 'pop_gt_16_lf', 'GEOID']].sort_values(by = 'est_by_pop_gt_16_lf', ascending = False).head(5)"
   ]
  },
  {
   "cell_type": "code",
   "execution_count": 33,
   "id": "68223b6c",
   "metadata": {},
   "outputs": [
    {
     "data": {
      "text/html": [
       "<div>\n",
       "<style scoped>\n",
       "    .dataframe tbody tr th:only-of-type {\n",
       "        vertical-align: middle;\n",
       "    }\n",
       "\n",
       "    .dataframe tbody tr th {\n",
       "        vertical-align: top;\n",
       "    }\n",
       "\n",
       "    .dataframe thead th {\n",
       "        text-align: right;\n",
       "    }\n",
       "</style>\n",
       "<table border=\"1\" class=\"dataframe\">\n",
       "  <thead>\n",
       "    <tr style=\"text-align: right;\">\n",
       "      <th></th>\n",
       "      <th>GEOID</th>\n",
       "      <th>Over25_Grad</th>\n",
       "      <th>0</th>\n",
       "    </tr>\n",
       "  </thead>\n",
       "  <tbody>\n",
       "    <tr>\n",
       "      <th>10608</th>\n",
       "      <td>51059</td>\n",
       "      <td>49.9</td>\n",
       "      <td>148</td>\n",
       "    </tr>\n",
       "    <tr>\n",
       "      <th>10607</th>\n",
       "      <td>51059</td>\n",
       "      <td>48.3</td>\n",
       "      <td>84</td>\n",
       "    </tr>\n",
       "    <tr>\n",
       "      <th>10606</th>\n",
       "      <td>51059</td>\n",
       "      <td>47.4</td>\n",
       "      <td>60</td>\n",
       "    </tr>\n",
       "    <tr>\n",
       "      <th>10605</th>\n",
       "      <td>51059</td>\n",
       "      <td>46.5</td>\n",
       "      <td>45</td>\n",
       "    </tr>\n",
       "    <tr>\n",
       "      <th>10604</th>\n",
       "      <td>51059</td>\n",
       "      <td>46.2</td>\n",
       "      <td>188</td>\n",
       "    </tr>\n",
       "    <tr>\n",
       "      <th>10603</th>\n",
       "      <td>51059</td>\n",
       "      <td>44.4</td>\n",
       "      <td>177</td>\n",
       "    </tr>\n",
       "    <tr>\n",
       "      <th>10602</th>\n",
       "      <td>51059</td>\n",
       "      <td>43.2</td>\n",
       "      <td>98</td>\n",
       "    </tr>\n",
       "    <tr>\n",
       "      <th>10601</th>\n",
       "      <td>51059</td>\n",
       "      <td>42.8</td>\n",
       "      <td>207</td>\n",
       "    </tr>\n",
       "    <tr>\n",
       "      <th>10600</th>\n",
       "      <td>51059</td>\n",
       "      <td>42.7</td>\n",
       "      <td>49</td>\n",
       "    </tr>\n",
       "    <tr>\n",
       "      <th>10599</th>\n",
       "      <td>51059</td>\n",
       "      <td>42.5</td>\n",
       "      <td>138</td>\n",
       "    </tr>\n",
       "    <tr>\n",
       "      <th>6469</th>\n",
       "      <td>35028</td>\n",
       "      <td>40.8</td>\n",
       "      <td>12</td>\n",
       "    </tr>\n",
       "    <tr>\n",
       "      <th>6468</th>\n",
       "      <td>35028</td>\n",
       "      <td>40.3</td>\n",
       "      <td>54</td>\n",
       "    </tr>\n",
       "    <tr>\n",
       "      <th>10514</th>\n",
       "      <td>51013</td>\n",
       "      <td>40.3</td>\n",
       "      <td>100</td>\n",
       "    </tr>\n",
       "    <tr>\n",
       "      <th>6467</th>\n",
       "      <td>35028</td>\n",
       "      <td>40.2</td>\n",
       "      <td>55</td>\n",
       "    </tr>\n",
       "    <tr>\n",
       "      <th>10513</th>\n",
       "      <td>51013</td>\n",
       "      <td>39.7</td>\n",
       "      <td>123</td>\n",
       "    </tr>\n",
       "    <tr>\n",
       "      <th>10512</th>\n",
       "      <td>51013</td>\n",
       "      <td>39.4</td>\n",
       "      <td>106</td>\n",
       "    </tr>\n",
       "    <tr>\n",
       "      <th>6466</th>\n",
       "      <td>35028</td>\n",
       "      <td>39.3</td>\n",
       "      <td>65</td>\n",
       "    </tr>\n",
       "    <tr>\n",
       "      <th>6465</th>\n",
       "      <td>35028</td>\n",
       "      <td>39.2</td>\n",
       "      <td>24</td>\n",
       "    </tr>\n",
       "    <tr>\n",
       "      <th>10511</th>\n",
       "      <td>51013</td>\n",
       "      <td>39.1</td>\n",
       "      <td>473</td>\n",
       "    </tr>\n",
       "    <tr>\n",
       "      <th>10510</th>\n",
       "      <td>51013</td>\n",
       "      <td>39.0</td>\n",
       "      <td>153</td>\n",
       "    </tr>\n",
       "  </tbody>\n",
       "</table>\n",
       "</div>"
      ],
      "text/plain": [
       "       GEOID  Over25_Grad    0\n",
       "10608  51059         49.9  148\n",
       "10607  51059         48.3   84\n",
       "10606  51059         47.4   60\n",
       "10605  51059         46.5   45\n",
       "10604  51059         46.2  188\n",
       "10603  51059         44.4  177\n",
       "10602  51059         43.2   98\n",
       "10601  51059         42.8  207\n",
       "10600  51059         42.7   49\n",
       "10599  51059         42.5  138\n",
       "6469   35028         40.8   12\n",
       "6468   35028         40.3   54\n",
       "10514  51013         40.3  100\n",
       "6467   35028         40.2   55\n",
       "10513  51013         39.7  123\n",
       "10512  51013         39.4  106\n",
       "6466   35028         39.3   65\n",
       "6465   35028         39.2   24\n",
       "10511  51013         39.1  473\n",
       "10510  51013         39.0  153"
      ]
     },
     "execution_count": 33,
     "metadata": {},
     "output_type": "execute_result"
    }
   ],
   "source": [
    "# patents_full.plot.scatter(x = 'Pop_Est', y = 'Over25_Grad')\n",
    "# patents_full.boxplot(column = 'Over25_Grad')\n",
    "# patents_full.groupby([\"GEOID\",'Over25_Grad']).size().reset_index().sort_values(by = 'Over25_Grad', ascending = False).head(20)\n",
    "# sort_values(by = 'Over25_Grad', ascending = False).head(10)"
   ]
  },
  {
   "cell_type": "markdown",
   "id": "7e88a74c-30eb-4825-b8a9-42711ffe442f",
   "metadata": {},
   "source": [
    "## Cleaning University Assignments\n",
    "\n",
    "Binary classification if research university or not, for three types of research universities"
   ]
  },
  {
   "cell_type": "code",
   "execution_count": 13,
   "id": "e89b49c8-348f-4cc5-af4e-854011b01766",
   "metadata": {},
   "outputs": [],
   "source": [
    "patents_full['r1'].fillna(0, inplace = True)\n",
    "patents_full['r2'].fillna(0, inplace = True)\n",
    "patents_full['special_focus'].fillna(0, inplace = True)"
   ]
  },
  {
   "cell_type": "code",
   "execution_count": 14,
   "id": "4c0def7c-07fb-4f40-a703-78af4f1f183f",
   "metadata": {},
   "outputs": [],
   "source": [
    "patents_full[['r1','r2','special_focus']] = patents_full[['r1','r2','special_focus']].astype('int')"
   ]
  },
  {
   "cell_type": "code",
   "execution_count": null,
   "id": "3d65bdb2-db4d-4c41-a5b6-406bf8a6c580",
   "metadata": {},
   "outputs": [],
   "source": [
    "patents_full.columns"
   ]
  },
  {
   "cell_type": "code",
   "execution_count": null,
   "id": "4f6c6de7-3071-4e51-9646-db625534a656",
   "metadata": {},
   "outputs": [],
   "source": [
    "patents_full.already_granted"
   ]
  },
  {
   "cell_type": "code",
   "execution_count": 16,
   "id": "6f084b7b",
   "metadata": {},
   "outputs": [
    {
     "data": {
      "text/html": [
       "<div>\n",
       "<style scoped>\n",
       "    .dataframe tbody tr th:only-of-type {\n",
       "        vertical-align: middle;\n",
       "    }\n",
       "\n",
       "    .dataframe tbody tr th {\n",
       "        vertical-align: top;\n",
       "    }\n",
       "\n",
       "    .dataframe thead th {\n",
       "        text-align: right;\n",
       "    }\n",
       "</style>\n",
       "<table border=\"1\" class=\"dataframe\">\n",
       "  <thead>\n",
       "    <tr style=\"text-align: right;\">\n",
       "      <th></th>\n",
       "      <th>patent_num</th>\n",
       "      <th>assignee</th>\n",
       "      <th>grant_yr</th>\n",
       "      <th>app_yr</th>\n",
       "      <th>app_num</th>\n",
       "      <th>GEOID</th>\n",
       "      <th>ipc</th>\n",
       "      <th>team_size</th>\n",
       "      <th>men_inventors</th>\n",
       "      <th>women_inventors</th>\n",
       "      <th>...</th>\n",
       "      <th>Wage_and_salary_employment</th>\n",
       "      <th>Wages_and_salaries</th>\n",
       "      <th>Population_Estimate</th>\n",
       "      <th>Applications</th>\n",
       "      <th>Award_Amount</th>\n",
       "      <th>women_involved</th>\n",
       "      <th>GDP_by_labor_force</th>\n",
       "      <th>ap_by_est</th>\n",
       "      <th>est_by_pop_gt_16_lf</th>\n",
       "      <th>diff</th>\n",
       "    </tr>\n",
       "  </thead>\n",
       "  <tbody>\n",
       "    <tr>\n",
       "      <th>584082</th>\n",
       "      <td>NaN</td>\n",
       "      <td>HALLIBURTON ENERGY SERVICES, INC.</td>\n",
       "      <td>NaN</td>\n",
       "      <td>2015</td>\n",
       "      <td>15748674</td>\n",
       "      <td>48201</td>\n",
       "      <td>NaN</td>\n",
       "      <td>3</td>\n",
       "      <td>3</td>\n",
       "      <td>0</td>\n",
       "      <td>...</td>\n",
       "      <td>2436066</td>\n",
       "      <td>167629149</td>\n",
       "      <td>4557846</td>\n",
       "      <td>46890</td>\n",
       "      <td>36531223.0</td>\n",
       "      <td>0</td>\n",
       "      <td>165.235782</td>\n",
       "      <td>1352.285046</td>\n",
       "      <td>0.044016</td>\n",
       "      <td>-201484</td>\n",
       "    </tr>\n",
       "    <tr>\n",
       "      <th>584083</th>\n",
       "      <td>NaN</td>\n",
       "      <td>Hewlett-Packard Development Company, L.P.</td>\n",
       "      <td>NaN</td>\n",
       "      <td>2015</td>\n",
       "      <td>15748614</td>\n",
       "      <td>48201</td>\n",
       "      <td>NaN</td>\n",
       "      <td>1</td>\n",
       "      <td>0</td>\n",
       "      <td>1</td>\n",
       "      <td>...</td>\n",
       "      <td>2436066</td>\n",
       "      <td>167629149</td>\n",
       "      <td>4557846</td>\n",
       "      <td>46890</td>\n",
       "      <td>36531223.0</td>\n",
       "      <td>1</td>\n",
       "      <td>165.235782</td>\n",
       "      <td>1352.285046</td>\n",
       "      <td>0.044016</td>\n",
       "      <td>-201484</td>\n",
       "    </tr>\n",
       "    <tr>\n",
       "      <th>584084</th>\n",
       "      <td>NaN</td>\n",
       "      <td>Hewlett-Packard Development Company, L.P.</td>\n",
       "      <td>NaN</td>\n",
       "      <td>2015</td>\n",
       "      <td>15748611</td>\n",
       "      <td>48201</td>\n",
       "      <td>NaN</td>\n",
       "      <td>3</td>\n",
       "      <td>2</td>\n",
       "      <td>1</td>\n",
       "      <td>...</td>\n",
       "      <td>2436066</td>\n",
       "      <td>167629149</td>\n",
       "      <td>4557846</td>\n",
       "      <td>46890</td>\n",
       "      <td>36531223.0</td>\n",
       "      <td>1</td>\n",
       "      <td>165.235782</td>\n",
       "      <td>1352.285046</td>\n",
       "      <td>0.044016</td>\n",
       "      <td>-201484</td>\n",
       "    </tr>\n",
       "    <tr>\n",
       "      <th>584085</th>\n",
       "      <td>NaN</td>\n",
       "      <td>Hewlett-Packard Development Company, L.P.</td>\n",
       "      <td>NaN</td>\n",
       "      <td>2015</td>\n",
       "      <td>15748870</td>\n",
       "      <td>48201</td>\n",
       "      <td>NaN</td>\n",
       "      <td>3</td>\n",
       "      <td>3</td>\n",
       "      <td>0</td>\n",
       "      <td>...</td>\n",
       "      <td>2436066</td>\n",
       "      <td>167629149</td>\n",
       "      <td>4557846</td>\n",
       "      <td>46890</td>\n",
       "      <td>36531223.0</td>\n",
       "      <td>0</td>\n",
       "      <td>165.235782</td>\n",
       "      <td>1352.285046</td>\n",
       "      <td>0.044016</td>\n",
       "      <td>-201484</td>\n",
       "    </tr>\n",
       "    <tr>\n",
       "      <th>583570</th>\n",
       "      <td>NaN</td>\n",
       "      <td>Hewlett-Packard Development Company, L.P.</td>\n",
       "      <td>NaN</td>\n",
       "      <td>2015</td>\n",
       "      <td>14864292</td>\n",
       "      <td>48201</td>\n",
       "      <td>NaN</td>\n",
       "      <td>4</td>\n",
       "      <td>2</td>\n",
       "      <td>2</td>\n",
       "      <td>...</td>\n",
       "      <td>2436066</td>\n",
       "      <td>167629149</td>\n",
       "      <td>4557846</td>\n",
       "      <td>46890</td>\n",
       "      <td>36531223.0</td>\n",
       "      <td>1</td>\n",
       "      <td>165.235782</td>\n",
       "      <td>1352.285046</td>\n",
       "      <td>0.044016</td>\n",
       "      <td>-201484</td>\n",
       "    </tr>\n",
       "  </tbody>\n",
       "</table>\n",
       "<p>5 rows × 101 columns</p>\n",
       "</div>"
      ],
      "text/plain": [
       "       patent_num                                   assignee  grant_yr  \\\n",
       "584082        NaN          HALLIBURTON ENERGY SERVICES, INC.       NaN   \n",
       "584083        NaN  Hewlett-Packard Development Company, L.P.       NaN   \n",
       "584084        NaN  Hewlett-Packard Development Company, L.P.       NaN   \n",
       "584085        NaN  Hewlett-Packard Development Company, L.P.       NaN   \n",
       "583570        NaN  Hewlett-Packard Development Company, L.P.       NaN   \n",
       "\n",
       "        app_yr   app_num  GEOID  ipc  team_size  men_inventors  \\\n",
       "584082    2015  15748674  48201  NaN          3              3   \n",
       "584083    2015  15748614  48201  NaN          1              0   \n",
       "584084    2015  15748611  48201  NaN          3              2   \n",
       "584085    2015  15748870  48201  NaN          3              3   \n",
       "583570    2015  14864292  48201  NaN          4              2   \n",
       "\n",
       "        women_inventors  ...  Wage_and_salary_employment Wages_and_salaries  \\\n",
       "584082                0  ...                     2436066          167629149   \n",
       "584083                1  ...                     2436066          167629149   \n",
       "584084                1  ...                     2436066          167629149   \n",
       "584085                0  ...                     2436066          167629149   \n",
       "583570                2  ...                     2436066          167629149   \n",
       "\n",
       "       Population_Estimate Applications  Award_Amount  women_involved  \\\n",
       "584082             4557846        46890    36531223.0               0   \n",
       "584083             4557846        46890    36531223.0               1   \n",
       "584084             4557846        46890    36531223.0               1   \n",
       "584085             4557846        46890    36531223.0               0   \n",
       "583570             4557846        46890    36531223.0               1   \n",
       "\n",
       "        GDP_by_labor_force    ap_by_est  est_by_pop_gt_16_lf    diff  \n",
       "584082          165.235782  1352.285046             0.044016 -201484  \n",
       "584083          165.235782  1352.285046             0.044016 -201484  \n",
       "584084          165.235782  1352.285046             0.044016 -201484  \n",
       "584085          165.235782  1352.285046             0.044016 -201484  \n",
       "583570          165.235782  1352.285046             0.044016 -201484  \n",
       "\n",
       "[5 rows x 101 columns]"
      ]
     },
     "execution_count": 16,
     "metadata": {},
     "output_type": "execute_result"
    }
   ],
   "source": [
    "# patents_full[['GEOID', 'app_yr', 'Pop_Est' ,'Population_Estimate', 'Total_employment', 'pop_gt_16_lf']]\n",
    "patents_full['diff'] = patents_full['Pop_Est'] - patents_full['Population_Estimate']\n",
    "patents_full.sort_values(by = 'diff', ascending = False).tail(5)"
   ]
  },
  {
   "cell_type": "markdown",
   "id": "6ab621f6-1d38-4af6-95dd-1870f8c43d61",
   "metadata": {
    "tags": []
   },
   "source": [
    "## Data Dictionary\n",
    "\n",
    "- patent_num: Patent Number\n",
    "- assignee: Assignee\n",
    "- grant_yr: Grant Year\n",
    "- app_yr: Application Year\n",
    "- app_num: Application Number\n",
    "- GEOID: GEOID\n",
    "- ipc: International Patent Application\n",
    "- team_size: Number of inventors\n",
    "- men_inventors: Number of men inventors for patent\n",
    "- women_inventors: Number of women inventors for patent\n",
    "- already_granted: 1/0 classification, 1 is patent has been granted\n",
    "- assignee_univ_map: If assignee is a resaerch university, this is what official university name it is mapped to\n",
    "- Institution: If assigne is research university, the name of university\n",
    "- Control: Public or private university\n",
    "- r1: 1/0 classification, 1 if assignee is r1 research university: Very high research activity\n",
    "- r2: 1/0 classification, 1 if assignee is r2 research university: High research activity\n",
    "- special_focus: 1/0 classification, 1 if research university that only awards degrees in one area\n",
    "- Over25_Less9Grade: % of GEOID over 25 years with less than 9th grade education\n",
    "- Over25_SomeHS': % of GEOID over 25 years with some high school education\n",
    "- Over25_HSGrad': % of GEOID over 25 years with high school diploma or equivalent\n",
    "- Over25_SomeCollege': % of GEOID over 25 years with some college education\n",
    "- Over25_Assosc': % of GEOID over 25 years with assosciate's degree\n",
    "- Over25_Bach': % of GEOID over 25 years with bachelor's degree \n",
    "- Over25_Grad': % of GEOID Over 25 years with graduate degree\n",
    "- bea_region: Bureau of Economic Analysis Region (https://www.icip.iastate.edu/maps/refmaps/bea)\n",
    "- North American Industrial Classification (NAICS) Code Location Quotient: (https://www.census.gov/programs-surveys/cbp/data/datasets.html)\n",
    "  - Agriculture_Forestry_Fishing_Hunting\n",
    "  - Mining_Quarrying_and_Oil_Gas_Extraction\n",
    "  - Utilities\n",
    "  - Construction   \n",
    "  - Manufacturing  \n",
    "  - Wholesale_Trade  \n",
    "  - Retail_Trade\n",
    "  - Transportation_Warehousing\n",
    "  - Information\n",
    "  - Finance_Insurance\n",
    "  - Real_Estate_Rental_Leasing\n",
    "  - Professional_Scientific_and_Technical_Services\n",
    "  - Management_of_Companies_Enterprises\n",
    "  - Administrative_Support_Waste_Management_Remediation_Services\n",
    "  - Educational_Services\n",
    "  - Health_Care_Social_Assistance\n",
    "  - Arts_Entertainment_and_Recreation \n",
    "  - Accommodation_Food_Services\n",
    "  - Other_Services_except_Public_Administration\n",
    "  - Agriculture_Forestry_Fishing_Hunting_base (1 in base 0 in non-base)\n",
    "  - Mining_Quarrying_and_Oil_Gas_Extraction_base (1 in base 0 in non-base)\n",
    "  - Utilities_base (1 in base 0 in non-base)\n",
    "  - Construction_base (1 in base 0 in non-base)\n",
    "  - Manufacturing_base (1 in base 0 in non-base)\n",
    "  - Wholesale_Trade_base (1 in base 0 in non-base)\n",
    "  - Retail_Trade_base (1 in base 0 in non-base)\n",
    "  - Transportation_Warehousing_base (1 in base 0 in non-base)\n",
    "  - Information_base (1 in base 0 in non-base)\n",
    "  - Finance_Insurance_base (1 in base 0 in non-base)\n",
    "  - Real_Estate_Rental_Leasing_base (1 in base 0 in non-base)\n",
    "  - Professional_Scientific_and_Technical_Services_base (1 in base 0 in non-base)\n",
    "  - Management_of_Companies_Enterprises_base (1 in base 0 in non-base)\n",
    "  - Administrative_Support_Waste_Management_Remediation_Services_base (1 in base 0 in non-base)\n",
    "  - Educational_Services_base  (1 in base 0 in non-base)\n",
    "  - Health_Care_Social_Assistance_base (1 in base 0 in non-base)\n",
    "  - Arts_Entertainment_and_Recreation_base (1 in base 0 in non-base)\n",
    "  - Accommodation_Food_Services_base (1 in base 0 in non-base)\n",
    "  - Other_Services_except_Public_Administration_base (1 in base 0 in non-base)\n",
    "- Other County Business Patterns Data ((https://www.census.gov/programs-surveys/cbp/data/datasets.html))\n",
    "  - qp1: County Business Patterns (CBP) 1st Quarter Payroll\n",
    "  - ap: County Business Patterns (CBP) annual Payroll\n",
    "  - est: County Business Patterns (CBP) number of establishments\n",
    "  - ap_by_est: ap/est\n",
    "  - est_by_pop_gt_16_lf: est/labor force over 16 years\n",
    "- GDP: Gross Domestic Product (GDP): All industry total in current dollars (Thousands of dollars) (https://apps.bea.gov/itable/iTable.cfm?ReqID=70&step=1&acrdn=5#reqid=70)\n",
    "- ACS DP03 SELECTED ECONOMIC CHARACTERISTICS (ACS DP03 2010-2022) (https://data.census.gov/cedsci/table?q=labor%20force&t=Employment%20and%20Labor%20Force%20Status&g=0100000US%240500000&tid=ACSDP5Y2020.DP03)\n",
    "  - pop_gt_16: American Community Survey (ACS) population over 16 years (field:DP03_0001E)\n",
    "  - pop_gt_16_lf: American Community Survey (ACS) population over 16 years in the labor force (field:DP03_0002E )\n",
    "  - pop_gt_16_lf_c: American Community Survey (ACS) population over 16 years in the civilian labor force (field:DP03_0003E)\n",
    "- Pop_Est: American Community Survey (ACS) population estimate (ACS DT5Y 2010-2022 , Field:B01003, Source : https://data.census.gov/cedsci/table?q=population&t=Populations%20and%20People&g=0100000US%240500000&tid=ACSST5Y2020.S0101)\n",
    "- women_involved: 1/0 classification, 1 if woman is on the team\n",
    "- Economic Indicators:\n",
    "  - Earnings_by_place_of_work\n",
    "  - Employee_and_self-employed_contributions_for_government_social_insurance\n",
    "  - Employer_contributions_for_employee_pension_and_insurance_funds\n",
    "  - Employer_contributions_for_government_social_insurance\n",
    "  - Equals_Net_earnings_by_place_of_residence\n",
    "  - Farm_income\n",
    "  - Farm_proprietors_income\n",
    "  - Less_Contributions_for_government_social_insurance\n",
    "  - Nonfarm_personal_income\n",
    "  - Nonfarm_proprietors_income\n",
    "  - Per_capita_personal_income_dollars\n",
    "  - Personal_income_thousands_of_dollars\n",
    "  - Plus_Adjustment_for_residence\n",
    "  - Plus_Dividends_interest_and_rent\n",
    "  - Plus_Personal_current_transfer_receipts\n",
    "  - Population_persons\n",
    "  - Proprietors_employment\n",
    "  - Proprietors_income\n",
    "  - Supplements_to_wages_and_salaries\n",
    "  - Total_employment\n",
    "  - Wage_and_salary_employment\n",
    "  - Wages_and_salaries\n",
    "  - Population_Estimate\n",
    "  - Applications\n",
    "  - Award_Amount"
   ]
  },
  {
   "cell_type": "markdown",
   "id": "89425ed9",
   "metadata": {},
   "source": [
    "- Categorical:\n",
    "\t- ipc - Mulitiple IPC in one column [b,c,d ] * this data is only available for granted patents.\n",
    "\t- already_granted - Done\n",
    "\t- Control - Public  = 0 : Private = 1\n",
    "\t- r1\n",
    "\t- r2\n",
    "\t- special_focus\n",
    "\t- bea_region\n",
    "\t- Agriculture_Forestry_Fishing_Hunting_base\n",
    "\t- Mining_Quarrying_and_Oil_Gas_Extraction_base\n",
    "\t- Utilities_base\n",
    "\t- Construction_base\n",
    "\t- Manufacturing_base\n",
    "\t- Wholesale_Trade_base\n",
    "\t- Retail_Trade_base\n",
    "\t- Transportation_Warehousing_base\n",
    "\t- Information_base\n",
    "\t- Finance_Insurance_base\n",
    "\t- Real_Estate_Rental_Leasing_base\n",
    "\t- Professional_Scientific_and_Technical_Services_base\n",
    "\t- Management_of_Companies_Enterprises_base\n",
    "\t- Administrative_Support_Waste_Management_Remediation_Services_base\n",
    "\t- Educational_Services_base\n",
    "\t- Health_Care_Social_Assistance_base\n",
    "\t- Arts_Entertainment_and_Recreation_base\n",
    "\t- Accommodation_Food_Services_base\n",
    "\t- Other_Services_except_Public_Administration_base\n",
    "\n",
    "- Numeric:\n",
    "\t- team_size\n",
    "\t- men_inventors\n",
    "\t- women_inventors\n",
    "\t- Over25_Less9Grade\n",
    "\t- Over25_SomeHS\n",
    "\t- Over25_HSGrad\n",
    "\t- Over25_SomeCollege\n",
    "\t- Over25_Assosc\n",
    "\t- Over25_Bach\n",
    "\t- Over25_Grad\t\n",
    "\t- ap_by_est\n",
    "\t- pop_gt_16_lf\n",
    "\t- est_by_pop_gt_16_lf\n",
    "\t- Total_employment\n",
    "\t- Pop_Est\n",
    "\t- Population_Estimate\n",
    "\t- Population_persons\n",
    "\t- Earnings_by_place_of_work\n",
    "\t- Employee_and_self-employed_contributions_for_government_social_insurance\n",
    "\t- Employer_contributions_for_employee_pension_and_insurance_funds\n",
    "\t- Employer_contributions_for_government_social_insurance\n",
    "\t- Equals_Net_earnings_by_place_of_residence\n",
    "\t- Farm_income\n",
    "\t- Farm_proprietors_income\n",
    "\t- Less_Contributions_for_government_social_insurance\n",
    "\t- Nonfarm_personal_income\n",
    "\t- Nonfarm_proprietors_income\n",
    "\t- Per_capita_personal_income_dollars\n",
    "\t- Personal_income_thousands_of_dollars\n",
    "\t- Plus_Adjustment_for_residence\n",
    "\t- Plus_Dividends_interest_and_rent\n",
    "\t- Plus_Personal_current_transfer_receipts\t\n",
    "\t- Proprietors_employment\n",
    "\t- Proprietors_income\n",
    "\t- Supplements_to_wages_and_salaries\t\n",
    "\t- Wage_and_salary_employment\n",
    "\t- Wages_and_salaries\t\n",
    "\t- Applications\n",
    "\t- Award_Amount\n",
    "\t\n",
    "- Dependent:\n",
    "\t- women_involved\n",
    "\t- GDP_by_labor_force"
   ]
  },
  {
   "cell_type": "markdown",
   "id": "1cf03843",
   "metadata": {},
   "source": []
  },
  {
   "cell_type": "markdown",
   "id": "cd11fb1c",
   "metadata": {},
   "source": [
    "## Scale and Center (Standardize) Data in the context of a pipeline.\n"
   ]
  },
  {
   "cell_type": "code",
   "execution_count": 34,
   "id": "7be4ac38",
   "metadata": {},
   "outputs": [],
   "source": [
    "from sklearn.preprocessing import StandardScaler"
   ]
  },
  {
   "cell_type": "markdown",
   "id": "95b59e36-aaf2-4b21-82fc-d9da05ce1a30",
   "metadata": {},
   "source": [
    "## Split Data\n",
    "\n",
    "- Consider splitting the data into a training and test set randomly, not by time for Logistic Regression.\n",
    "- Consider grouping by county, year and then randomly splitting data into train/test."
   ]
  },
  {
   "cell_type": "code",
   "execution_count": null,
   "id": "a0b3e6ab-1f06-4638-8ecd-2bdc7fd50fd4",
   "metadata": {},
   "outputs": [],
   "source": [
    "### Train & Validation Data: Application Years 2010-2017\n",
    "patents_train_val = patents_full.query(\"app_yr >= 2010 & app_yr <= 2017\")\n",
    "patents_train_val.shape"
   ]
  },
  {
   "cell_type": "code",
   "execution_count": null,
   "id": "84c1a250-d29d-4135-bdb6-1281fce098b4",
   "metadata": {},
   "outputs": [],
   "source": [
    "## Test Data Application Years: 2018-2019\n",
    "\n",
    "patents_test_val = patents_full.query(\"app_yr >= 2018 & app_yr <= 2019\")\n",
    "patents_test_val.shape"
   ]
  },
  {
   "cell_type": "markdown",
   "id": "54d020c6-803c-4400-8199-34c425269eae",
   "metadata": {},
   "source": [
    "## Save Data"
   ]
  },
  {
   "cell_type": "code",
   "execution_count": null,
   "id": "1210b327-c247-41b3-a9ad-73aaa6415787",
   "metadata": {},
   "outputs": [],
   "source": [
    "patents_train_val.to_csv('patents_full_train.csv')\n",
    "patents_test_val.to_csv('patents_full_test.csv')"
   ]
  },
  {
   "cell_type": "code",
   "execution_count": null,
   "id": "11e665a7",
   "metadata": {},
   "outputs": [],
   "source": []
  }
 ],
 "metadata": {
  "kernelspec": {
   "display_name": "Python 3.9.12 ('UVACapstone')",
   "language": "python",
   "name": "python3"
  },
  "language_info": {
   "codemirror_mode": {
    "name": "ipython",
    "version": 3
   },
   "file_extension": ".py",
   "mimetype": "text/x-python",
   "name": "python",
   "nbconvert_exporter": "python",
   "pygments_lexer": "ipython3",
   "version": "3.9.12"
  },
  "vscode": {
   "interpreter": {
    "hash": "1320d6b9c24963eeab91ed3c1b469bbfc0dc38b81cdaee0abc39ad090f12f690"
   }
  }
 },
 "nbformat": 4,
 "nbformat_minor": 5
}
