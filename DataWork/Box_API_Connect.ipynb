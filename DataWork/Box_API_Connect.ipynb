{
 "cells": [
  {
   "cell_type": "markdown",
   "id": "8c792ca8-4c33-486e-a208-68a4e4fb22a9",
   "metadata": {},
   "source": [
    "# Connecting to BOX API\n",
    "\n",
    "Box's documentation: https://github.com/box/box-python-sdk"
   ]
  },
  {
   "cell_type": "code",
   "execution_count": 52,
   "id": "9495827c-1d6f-42b1-9d97-c87b5084c2b3",
   "metadata": {},
   "outputs": [],
   "source": [
    "from boxsdk import DevelopmentClient\n",
    "import pandas as pd\n",
    "import dotenv\n",
    "import os"
   ]
  },
  {
   "cell_type": "markdown",
   "id": "0ebf3187-3428-4989-9ee8-4ef014916e74",
   "metadata": {},
   "source": [
    "## Set dotenv location"
   ]
  },
  {
   "cell_type": "code",
   "execution_count": 53,
   "id": "41b751fb-afce-4bb8-a19d-62296ee2008b",
   "metadata": {},
   "outputs": [
    {
     "data": {
      "text/plain": [
       "True"
      ]
     },
     "execution_count": 53,
     "metadata": {},
     "output_type": "execute_result"
    }
   ],
   "source": [
    "# env_location =  ###location of dotenv file\n",
    "\n",
    "os.chdir(env_location)\n",
    "dotenv.load_dotenv() # register the .env file where passwords are stored"
   ]
  },
  {
   "cell_type": "markdown",
   "id": "62ba52e7-adf9-4e4e-a603-673af4cfa7a2",
   "metadata": {},
   "source": [
    "## Obtain Client_ID and Client Secret\n",
    "\n",
    "1) Create an app on the dev console: https://developer.box.com/. Name it.\n",
    "2) Navigate to 'Configure' to obtain the CLIENT_ID, and CLIENT_SECRET. Add these to the dotenv file.\n",
    "3) The access token expires every hour so you will have to copy and paste a new one."
   ]
  },
  {
   "cell_type": "code",
   "execution_count": 76,
   "id": "de30b7cf-9f5c-4a5e-9dd1-3ab9650daffe",
   "metadata": {},
   "outputs": [],
   "source": [
    "CLIENT_ID = os.getenv(\"box_client_id\")\n",
    "CLIENT_SECRET = os.getenv(\"box_client_secret\")\n",
    "# TOKEN = '' ##copy and paste from dev"
   ]
  },
  {
   "cell_type": "markdown",
   "id": "b746af81-8828-416e-bee3-fbb092baa2e6",
   "metadata": {},
   "source": [
    "## Use OAuth2 to input credentials and create client"
   ]
  },
  {
   "cell_type": "code",
   "execution_count": 55,
   "id": "d5c1020b-8bd7-424a-a8f7-a806d4eb9eb9",
   "metadata": {},
   "outputs": [
    {
     "name": "stdout",
     "output_type": "stream",
     "text": [
      "logged into Box as txc5ve@virginia.edu\n"
     ]
    }
   ],
   "source": [
    "from boxsdk import OAuth2, Client\n",
    "\n",
    "oauth = OAuth2(\n",
    "    client_id=CLIENT_ID,\n",
    "    client_secret=CLIENT_SECRET,\n",
    "    access_token=TOKEN,\n",
    ")\n",
    "\n",
    "box = Client(oauth)\n",
    "\n",
    "me = box.user().get()\n",
    "\n",
    "print('logged into Box as', me.login)"
   ]
  },
  {
   "cell_type": "markdown",
   "id": "b1b0025a-5757-444e-88fa-0e18ee07dec2",
   "metadata": {},
   "source": [
    "## Navigating Folders (The Box documentation at the top gives good instructions in detail)"
   ]
  },
  {
   "cell_type": "code",
   "execution_count": 57,
   "id": "9aeae218-3c1a-42b6-b677-e34b12aa20c6",
   "metadata": {},
   "outputs": [
    {
     "name": "stdout",
     "output_type": "stream",
     "text": [
      "<Box Folder - 166970315293 (Patents22)>\n"
     ]
    }
   ],
   "source": [
    "MY_FOLDER_ID = 0\n",
    "my_folder = box.folder(MY_FOLDER_ID).get()\n",
    "my_folder\n",
    "items = my_folder.get_items()\n",
    "items\n",
    "for i in items:\n",
    "    print(i)"
   ]
  },
  {
   "cell_type": "markdown",
   "id": "58f2534a-c872-4799-afdb-c8bef392cd52",
   "metadata": {},
   "source": [
    "## Getting contents from a file\n",
    "\n",
    "Navigate to the file on Box and the id is the end of the url."
   ]
  },
  {
   "cell_type": "code",
   "execution_count": 62,
   "id": "2a2685e5-2216-4db5-8513-6a94910e5ac3",
   "metadata": {},
   "outputs": [
    {
     "data": {
      "text/plain": [
       "<Box File - 986422954286 (r1_universities.csv)>"
      ]
     },
     "execution_count": 62,
     "metadata": {},
     "output_type": "execute_result"
    }
   ],
   "source": [
    "file_id = '986422954286'\n",
    "file = box.file(file_id).get()\n",
    "file"
   ]
  },
  {
   "cell_type": "code",
   "execution_count": 65,
   "id": "56b4c499-823a-4a2e-bd12-48f8c828e343",
   "metadata": {},
   "outputs": [
    {
     "data": {
      "text/plain": [
       "b',Institution,Control,City,State\\r\\n0,Arizona State University Campus Immersion,Public,Tempe,AZ\\r\\n1,Auburn University,Public,Auburn,AL\\r\\n2,Baylor University,Private (non-profit),Waco,TX\\r\\n3,Binghamton University,Public,Vestal,NY\\r\\n4,Boston College,Private (non-profit),Chestnut Hill,MA\\r\\n5,Boston University,Private (non-profit),Boston,MA\\r\\n6,Brandeis University,Private (non-profit),Waltham,MA\\r\\n7,Brown University,Private (non-profit),Providence,RI\\r\\n8,California Institute of Technology,Private (non-profit),Pasadena,CA\\r\\n9,Carnegie Mellon University,Private (non-profit),Pittsburgh,PA\\r\\n10,Case Western Reserve University,Private (non-profit),Cleveland,OH\\r\\n11,Clemson University,Public,Clemson,SC\\r\\n12,Colorado School of Mines,Public,Golden,CO\\r\\n13,Colorado State University,Public,Fort Collins,CO\\r\\n14,Columbia University,Private (non-profit),New York,NY\\r\\n15,Cornell University,Private (non-profit),Ithaca,NY\\r\\n16,Dartmouth College,Private (non-profit),Hanover,NH\\r\\n17,Drexel University,Private (non-profit),Philadelphia,PA\\r\\n18,Duke University,Private (non-profit),Durham,NC\\r\\n19,Emory University,Private (non-profit),Atlanta,GA\\r\\n20,Florida International University,Public,Miami,FL\\r\\n21,Florida State University,Public,Tallahassee,FL\\r\\n22,George Mason University,Public,Fairfax,VA\\r\\n23,George Washington University,Private (non-profit),Washington,DC\\r\\n24,Georgetown University,Private (non-profit),Washington,DC\\r\\n25,Georgia Institute of Technology,Public,Atlanta,GA\\r\\n26,Georgia State University,Public,Atlanta,GA\\r\\n27,\"Graduate Center, CUNY\",Public,New York,NY\\r\\n28,Harvard University,Private (non-profit),Cambridge,MA\\r\\n29,Indiana University Bloomington,Public,Bloomington,IN\\r\\n30,Iowa State University,Public,Ames,IA\\r\\n31,Johns Hopkins University,Private (non-profit),Baltimore,MD\\r\\n32,Kansas State University,Public,Manhattan,KS\\r\\n33,Kent State University,Public,Kent,OH\\r\\n34,Louisiana State University,Public,Baton Rouge,LA\\r\\n35,Massachusetts Institute of Technology,Private (non-profit),Cambridge,MA\\r\\n36,Michigan State University,Public,East Lansing,MI\\r\\n37,Mississippi State University,Public,Mississippi State,MS\\r\\n38,Montana State University,Public,Bozeman,MT\\r\\n39,New Jersey Institute of Technology,Public,Newark,NJ\\r\\n40,New York University,Private (non-profit),New York,NY\\r\\n41,North Carolina State University,Public,Raleigh,NC\\r\\n42,North Dakota State University,Public,Fargo,ND\\r\\n43,Northeastern University,Private (non-profit),Boston,MA\\r\\n44,Northwestern University,Private (non-profit),Evanston,IL\\r\\n45,Ohio State University,Public,Columbus,OH\\r\\n46,Ohio University,Public,Athens,OH\\r\\n47,Oklahoma State University\\xe2\\x80\\x93Stillwater,Public,Stillwater,OK\\r\\n48,Old Dominion University,Public,Norfolk,VA\\r\\n49,Oregon State University,Public,Corvallis,OR\\r\\n50,Pennsylvania State University,Public,University Park,PA\\r\\n51,Princeton University,Private (non-profit),Princeton,NJ\\r\\n52,Purdue University,Public,West Lafayette,IN\\r\\n53,Rensselaer Polytechnic Institute,Private (non-profit),Troy,NY\\r\\n54,Rice University,Private (non-profit),Houston,TX\\r\\n55,Rutgers University\\xe2\\x80\\x93New Brunswick,Public,New Brunswick,NJ\\r\\n56,Stanford University,Private (non-profit),Stanford,CA\\r\\n57,Stony Brook University,Public,Stony Brook,NY\\r\\n58,Syracuse University,Private (non-profit),Syracuse,NY\\r\\n59,Temple University,Public,Philadelphia,PA\\r\\n60,Texas A&M University,Public,College Station,TX\\r\\n61,Texas Tech University,Public,Lubbock,TX\\r\\n62,Tufts University,Private (non-profit),Medford,MA\\r\\n63,Tulane University,Private (non-profit),New Orleans,LA\\r\\n64,\"University at Albany, SUNY\",Public,Albany,NY\\r\\n65,University at Buffalo,Public,Buffalo,NY\\r\\n66,University of Alabama,Public,Tuscaloosa,AL\\r\\n67,University of Alabama at Birmingham,Public,Birmingham,AL\\r\\n68,University of Alabama in Huntsville,Public,Huntsville,AL\\r\\n69,University of Arizona,Public,Tucson,AZ\\r\\n70,University of Arkansas,Public,Fayetteville,AR\\r\\n71,\"University of California, Berkeley\",Public,Berkeley,CA\\r\\n72,\"University of California, Davis\",Public,Davis,CA\\r\\n73,\"University of California, Irvine\",Public,Irvine,CA\\r\\n74,\"University of California, Los Angeles\",Public,Los Angeles,CA\\r\\n75,\"University of California, Riverside\",Public,Riverside,CA\\r\\n76,\"University of California, San Diego\",Public,San Diego,CA\\r\\n77,\"University of California, Santa Barbara\",Public,Santa Barbara,CA\\r\\n78,\"University of California, Santa Cruz\",Public,Santa Cruz,CA\\r\\n79,University of Central Florida,Public,Orlando,FL\\r\\n80,University of Chicago,Private (non-profit),Chicago,IL\\r\\n81,University of Cincinnati,Public,Cincinnati,OH\\r\\n82,University of Colorado Boulder,Public,Boulder,CO\\r\\n83,University of Colorado Denver,Public,Denver,CO\\r\\n84,University of Connecticut,Public,Storrs,CT\\r\\n85,University of Delaware,Public,Newark,DE\\r\\n86,University of Denver,Private (non-profit),Denver,CO\\r\\n87,University of Florida,Public,Gainesville,FL\\r\\n88,University of Georgia,Public,Athens,GA\\r\\n89,University of Hawaii at Manoa,Public,Honolulu,HI\\r\\n90,University of Houston,Public,Houston,TX\\r\\n91,University of Illinois Chicago,Public,Chicago,IL\\r\\n92,University of Illinois Urbana-Champaign,Public,Champaign,IL\\r\\n93,University of Iowa,Public,Iowa City,IA\\r\\n94,University of Kansas,Public,Lawrence,KS\\r\\n95,University of Kentucky,Public,Lexington,KY\\r\\n96,University of Louisiana at Lafayette,Public,Lafayette,LA\\r\\n97,University of Louisville,Public,Louisville,KY\\r\\n98,University of Maine,Public,Orono,ME\\r\\n99,\"University of Maryland, Baltimore County\",Public,Baltimore,MD\\r\\n100,\"University of Maryland, College Park\",Public,College Park,MD\\r\\n101,University of Massachusetts Amherst,Public,Amherst,MA\\r\\n102,University of Memphis,Public,Memphis,TN\\r\\n103,University of Miami,Private (non-profit),Coral Gables,FL\\r\\n104,University of Michigan,Public,Ann Arbor,MI\\r\\n105,University of Minnesota,Public,Minneapolis,MN\\r\\n106,University of Mississippi,Public,Oxford,MS\\r\\n107,University of Missouri,Public,Columbia,MO\\r\\n108,University of Montana,Public,Missoula,MT\\r\\n109,University of Nebraska\\xe2\\x80\\x93Lincoln,Public,Lincoln,NE\\r\\n110,\"University of Nevada, Las Vegas\",Public,Las Vegas,NV\\r\\n111,\"University of Nevada, Reno\",Public,Reno,NV\\r\\n112,University of New Hampshire,Public,Durham,NH\\r\\n113,University of New Mexico,Public,Albuquerque,NM\\r\\n114,University of North Carolina at Chapel Hill,Public,Chapel Hill,NC\\r\\n115,University of North Texas,Public,Denton,TX\\r\\n116,University of Notre Dame,Private (non-profit),Notre Dame,IN\\r\\n117,University of Oklahoma,Public,Norman,OK\\r\\n118,University of Oregon,Public,Eugene,OR\\r\\n119,University of Pennsylvania,Private (non-profit),Philadelphia,PA\\r\\n120,University of Pittsburgh,Public,Pittsburgh,PA\\r\\n121,University of Rochester,Private (non-profit),Rochester,NY\\r\\n122,University of South Carolina,Public,Columbia,SC\\r\\n123,University of South Florida,Public,Tampa,FL\\r\\n124,University of Southern California,Private (non-profit),Los Angeles,CA\\r\\n125,University of Southern Mississippi,Public,Hattiesburg,MS\\r\\n126,University of Tennessee,Public,Knoxville,TN\\r\\n127,University of Texas at Arlington,Public,Arlington,TX\\r\\n128,University of Texas at Austin,Public,Austin,TX\\r\\n129,University of Texas at Dallas,Public,Richardson,TX\\r\\n130,University of Texas at El Paso,Public,El Paso,TX\\r\\n131,University of Texas at San Antonio,Public,San Antonio,TX\\r\\n132,University of Utah,Public,Salt Lake City,UT\\r\\n133,University of Virginia,Public,Charlottesville,VA\\r\\n134,University of Washington,Public,Seattle,WA\\r\\n135,University of Wisconsin\\xe2\\x80\\x93Madison,Public,Madison,WI\\r\\n136,University of Wisconsin\\xe2\\x80\\x93Milwaukee,Public,Milwaukee,WI\\r\\n137,Utah State University,Public,Logan,UT\\r\\n138,Vanderbilt University,Private (non-profit),Nashville,TN\\r\\n139,Virginia Commonwealth University,Public,Richmond,VA\\r\\n140,Virginia Tech,Public,Blacksburg,VA\\r\\n141,Washington State University,Public,Pullman,WA\\r\\n142,Washington University in St. Louis,Private (non-profit),Saint Louis,MO\\r\\n143,Wayne State University,Public,Detroit,MI\\r\\n144,West Virginia University,Public,Morgantown,WV\\r\\n145,Yale University,Private (non-profit),New Haven,CT\\r\\n'"
      ]
     },
     "execution_count": 65,
     "metadata": {},
     "output_type": "execute_result"
    }
   ],
   "source": [
    "file_content = box.file(file_id).content()\n",
    "file_content"
   ]
  },
  {
   "cell_type": "markdown",
   "id": "b2b118b4-91da-4521-ba9b-9fc115c5490c",
   "metadata": {},
   "source": [
    "## Writing Contents to a File---- Stopping point -- Need to figure out how to write bytes back to csv"
   ]
  },
  {
   "cell_type": "code",
   "execution_count": 70,
   "id": "ed50c08a-6ccb-4dc2-bb72-3e214b69ba94",
   "metadata": {},
   "outputs": [
    {
     "data": {
      "text/plain": [
       "'C:\\\\Users\\\\trent\\\\Documents\\\\Capstone\\\\test.csv'"
      ]
     },
     "execution_count": 70,
     "metadata": {},
     "output_type": "execute_result"
    }
   ],
   "source": [
    "file_name = 'test'\n",
    "file_type = '.csv'\n",
    "path = env_location + '\\\\'+ file_name + file_type\n",
    "path"
   ]
  },
  {
   "cell_type": "code",
   "execution_count": 75,
   "id": "90e225e1-122b-42d9-aeb6-0724dce74fcb",
   "metadata": {},
   "outputs": [],
   "source": [
    "output_file = open(path, 'wb')\n",
    "box.file(file_id).download_to(output_file)"
   ]
  }
 ],
 "metadata": {
  "kernelspec": {
   "display_name": "Python 3 (ipykernel)",
   "language": "python",
   "name": "python3"
  },
  "language_info": {
   "codemirror_mode": {
    "name": "ipython",
    "version": 3
   },
   "file_extension": ".py",
   "mimetype": "text/x-python",
   "name": "python",
   "nbconvert_exporter": "python",
   "pygments_lexer": "ipython3",
   "version": "3.9.12"
  }
 },
 "nbformat": 4,
 "nbformat_minor": 5
}
