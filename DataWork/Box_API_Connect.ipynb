{
 "cells": [
  {
   "cell_type": "markdown",
   "id": "8c792ca8-4c33-486e-a208-68a4e4fb22a9",
   "metadata": {},
   "source": [
    "# Connecting to BOX API\n",
    "\n",
    "Box's documentation: https://github.com/box/box-python-sdk"
   ]
  },
  {
   "cell_type": "code",
   "execution_count": 80,
   "id": "9495827c-1d6f-42b1-9d97-c87b5084c2b3",
   "metadata": {},
   "outputs": [],
   "source": [
    "from boxsdk import DevelopmentClient\n",
    "import pandas as pd\n",
    "import dotenv\n",
    "import os\n",
    "from io import BytesIO"
   ]
  },
  {
   "cell_type": "markdown",
   "id": "0ebf3187-3428-4989-9ee8-4ef014916e74",
   "metadata": {},
   "source": [
    "## Set dotenv location"
   ]
  },
  {
   "cell_type": "code",
   "execution_count": 86,
   "id": "41b751fb-afce-4bb8-a19d-62296ee2008b",
   "metadata": {},
   "outputs": [
    {
     "data": {
      "text/plain": [
       "True"
      ]
     },
     "execution_count": 86,
     "metadata": {},
     "output_type": "execute_result"
    }
   ],
   "source": [
    "# env_location =  ###location of dotenv file\n",
    "\n",
    "os.chdir(env_location)\n",
    "dotenv.load_dotenv() # register the .env file where passwords are stored"
   ]
  },
  {
   "cell_type": "markdown",
   "id": "62ba52e7-adf9-4e4e-a603-673af4cfa7a2",
   "metadata": {},
   "source": [
    "## Obtain Client_ID and Client Secret\n",
    "\n",
    "1) Create an app on the dev console: https://developer.box.com/. Name it.\n",
    "2) Navigate to 'Configure' to obtain the CLIENT_ID, and CLIENT_SECRET. Add these to the dotenv file.\n",
    "3) The access token expires every hour so you will have to copy and paste a new one."
   ]
  },
  {
   "cell_type": "code",
   "execution_count": 87,
   "id": "de30b7cf-9f5c-4a5e-9dd1-3ab9650daffe",
   "metadata": {},
   "outputs": [],
   "source": [
    "CLIENT_ID = os.getenv(\"box_client_id\")\n",
    "CLIENT_SECRET = os.getenv(\"box_client_secret\")\n",
    "# TOKEN = '' ##copy and paste from dev"
   ]
  },
  {
   "cell_type": "markdown",
   "id": "b746af81-8828-416e-bee3-fbb092baa2e6",
   "metadata": {},
   "source": [
    "## Use OAuth2 to input credentials and create client"
   ]
  },
  {
   "cell_type": "code",
   "execution_count": 88,
   "id": "d5c1020b-8bd7-424a-a8f7-a806d4eb9eb9",
   "metadata": {},
   "outputs": [
    {
     "name": "stdout",
     "output_type": "stream",
     "text": [
      "logged into Box as txc5ve@virginia.edu\n"
     ]
    }
   ],
   "source": [
    "from boxsdk import OAuth2, Client\n",
    "\n",
    "oauth = OAuth2(\n",
    "    client_id=CLIENT_ID,\n",
    "    client_secret=CLIENT_SECRET,\n",
    "    access_token=TOKEN,\n",
    ")\n",
    "\n",
    "box = Client(oauth)\n",
    "\n",
    "me = box.user().get()\n",
    "\n",
    "print('logged into Box as', me.login)"
   ]
  },
  {
   "cell_type": "markdown",
   "id": "b1b0025a-5757-444e-88fa-0e18ee07dec2",
   "metadata": {},
   "source": [
    "## Navigating Folders (The Box documentation at the top gives good instructions in detail)"
   ]
  },
  {
   "cell_type": "code",
   "execution_count": 89,
   "id": "9aeae218-3c1a-42b6-b677-e34b12aa20c6",
   "metadata": {},
   "outputs": [
    {
     "name": "stdout",
     "output_type": "stream",
     "text": [
      "<Box Folder - 166970315293 (Patents22)>\n"
     ]
    }
   ],
   "source": [
    "MY_FOLDER_ID = 0\n",
    "my_folder = box.folder(MY_FOLDER_ID).get()\n",
    "my_folder\n",
    "items = my_folder.get_items()\n",
    "items\n",
    "for i in items:\n",
    "    print(i)"
   ]
  },
  {
   "cell_type": "markdown",
   "id": "58f2534a-c872-4799-afdb-c8bef392cd52",
   "metadata": {},
   "source": [
    "## Getting contents from a file\n",
    "\n",
    "Navigate to the file on Box and the id is the end of the url."
   ]
  },
  {
   "cell_type": "code",
   "execution_count": 91,
   "id": "2a2685e5-2216-4db5-8513-6a94910e5ac3",
   "metadata": {},
   "outputs": [
    {
     "data": {
      "text/plain": [
       "<Box File - 988549931799 (universities.csv)>"
      ]
     },
     "execution_count": 91,
     "metadata": {},
     "output_type": "execute_result"
    }
   ],
   "source": [
    "file_id = '988549931799'\n",
    "file = box.file(file_id).get()\n",
    "file"
   ]
  },
  {
   "cell_type": "code",
   "execution_count": 96,
   "id": "56b4c499-823a-4a2e-bd12-48f8c828e343",
   "metadata": {},
   "outputs": [],
   "source": [
    "file_content = box.file(file_id).content()\n",
    "# file_content"
   ]
  },
  {
   "cell_type": "markdown",
   "id": "b2b118b4-91da-4521-ba9b-9fc115c5490c",
   "metadata": {},
   "source": [
    "## Putting Contents into a DataFrame"
   ]
  },
  {
   "cell_type": "code",
   "execution_count": 94,
   "id": "165d3ac7-0147-4300-814f-e4c1f60632c1",
   "metadata": {},
   "outputs": [],
   "source": [
    "df = pd.read_csv(BytesIO(file_content))"
   ]
  },
  {
   "cell_type": "code",
   "execution_count": 95,
   "id": "90f7da67-5978-49d0-8a44-1d3d1b55dba8",
   "metadata": {},
   "outputs": [
    {
     "data": {
      "text/html": [
       "<div>\n",
       "<style scoped>\n",
       "    .dataframe tbody tr th:only-of-type {\n",
       "        vertical-align: middle;\n",
       "    }\n",
       "\n",
       "    .dataframe tbody tr th {\n",
       "        vertical-align: top;\n",
       "    }\n",
       "\n",
       "    .dataframe thead th {\n",
       "        text-align: right;\n",
       "    }\n",
       "</style>\n",
       "<table border=\"1\" class=\"dataframe\">\n",
       "  <thead>\n",
       "    <tr style=\"text-align: right;\">\n",
       "      <th></th>\n",
       "      <th>Unnamed: 0</th>\n",
       "      <th>Institution</th>\n",
       "      <th>Control</th>\n",
       "      <th>City</th>\n",
       "      <th>State</th>\n",
       "      <th>level</th>\n",
       "    </tr>\n",
       "  </thead>\n",
       "  <tbody>\n",
       "    <tr>\n",
       "      <th>0</th>\n",
       "      <td>0</td>\n",
       "      <td>Arizona State University Campus Immersion</td>\n",
       "      <td>Public</td>\n",
       "      <td>Tempe</td>\n",
       "      <td>AZ</td>\n",
       "      <td>r1</td>\n",
       "    </tr>\n",
       "    <tr>\n",
       "      <th>1</th>\n",
       "      <td>1</td>\n",
       "      <td>Auburn University</td>\n",
       "      <td>Public</td>\n",
       "      <td>Auburn</td>\n",
       "      <td>AL</td>\n",
       "      <td>r1</td>\n",
       "    </tr>\n",
       "    <tr>\n",
       "      <th>2</th>\n",
       "      <td>2</td>\n",
       "      <td>Baylor University</td>\n",
       "      <td>Private (non-profit)</td>\n",
       "      <td>Waco</td>\n",
       "      <td>TX</td>\n",
       "      <td>r1</td>\n",
       "    </tr>\n",
       "    <tr>\n",
       "      <th>3</th>\n",
       "      <td>3</td>\n",
       "      <td>Binghamton University</td>\n",
       "      <td>Public</td>\n",
       "      <td>Vestal</td>\n",
       "      <td>NY</td>\n",
       "      <td>r1</td>\n",
       "    </tr>\n",
       "    <tr>\n",
       "      <th>4</th>\n",
       "      <td>4</td>\n",
       "      <td>Boston College</td>\n",
       "      <td>Private (non-profit)</td>\n",
       "      <td>Chestnut Hill</td>\n",
       "      <td>MA</td>\n",
       "      <td>r1</td>\n",
       "    </tr>\n",
       "    <tr>\n",
       "      <th>...</th>\n",
       "      <td>...</td>\n",
       "      <td>...</td>\n",
       "      <td>...</td>\n",
       "      <td>...</td>\n",
       "      <td>...</td>\n",
       "      <td>...</td>\n",
       "    </tr>\n",
       "    <tr>\n",
       "      <th>297</th>\n",
       "      <td>18</td>\n",
       "      <td>University of Texas Health Science Center at H...</td>\n",
       "      <td>Public</td>\n",
       "      <td>Houston</td>\n",
       "      <td>TX</td>\n",
       "      <td>r3</td>\n",
       "    </tr>\n",
       "    <tr>\n",
       "      <th>298</th>\n",
       "      <td>19</td>\n",
       "      <td>University of Texas Health Science Center at S...</td>\n",
       "      <td>Public</td>\n",
       "      <td>San Antonio</td>\n",
       "      <td>TX</td>\n",
       "      <td>r3</td>\n",
       "    </tr>\n",
       "    <tr>\n",
       "      <th>299</th>\n",
       "      <td>20</td>\n",
       "      <td>University of Texas Medical Branch</td>\n",
       "      <td>Public</td>\n",
       "      <td>Galveston</td>\n",
       "      <td>TX</td>\n",
       "      <td>r3</td>\n",
       "    </tr>\n",
       "    <tr>\n",
       "      <th>300</th>\n",
       "      <td>21</td>\n",
       "      <td>University of Texas Southwestern Medical Center</td>\n",
       "      <td>Public</td>\n",
       "      <td>Dallas</td>\n",
       "      <td>TX</td>\n",
       "      <td>r3</td>\n",
       "    </tr>\n",
       "    <tr>\n",
       "      <th>301</th>\n",
       "      <td>22</td>\n",
       "      <td>Weill Cornell Medicine</td>\n",
       "      <td>Private (non-profit)</td>\n",
       "      <td>New York</td>\n",
       "      <td>NY</td>\n",
       "      <td>r3</td>\n",
       "    </tr>\n",
       "  </tbody>\n",
       "</table>\n",
       "<p>302 rows × 6 columns</p>\n",
       "</div>"
      ],
      "text/plain": [
       "     Unnamed: 0                                        Institution  \\\n",
       "0             0          Arizona State University Campus Immersion   \n",
       "1             1                                  Auburn University   \n",
       "2             2                                  Baylor University   \n",
       "3             3                              Binghamton University   \n",
       "4             4                                     Boston College   \n",
       "..          ...                                                ...   \n",
       "297          18  University of Texas Health Science Center at H...   \n",
       "298          19  University of Texas Health Science Center at S...   \n",
       "299          20                 University of Texas Medical Branch   \n",
       "300          21    University of Texas Southwestern Medical Center   \n",
       "301          22                             Weill Cornell Medicine   \n",
       "\n",
       "                  Control           City State level  \n",
       "0                  Public          Tempe    AZ    r1  \n",
       "1                  Public         Auburn    AL    r1  \n",
       "2    Private (non-profit)           Waco    TX    r1  \n",
       "3                  Public         Vestal    NY    r1  \n",
       "4    Private (non-profit)  Chestnut Hill    MA    r1  \n",
       "..                    ...            ...   ...   ...  \n",
       "297                Public        Houston    TX    r3  \n",
       "298                Public    San Antonio    TX    r3  \n",
       "299                Public      Galveston    TX    r3  \n",
       "300                Public         Dallas    TX    r3  \n",
       "301  Private (non-profit)       New York    NY    r3  \n",
       "\n",
       "[302 rows x 6 columns]"
      ]
     },
     "execution_count": 95,
     "metadata": {},
     "output_type": "execute_result"
    }
   ],
   "source": [
    "df"
   ]
  }
 ],
 "metadata": {
  "kernelspec": {
   "display_name": "Python 3 (ipykernel)",
   "language": "python",
   "name": "python3"
  },
  "language_info": {
   "codemirror_mode": {
    "name": "ipython",
    "version": 3
   },
   "file_extension": ".py",
   "mimetype": "text/x-python",
   "name": "python",
   "nbconvert_exporter": "python",
   "pygments_lexer": "ipython3",
   "version": "3.9.12"
  }
 },
 "nbformat": 4,
 "nbformat_minor": 5
}
