{
 "cells": [
  {
   "cell_type": "markdown",
   "id": "3bf1e53d-81bc-4b13-bdae-c4d81d5c793e",
   "metadata": {},
   "source": [
    "# Testing Logistic Regression and Regression Models for Women Involvement\n",
    "Logistic Regression - Whether a women was involved on a patent level\n",
    "\n",
    "Regression - Predicting % women involvement on a patent level and GEOID Level\n",
    "    - Linear Regression\n",
    "    - Random Forest\n",
    "\n",
    "__Note- data was slightly adjusted to remove standardization women and men inventors to obtain a more realistc women involvement % below__"
   ]
  },
  {
   "cell_type": "markdown",
   "id": "5dc7711f-045f-40b1-bca4-4b911c2812cb",
   "metadata": {},
   "source": [
    "Import Libraries:"
   ]
  },
  {
   "cell_type": "code",
   "execution_count": 1,
   "id": "f9225162-08a6-4588-9a4e-0d255ebe18cd",
   "metadata": {
    "tags": []
   },
   "outputs": [],
   "source": [
    "import os\n",
    "from sklearn.preprocessing import LabelEncoder\n",
    "from sklearn.preprocessing import OrdinalEncoder\n",
    "from sklearn.preprocessing import OneHotEncoder\n",
    "from sklearn.linear_model import LogisticRegression\n",
    "from sklearn.feature_selection import SelectKBest, chi2\n",
    "from sklearn.linear_model import LinearRegression\n",
    "from sklearn.linear_model import Ridge, Lasso\n",
    "from sklearn.linear_model import RidgeCV\n",
    "from sklearn.model_selection import train_test_split, cross_val_score\n",
    "from sklearn.model_selection import RepeatedKFold\n",
    "from sklearn.model_selection import RepeatedStratifiedKFold\n",
    "from sklearn.model_selection import GridSearchCV\n",
    "from statistics import mean\n",
    "from sklearn.pipeline import Pipeline\n",
    "from sklearn.pipeline import make_pipeline\n",
    "from sklearn.tree import DecisionTreeClassifier\n",
    "from sklearn.feature_selection import RFE\n",
    "import numpy as np\n",
    "import pandas as pd\n",
    "from matplotlib import pyplot as plt\n",
    "import seaborn as sns\n",
    "import matplotlib.pyplot as plt\n",
    "import seaborn as sns\n",
    "from sklearn import metrics\n",
    "from sklearn.metrics import classification_report, confusion_matrix"
   ]
  },
  {
   "cell_type": "markdown",
   "id": "557bd059-2d3f-49bf-87ca-b76bcffb253f",
   "metadata": {
    "tags": []
   },
   "source": [
    "## Patent Level Work"
   ]
  },
  {
   "cell_type": "markdown",
   "id": "93948d59-9a3a-45bb-b9ee-4747735aeca7",
   "metadata": {},
   "source": [
    "### Read Data"
   ]
  },
  {
   "cell_type": "code",
   "execution_count": 2,
   "id": "8b241f70-c6fe-438b-b392-401fac2ccad7",
   "metadata": {},
   "outputs": [
    {
     "data": {
      "text/plain": [
       "'C:\\\\Users\\\\trent\\\\Documents\\\\GitHub\\\\patents22'"
      ]
     },
     "execution_count": 2,
     "metadata": {},
     "output_type": "execute_result"
    }
   ],
   "source": [
    "os.getcwd()"
   ]
  },
  {
   "cell_type": "code",
   "execution_count": 3,
   "id": "c4d5728a-61bb-48e8-b693-85160c015805",
   "metadata": {},
   "outputs": [],
   "source": [
    "os.chdir('C:\\\\Users\\\\trent\\\\Documents\\\\Capstone')"
   ]
  },
  {
   "cell_type": "code",
   "execution_count": 4,
   "id": "3eabae78-ded5-4e56-9109-a94e07955424",
   "metadata": {
    "tags": []
   },
   "outputs": [],
   "source": [
    "train_read = pd.read_csv('Fixed_log_standardized_train.csv')"
   ]
  },
  {
   "cell_type": "code",
   "execution_count": 5,
   "id": "fe6ba822-ce7a-4365-ac3a-4b2001bcdec1",
   "metadata": {},
   "outputs": [
    {
     "data": {
      "text/plain": [
       "(134808, 98)"
      ]
     },
     "execution_count": 5,
     "metadata": {},
     "output_type": "execute_result"
    }
   ],
   "source": [
    "train_read.shape"
   ]
  },
  {
   "cell_type": "code",
   "execution_count": 6,
   "id": "9fba63c4-556c-4aa9-86d4-74c39d42c674",
   "metadata": {},
   "outputs": [],
   "source": [
    "val_read = pd.read_csv('Fixed_log_standardized_test.csv')"
   ]
  },
  {
   "cell_type": "code",
   "execution_count": 7,
   "id": "00656227-0a4d-4a83-ac27-1ea47addf605",
   "metadata": {},
   "outputs": [],
   "source": [
    "train_read_raw = pd.read_csv('Fixed_log_RAW_train.csv')"
   ]
  },
  {
   "cell_type": "code",
   "execution_count": 8,
   "id": "f60583ea-5fbc-430a-911d-a28fad160d26",
   "metadata": {},
   "outputs": [],
   "source": [
    "test_read_raw = pd.read_csv('Fixed_log_RAW_test.csv')"
   ]
  },
  {
   "cell_type": "markdown",
   "id": "057598a9-17b8-479d-9455-7b212d8a9ec7",
   "metadata": {},
   "source": [
    "### Organize Patent Train Data: Prep for Model Building"
   ]
  },
  {
   "cell_type": "markdown",
   "id": "20277015-925e-4911-981f-3ee6f5615d3d",
   "metadata": {},
   "source": [
    "The collapsed code below checks for null values, and removes columns with null values."
   ]
  },
  {
   "cell_type": "code",
   "execution_count": 9,
   "id": "fdb8342c-c67b-41f3-872f-2c8c68fa80b2",
   "metadata": {
    "tags": []
   },
   "outputs": [],
   "source": [
    "for i in range(len(train_read.columns)):\n",
    "    if train_read.iloc[:,i].isnull().values.any() == True:\n",
    "        print(train_read.iloc[:,i].name,': ',train_read.iloc[:,i].isna().sum())"
   ]
  },
  {
   "cell_type": "code",
   "execution_count": 10,
   "id": "88eb232f-7c8f-4021-ba48-6748dcaa8b2c",
   "metadata": {},
   "outputs": [],
   "source": [
    "for i in range(len(train_read_raw.columns)):\n",
    "    if train_read_raw.iloc[:,i].isnull().values.any() == True:\n",
    "        print(train_read_raw.iloc[:,i].name,': ',train_read_raw.iloc[:,i].isna().sum())"
   ]
  },
  {
   "cell_type": "code",
   "execution_count": 11,
   "id": "9f923505-87ee-4f88-b48b-14e422508b9f",
   "metadata": {
    "tags": []
   },
   "outputs": [],
   "source": [
    "##drop columns not necessary for model\n",
    "##dropping ipc and award data as well for now to create model\n",
    "train_ = train_read.drop(['patent_num',\n",
    "                   'assignee',\n",
    "                   'app_num',\n",
    "                   'GEOID',\n",
    "                   # 'assignee_univ_map',\n",
    "                   # 'Institution',\n",
    "                   # 'Control',\n",
    "                   # 'grant_yr',\n",
    "                    # 'Award_Amount',\n",
    "                    # 'Award_by_pop_gt_16_lf',\n",
    "                    # 'team_size',\n",
    "                    # 'men_inventors',\n",
    "                    # 'ipc_A',\n",
    "                    # 'ipc_B',\n",
    "                    # 'ipc_C',\n",
    "                    # 'ipc_D',\n",
    "                    # 'ipc_E',\n",
    "                    # 'ipc_F',\n",
    "                    # 'ipc_G',\n",
    "                    # 'ipc_H',\n",
    "                    # 'num_ipcs',\n",
    "                    # 'ipc'\n",
    "                         ],\n",
    "                   axis = 1)"
   ]
  },
  {
   "cell_type": "code",
   "execution_count": 12,
   "id": "1bcab182-552a-4d7a-808a-270abb99c209",
   "metadata": {},
   "outputs": [],
   "source": [
    "##drop columns not necessary for model\n",
    "##dropping ipc and award data as well for now to create model\n",
    "train_raw = train_read_raw.drop([\n",
    "                   #  'patent_num',\n",
    "                   # 'assignee',\n",
    "                   'app_num',\n",
    "                   'GEOID',\n",
    "                   # 'assignee_univ_map',\n",
    "                   # 'Institution',\n",
    "                   # 'Control',\n",
    "                   # 'grant_yr',\n",
    "                    # 'Award_Amount',\n",
    "                    # 'Award_by_pop_gt_16_lf',\n",
    "                    # 'team_size',\n",
    "                    # 'men_inventors',\n",
    "                    # 'ipc_A',\n",
    "                    # 'ipc_B',\n",
    "                    # 'ipc_C',\n",
    "                    # 'ipc_D',\n",
    "                    # 'ipc_E',\n",
    "                    # 'ipc_F',\n",
    "                    # 'ipc_G',\n",
    "                    # 'ipc_H',\n",
    "                    # 'num_ipcs',\n",
    "                    # 'ipc'\n",
    "                         ],\n",
    "                   axis = 1)"
   ]
  },
  {
   "cell_type": "code",
   "execution_count": 13,
   "id": "dc7c051b-99be-4372-a58e-8c5c27ef6615",
   "metadata": {},
   "outputs": [],
   "source": [
    "train_raw['perc_wi'] = train_raw['women_inventors']/(train_raw['men_inventors']+train_raw['women_inventors'])"
   ]
  },
  {
   "cell_type": "code",
   "execution_count": 14,
   "id": "a145e4fe-e468-4481-9296-4d43e2b6718b",
   "metadata": {},
   "outputs": [],
   "source": [
    "##drop columns not necessary for model\n",
    "##dropping ipc and award data as well for now to create model\n",
    "val_ = val_read.drop(['patent_num',\n",
    "                   'assignee',\n",
    "                   'app_num',\n",
    "                   'GEOID',\n",
    "                   # 'assignee_univ_map',\n",
    "                   # 'Institution',\n",
    "                   # 'Control',\n",
    "                   # 'grant_yr',\n",
    "                    # 'Award_Amount',\n",
    "                    # 'Award_by_pop_gt_16_lf',\n",
    "                    # 'team_size',\n",
    "                    # 'men_inventors',\n",
    "                    # 'ipc_A',\n",
    "                    # 'ipc_B',\n",
    "                    # 'ipc_C',\n",
    "                    # 'ipc_D',\n",
    "                    # 'ipc_E',\n",
    "                    # 'ipc_F',\n",
    "                    # 'ipc_G',\n",
    "                    # 'ipc_H',\n",
    "                    # 'num_ipcs',\n",
    "                    # 'ipc'\n",
    "                     ],\n",
    "                   axis = 1)"
   ]
  },
  {
   "cell_type": "code",
   "execution_count": 15,
   "id": "b5e1247d-2f64-4c0e-8322-087d6337a36b",
   "metadata": {},
   "outputs": [],
   "source": [
    "##drop columns not necessary for model\n",
    "##dropping ipc and award data as well for now to create model\n",
    "val_raw = test_read_raw.drop([\n",
    "                   #  'patent_num',\n",
    "                   # 'assignee',\n",
    "                   'app_num',\n",
    "                   'GEOID',\n",
    "                   # 'assignee_univ_map',\n",
    "                   # 'Institution',\n",
    "                   # 'Control',\n",
    "                   # 'grant_yr',\n",
    "                    # 'Award_Amount',\n",
    "                    # 'Award_by_pop_gt_16_lf',\n",
    "                    # 'team_size',\n",
    "                    # 'men_inventors',\n",
    "                    # 'ipc_A',\n",
    "                    # 'ipc_B',\n",
    "                    # 'ipc_C',\n",
    "                    # 'ipc_D',\n",
    "                    # 'ipc_E',\n",
    "                    # 'ipc_F',\n",
    "                    # 'ipc_G',\n",
    "                    # 'ipc_H',\n",
    "                    # 'num_ipcs',\n",
    "                    # 'ipc'\n",
    "                     ],\n",
    "                   axis = 1)"
   ]
  },
  {
   "cell_type": "code",
   "execution_count": 16,
   "id": "6153b42b-e011-4e71-8154-3c561ed273f8",
   "metadata": {},
   "outputs": [],
   "source": [
    "val_raw['perc_wi'] = val_raw['women_inventors']/(val_raw['men_inventors']+val_raw['women_inventors'])"
   ]
  },
  {
   "cell_type": "code",
   "execution_count": 17,
   "id": "f02dfc9d-2968-4e80-944e-e8cbc2b7850d",
   "metadata": {},
   "outputs": [
    {
     "data": {
      "text/plain": [
       "0.000000    906284\n",
       "0.500000     64820\n",
       "0.333333     58642\n",
       "0.250000     42364\n",
       "1.000000     33197\n",
       "             ...  \n",
       "0.233333         1\n",
       "0.065574         1\n",
       "0.137931         1\n",
       "0.520000         1\n",
       "0.404762         1\n",
       "Name: perc_wi, Length: 154, dtype: int64"
      ]
     },
     "execution_count": 17,
     "metadata": {},
     "output_type": "execute_result"
    }
   ],
   "source": [
    "train_raw['perc_wi'].value_counts()"
   ]
  },
  {
   "cell_type": "code",
   "execution_count": 18,
   "id": "68976ea5-04ef-4d7c-be55-92d4bbd45d55",
   "metadata": {},
   "outputs": [
    {
     "data": {
      "text/html": [
       "<div>\n",
       "<style scoped>\n",
       "    .dataframe tbody tr th:only-of-type {\n",
       "        vertical-align: middle;\n",
       "    }\n",
       "\n",
       "    .dataframe tbody tr th {\n",
       "        vertical-align: top;\n",
       "    }\n",
       "\n",
       "    .dataframe thead th {\n",
       "        text-align: right;\n",
       "    }\n",
       "</style>\n",
       "<table border=\"1\" class=\"dataframe\">\n",
       "  <thead>\n",
       "    <tr style=\"text-align: right;\">\n",
       "      <th></th>\n",
       "      <th>app_yr</th>\n",
       "      <th>patent_num</th>\n",
       "      <th>assignee</th>\n",
       "      <th>team_size</th>\n",
       "      <th>men_inventors</th>\n",
       "      <th>women_inventors</th>\n",
       "      <th>women_involved</th>\n",
       "      <th>Over25_Less9Grade</th>\n",
       "      <th>Over25_SomeHS</th>\n",
       "      <th>Over25_HSGrad</th>\n",
       "      <th>...</th>\n",
       "      <th>ap_by_est</th>\n",
       "      <th>est_by_pop_gt_16_lf</th>\n",
       "      <th>apps_by_pop_gt_16_lf</th>\n",
       "      <th>Wages_by_pop_gt_16_lf</th>\n",
       "      <th>Award_by_pop_gt_16_lf</th>\n",
       "      <th>r1_involved</th>\n",
       "      <th>r2_involved</th>\n",
       "      <th>special_focus_involved</th>\n",
       "      <th>any_R_uni_involved</th>\n",
       "      <th>perc_wi</th>\n",
       "    </tr>\n",
       "  </thead>\n",
       "  <tbody>\n",
       "    <tr>\n",
       "      <th>24</th>\n",
       "      <td>2014</td>\n",
       "      <td>0</td>\n",
       "      <td>1</td>\n",
       "      <td>1</td>\n",
       "      <td>0</td>\n",
       "      <td>0</td>\n",
       "      <td>0</td>\n",
       "      <td>4.5</td>\n",
       "      <td>8.4</td>\n",
       "      <td>26.3</td>\n",
       "      <td>...</td>\n",
       "      <td>518.466322</td>\n",
       "      <td>0.051951</td>\n",
       "      <td>0.021566</td>\n",
       "      <td>33.985626</td>\n",
       "      <td>9.334419</td>\n",
       "      <td>0</td>\n",
       "      <td>0</td>\n",
       "      <td>0</td>\n",
       "      <td>0</td>\n",
       "      <td>NaN</td>\n",
       "    </tr>\n",
       "    <tr>\n",
       "      <th>221</th>\n",
       "      <td>2012</td>\n",
       "      <td>1</td>\n",
       "      <td>2</td>\n",
       "      <td>1</td>\n",
       "      <td>0</td>\n",
       "      <td>0</td>\n",
       "      <td>0</td>\n",
       "      <td>3.9</td>\n",
       "      <td>6.7</td>\n",
       "      <td>30.7</td>\n",
       "      <td>...</td>\n",
       "      <td>476.844625</td>\n",
       "      <td>0.037794</td>\n",
       "      <td>0.009442</td>\n",
       "      <td>41.991776</td>\n",
       "      <td>47.465511</td>\n",
       "      <td>0</td>\n",
       "      <td>0</td>\n",
       "      <td>0</td>\n",
       "      <td>0</td>\n",
       "      <td>NaN</td>\n",
       "    </tr>\n",
       "    <tr>\n",
       "      <th>223</th>\n",
       "      <td>2010</td>\n",
       "      <td>1</td>\n",
       "      <td>1</td>\n",
       "      <td>1</td>\n",
       "      <td>0</td>\n",
       "      <td>0</td>\n",
       "      <td>0</td>\n",
       "      <td>6.7</td>\n",
       "      <td>6.4</td>\n",
       "      <td>15.9</td>\n",
       "      <td>...</td>\n",
       "      <td>1644.687829</td>\n",
       "      <td>0.048169</td>\n",
       "      <td>0.014315</td>\n",
       "      <td>87.241578</td>\n",
       "      <td>25.681263</td>\n",
       "      <td>0</td>\n",
       "      <td>0</td>\n",
       "      <td>0</td>\n",
       "      <td>0</td>\n",
       "      <td>NaN</td>\n",
       "    </tr>\n",
       "    <tr>\n",
       "      <th>322</th>\n",
       "      <td>2010</td>\n",
       "      <td>1</td>\n",
       "      <td>1</td>\n",
       "      <td>1</td>\n",
       "      <td>0</td>\n",
       "      <td>0</td>\n",
       "      <td>0</td>\n",
       "      <td>5.7</td>\n",
       "      <td>6.2</td>\n",
       "      <td>19.6</td>\n",
       "      <td>...</td>\n",
       "      <td>763.785946</td>\n",
       "      <td>0.041574</td>\n",
       "      <td>0.012614</td>\n",
       "      <td>37.413798</td>\n",
       "      <td>22.546429</td>\n",
       "      <td>0</td>\n",
       "      <td>0</td>\n",
       "      <td>0</td>\n",
       "      <td>0</td>\n",
       "      <td>NaN</td>\n",
       "    </tr>\n",
       "    <tr>\n",
       "      <th>346</th>\n",
       "      <td>2010</td>\n",
       "      <td>1</td>\n",
       "      <td>1</td>\n",
       "      <td>1</td>\n",
       "      <td>0</td>\n",
       "      <td>0</td>\n",
       "      <td>0</td>\n",
       "      <td>2.8</td>\n",
       "      <td>6.9</td>\n",
       "      <td>26.1</td>\n",
       "      <td>...</td>\n",
       "      <td>565.455645</td>\n",
       "      <td>0.044734</td>\n",
       "      <td>0.011908</td>\n",
       "      <td>33.103770</td>\n",
       "      <td>20.133450</td>\n",
       "      <td>0</td>\n",
       "      <td>0</td>\n",
       "      <td>0</td>\n",
       "      <td>0</td>\n",
       "      <td>NaN</td>\n",
       "    </tr>\n",
       "    <tr>\n",
       "      <th>...</th>\n",
       "      <td>...</td>\n",
       "      <td>...</td>\n",
       "      <td>...</td>\n",
       "      <td>...</td>\n",
       "      <td>...</td>\n",
       "      <td>...</td>\n",
       "      <td>...</td>\n",
       "      <td>...</td>\n",
       "      <td>...</td>\n",
       "      <td>...</td>\n",
       "      <td>...</td>\n",
       "      <td>...</td>\n",
       "      <td>...</td>\n",
       "      <td>...</td>\n",
       "      <td>...</td>\n",
       "      <td>...</td>\n",
       "      <td>...</td>\n",
       "      <td>...</td>\n",
       "      <td>...</td>\n",
       "      <td>...</td>\n",
       "      <td>...</td>\n",
       "    </tr>\n",
       "    <tr>\n",
       "      <th>1212651</th>\n",
       "      <td>2013</td>\n",
       "      <td>1</td>\n",
       "      <td>1</td>\n",
       "      <td>1</td>\n",
       "      <td>0</td>\n",
       "      <td>0</td>\n",
       "      <td>0</td>\n",
       "      <td>8.4</td>\n",
       "      <td>7.5</td>\n",
       "      <td>17.4</td>\n",
       "      <td>...</td>\n",
       "      <td>812.117927</td>\n",
       "      <td>0.055706</td>\n",
       "      <td>0.017653</td>\n",
       "      <td>54.148898</td>\n",
       "      <td>19.085219</td>\n",
       "      <td>0</td>\n",
       "      <td>0</td>\n",
       "      <td>0</td>\n",
       "      <td>0</td>\n",
       "      <td>NaN</td>\n",
       "    </tr>\n",
       "    <tr>\n",
       "      <th>1212688</th>\n",
       "      <td>2014</td>\n",
       "      <td>1</td>\n",
       "      <td>1</td>\n",
       "      <td>1</td>\n",
       "      <td>0</td>\n",
       "      <td>0</td>\n",
       "      <td>0</td>\n",
       "      <td>6.9</td>\n",
       "      <td>6.3</td>\n",
       "      <td>13.3</td>\n",
       "      <td>...</td>\n",
       "      <td>2185.595219</td>\n",
       "      <td>0.111933</td>\n",
       "      <td>0.046456</td>\n",
       "      <td>287.479167</td>\n",
       "      <td>322.235625</td>\n",
       "      <td>0</td>\n",
       "      <td>0</td>\n",
       "      <td>0</td>\n",
       "      <td>0</td>\n",
       "      <td>NaN</td>\n",
       "    </tr>\n",
       "    <tr>\n",
       "      <th>1212698</th>\n",
       "      <td>2014</td>\n",
       "      <td>1</td>\n",
       "      <td>1</td>\n",
       "      <td>1</td>\n",
       "      <td>0</td>\n",
       "      <td>0</td>\n",
       "      <td>0</td>\n",
       "      <td>6.4</td>\n",
       "      <td>6.1</td>\n",
       "      <td>15.1</td>\n",
       "      <td>...</td>\n",
       "      <td>2154.077309</td>\n",
       "      <td>0.048212</td>\n",
       "      <td>0.015417</td>\n",
       "      <td>111.984429</td>\n",
       "      <td>17.632490</td>\n",
       "      <td>0</td>\n",
       "      <td>0</td>\n",
       "      <td>0</td>\n",
       "      <td>0</td>\n",
       "      <td>NaN</td>\n",
       "    </tr>\n",
       "    <tr>\n",
       "      <th>1212875</th>\n",
       "      <td>2013</td>\n",
       "      <td>1</td>\n",
       "      <td>2</td>\n",
       "      <td>1</td>\n",
       "      <td>0</td>\n",
       "      <td>0</td>\n",
       "      <td>0</td>\n",
       "      <td>7.2</td>\n",
       "      <td>6.0</td>\n",
       "      <td>21.8</td>\n",
       "      <td>...</td>\n",
       "      <td>733.759343</td>\n",
       "      <td>0.063498</td>\n",
       "      <td>0.020344</td>\n",
       "      <td>57.218067</td>\n",
       "      <td>21.750768</td>\n",
       "      <td>0</td>\n",
       "      <td>0</td>\n",
       "      <td>0</td>\n",
       "      <td>0</td>\n",
       "      <td>NaN</td>\n",
       "    </tr>\n",
       "    <tr>\n",
       "      <th>1213129</th>\n",
       "      <td>2013</td>\n",
       "      <td>1</td>\n",
       "      <td>2</td>\n",
       "      <td>1</td>\n",
       "      <td>0</td>\n",
       "      <td>0</td>\n",
       "      <td>0</td>\n",
       "      <td>3.8</td>\n",
       "      <td>5.8</td>\n",
       "      <td>18.3</td>\n",
       "      <td>...</td>\n",
       "      <td>1352.237321</td>\n",
       "      <td>0.066773</td>\n",
       "      <td>0.040980</td>\n",
       "      <td>108.611993</td>\n",
       "      <td>33.892300</td>\n",
       "      <td>0</td>\n",
       "      <td>0</td>\n",
       "      <td>0</td>\n",
       "      <td>0</td>\n",
       "      <td>NaN</td>\n",
       "    </tr>\n",
       "  </tbody>\n",
       "</table>\n",
       "<p>16456 rows × 97 columns</p>\n",
       "</div>"
      ],
      "text/plain": [
       "         app_yr  patent_num  assignee  team_size  men_inventors  \\\n",
       "24         2014           0         1          1              0   \n",
       "221        2012           1         2          1              0   \n",
       "223        2010           1         1          1              0   \n",
       "322        2010           1         1          1              0   \n",
       "346        2010           1         1          1              0   \n",
       "...         ...         ...       ...        ...            ...   \n",
       "1212651    2013           1         1          1              0   \n",
       "1212688    2014           1         1          1              0   \n",
       "1212698    2014           1         1          1              0   \n",
       "1212875    2013           1         2          1              0   \n",
       "1213129    2013           1         2          1              0   \n",
       "\n",
       "         women_inventors  women_involved  Over25_Less9Grade  Over25_SomeHS  \\\n",
       "24                     0               0                4.5            8.4   \n",
       "221                    0               0                3.9            6.7   \n",
       "223                    0               0                6.7            6.4   \n",
       "322                    0               0                5.7            6.2   \n",
       "346                    0               0                2.8            6.9   \n",
       "...                  ...             ...                ...            ...   \n",
       "1212651                0               0                8.4            7.5   \n",
       "1212688                0               0                6.9            6.3   \n",
       "1212698                0               0                6.4            6.1   \n",
       "1212875                0               0                7.2            6.0   \n",
       "1213129                0               0                3.8            5.8   \n",
       "\n",
       "         Over25_HSGrad  ...    ap_by_est  est_by_pop_gt_16_lf  \\\n",
       "24                26.3  ...   518.466322             0.051951   \n",
       "221               30.7  ...   476.844625             0.037794   \n",
       "223               15.9  ...  1644.687829             0.048169   \n",
       "322               19.6  ...   763.785946             0.041574   \n",
       "346               26.1  ...   565.455645             0.044734   \n",
       "...                ...  ...          ...                  ...   \n",
       "1212651           17.4  ...   812.117927             0.055706   \n",
       "1212688           13.3  ...  2185.595219             0.111933   \n",
       "1212698           15.1  ...  2154.077309             0.048212   \n",
       "1212875           21.8  ...   733.759343             0.063498   \n",
       "1213129           18.3  ...  1352.237321             0.066773   \n",
       "\n",
       "         apps_by_pop_gt_16_lf  Wages_by_pop_gt_16_lf Award_by_pop_gt_16_lf  \\\n",
       "24                   0.021566              33.985626              9.334419   \n",
       "221                  0.009442              41.991776             47.465511   \n",
       "223                  0.014315              87.241578             25.681263   \n",
       "322                  0.012614              37.413798             22.546429   \n",
       "346                  0.011908              33.103770             20.133450   \n",
       "...                       ...                    ...                   ...   \n",
       "1212651              0.017653              54.148898             19.085219   \n",
       "1212688              0.046456             287.479167            322.235625   \n",
       "1212698              0.015417             111.984429             17.632490   \n",
       "1212875              0.020344              57.218067             21.750768   \n",
       "1213129              0.040980             108.611993             33.892300   \n",
       "\n",
       "         r1_involved  r2_involved  special_focus_involved  any_R_uni_involved  \\\n",
       "24                 0            0                       0                   0   \n",
       "221                0            0                       0                   0   \n",
       "223                0            0                       0                   0   \n",
       "322                0            0                       0                   0   \n",
       "346                0            0                       0                   0   \n",
       "...              ...          ...                     ...                 ...   \n",
       "1212651            0            0                       0                   0   \n",
       "1212688            0            0                       0                   0   \n",
       "1212698            0            0                       0                   0   \n",
       "1212875            0            0                       0                   0   \n",
       "1213129            0            0                       0                   0   \n",
       "\n",
       "         perc_wi  \n",
       "24           NaN  \n",
       "221          NaN  \n",
       "223          NaN  \n",
       "322          NaN  \n",
       "346          NaN  \n",
       "...          ...  \n",
       "1212651      NaN  \n",
       "1212688      NaN  \n",
       "1212698      NaN  \n",
       "1212875      NaN  \n",
       "1213129      NaN  \n",
       "\n",
       "[16456 rows x 97 columns]"
      ]
     },
     "execution_count": 18,
     "metadata": {},
     "output_type": "execute_result"
    }
   ],
   "source": [
    "train_raw[train_raw['perc_wi'].isnull()]"
   ]
  },
  {
   "cell_type": "code",
   "execution_count": 19,
   "id": "10ea2ad2-e237-4e97-a323-0d73a151f107",
   "metadata": {
    "tags": []
   },
   "outputs": [
    {
     "name": "stdout",
     "output_type": "stream",
     "text": [
      "perc_wi :  16456\n"
     ]
    }
   ],
   "source": [
    "for i in range(len(train_raw.columns)):\n",
    "    if train_raw.iloc[:,i].isnull().values.any() == True:\n",
    "        print(train_raw.iloc[:,i].name,': ',train_raw.iloc[:,i].isna().sum())"
   ]
  },
  {
   "cell_type": "markdown",
   "id": "c6055b33-fb8b-4298-bae4-c650e1bd8221",
   "metadata": {},
   "source": [
    "__Some patents include 0 men and women inventors, causing some perc women % to be null, these are later dropped__"
   ]
  },
  {
   "cell_type": "markdown",
   "id": "7c818c9a-f519-4eb3-b94d-73987d8f337d",
   "metadata": {},
   "source": [
    "Numeric Feature List Below:"
   ]
  },
  {
   "cell_type": "code",
   "execution_count": 20,
   "id": "4b29595b-0d9f-4449-a6cf-61354c29f13c",
   "metadata": {
    "jupyter": {
     "source_hidden": true
    },
    "tags": []
   },
   "outputs": [],
   "source": [
    "numeric = [\n",
    " # 'num_ipcs',\n",
    " 'team_size',\n",
    " # 'men_inventors',\n",
    " # 'women_inventors',\n",
    " 'Over25_Less9Grade',\n",
    " 'Over25_SomeHS',\n",
    " 'Over25_HSGrad',\n",
    " 'Over25_SomeCollege',\n",
    " 'Over25_Assosc',\n",
    " 'Over25_Bach',\n",
    " 'Over25_Grad',\n",
    " 'ap_by_est',\n",
    " 'pop_gt_16_lf',\n",
    " 'est_by_pop_gt_16_lf',\n",
    " 'Total_employment',\n",
    " 'Pop_Est',\n",
    " 'Population_Estimate',\n",
    " 'Population_persons',\n",
    " 'Earnings_by_place_of_work',\n",
    " 'Employee_and_self-employed_contributions_for_government_social_insurance',\n",
    " 'Employer_contributions_for_employee_pension_and_insurance_funds',\n",
    " 'Employer_contributions_for_government_social_insurance',\n",
    " 'Equals_Net_earnings_by_place_of_residence',\n",
    " 'Farm_income',\n",
    " 'Farm_proprietors_income',\n",
    " 'Less_Contributions_for_government_social_insurance',\n",
    " 'Nonfarm_personal_income',\n",
    " 'Nonfarm_proprietors_income',\n",
    " 'Per_capita_personal_income_dollars',\n",
    " 'Personal_income_thousands_of_dollars',\n",
    " 'Plus_Adjustment_for_residence',\n",
    " 'Plus_Dividends_interest_and_rent',\n",
    " 'Plus_Personal_current_transfer_receipts',\t\n",
    " 'Proprietors_employment',\n",
    " 'Proprietors_income',\n",
    " 'Supplements_to_wages_and_salaries',\n",
    " 'Wage_and_salary_employment',\n",
    " 'Wages_and_salaries',\n",
    " 'Applications',\n",
    " # 'Award_Amount',\n",
    " # 'GDP_by_labor_force',\n",
    " 'apps_by_pop_gt_16_lf',\n",
    " 'Wages_by_pop_gt_16_lf',\n",
    " # 'Award_by_pop_gt_16_lf'\n",
    "]"
   ]
  },
  {
   "cell_type": "markdown",
   "id": "6c787955-6a75-47f4-9cbe-11dab01ee472",
   "metadata": {},
   "source": [
    "Categorical Feature List Below:"
   ]
  },
  {
   "cell_type": "code",
   "execution_count": 21,
   "id": "7619f1da-665b-4e52-bd40-14c722c4d140",
   "metadata": {
    "jupyter": {
     "source_hidden": true
    },
    "tags": []
   },
   "outputs": [],
   "source": [
    "categorical = [\n",
    "# 'ipc',\n",
    "# 'ipc_A',\n",
    "# 'ipc_B',\n",
    "# 'ipc_C',\n",
    "# 'ipc_D',\n",
    "# 'ipc_E',\n",
    "# 'ipc_F',\n",
    "# 'ipc_G',\n",
    "# 'ipc_H',\n",
    "'already_granted',\n",
    "# 'Control',\n",
    "'r1',\n",
    "'r2',\n",
    "'special_focus',\n",
    "'bea_region',\n",
    "'Agriculture_Forestry_Fishing_Hunting_base',\n",
    "'Mining_Quarrying_and_Oil_Gas_Extraction_base',\n",
    "'Utilities_base',\n",
    "'Construction_base',\n",
    "'Manufacturing_base',\n",
    "'Wholesale_Trade_base',\n",
    "'Retail_Trade_base',\n",
    "'Transportation_Warehousing_base',\n",
    "'Information_base',\n",
    "'Finance_Insurance_base',\n",
    "'Real_Estate_Rental_Leasing_base',\n",
    "'Professional_Scientific_and_Technical_Services_base',\n",
    "'Management_of_Companies_Enterprises_base',\n",
    "'Administrative_Support_Waste_Management_Remediation_Services_base',\n",
    "'Educational_Services_base',\n",
    "'Health_Care_Social_Assistance_base',\n",
    "'Arts_Entertainment_and_Recreation_base',\n",
    "'Accommodation_Food_Services_base',\n",
    "'Other_Services_except_Public_Administration_base',\n",
    "'women_involved'\n",
    "]"
   ]
  },
  {
   "cell_type": "markdown",
   "id": "fd81c57c-422f-47a2-9242-53105a5beb0b",
   "metadata": {},
   "source": [
    "#### One Hot Encode Categoricals\n",
    "All already binary except region"
   ]
  },
  {
   "cell_type": "code",
   "execution_count": 22,
   "id": "f6052437-433d-44c4-a780-b668feb7854e",
   "metadata": {},
   "outputs": [],
   "source": [
    "train = pd.concat([train_.drop('bea_region', axis =1), pd.get_dummies(train_.bea_region)], axis = 1)\n",
    "val = pd.concat([val_.drop('bea_region', axis =1), pd.get_dummies(val_.bea_region)], axis = 1)\n",
    "\n",
    "raw_train = pd.concat([train_raw.drop('bea_region', axis =1), pd.get_dummies(train_raw.bea_region)], axis = 1)\n",
    "raw_val = pd.concat([val_raw.drop('bea_region', axis =1), pd.get_dummies(val_raw.bea_region)], axis = 1)"
   ]
  },
  {
   "cell_type": "markdown",
   "id": "2d6ef6c8-d57b-4c38-a346-b4f61766fc22",
   "metadata": {},
   "source": [
    "#### Creating X and Y train, val sets for both Logistic Regression and Linear Regression on a Patent Level"
   ]
  },
  {
   "cell_type": "code",
   "execution_count": 23,
   "id": "78c799c3-897d-4bbf-9758-373cf4379bb4",
   "metadata": {},
   "outputs": [],
   "source": [
    "##binary class for women involvement\n",
    "###train\n",
    "y_wi= train['women_involved']\n",
    "x_wi= train.drop(['women_involved','women_inventors', 'men_inventors'], axis = 1)\n",
    "\n",
    "##val\n",
    "x_val_wi = val.drop(['women_involved','women_inventors', 'men_inventors'], axis = 1)\n",
    "y_val_wi= val['women_involved']\n",
    "\n",
    "##women percentage\n",
    "###train\n",
    "y_wi_perc = raw_train['perc_wi'].dropna()\n",
    "x_wi_perc= raw_train.dropna().drop(['women_involved','women_inventors', 'men_inventors','perc_wi'], axis = 1)\n",
    "#x - same as above\n",
    "\n",
    "##val\n",
    "y_val_wi_perc = raw_val['perc_wi'].dropna()\n",
    "x_val_wi_perc= raw_val.dropna().drop(['women_involved','women_inventors', 'men_inventors','perc_wi'], axis = 1)\n",
    "#x - same as above"
   ]
  },
  {
   "cell_type": "code",
   "execution_count": 24,
   "id": "bc3e742a-842d-46cb-bec1-228a7d8bdb04",
   "metadata": {},
   "outputs": [
    {
     "data": {
      "text/plain": [
       "(134808, 98)"
      ]
     },
     "execution_count": 24,
     "metadata": {},
     "output_type": "execute_result"
    }
   ],
   "source": [
    "x_wi.shape"
   ]
  },
  {
   "cell_type": "code",
   "execution_count": 25,
   "id": "1bc8c521-808e-4d3b-99d7-14875dfd8930",
   "metadata": {},
   "outputs": [
    {
     "data": {
      "text/plain": [
       "(1196811, 100)"
      ]
     },
     "execution_count": 25,
     "metadata": {},
     "output_type": "execute_result"
    }
   ],
   "source": [
    "x_wi_perc.shape"
   ]
  },
  {
   "cell_type": "markdown",
   "id": "be10456a-70c5-4e74-a53e-5716fa610459",
   "metadata": {},
   "source": [
    "### Logistic Regression Models"
   ]
  },
  {
   "cell_type": "code",
   "execution_count": 26,
   "id": "f0022a53-1fba-42c1-9c5c-705b02d3414a",
   "metadata": {
    "jupyter": {
     "source_hidden": true
    },
    "tags": []
   },
   "outputs": [],
   "source": [
    "categorical = [\n",
    "# 'ipc',\n",
    "# 'ipc_A',\n",
    "# 'ipc_B',\n",
    "# 'ipc_C',\n",
    "# 'ipc_D',\n",
    "# 'ipc_E',\n",
    "# 'ipc_F',\n",
    "# 'ipc_G',\n",
    "# 'ipc_H',\n",
    "# 'already_granted',\n",
    "# 'Control',\n",
    "'r1_involved',\n",
    "'r2_involved',\n",
    "'special_focus_involved',\n",
    "# 'bea_region',\n",
    "'Agriculture_Forestry_Fishing_Hunting_base',\n",
    "'Mining_Quarrying_and_Oil_Gas_Extraction_base',\n",
    "'Utilities_base',\n",
    "'Construction_base',\n",
    "'Manufacturing_base',\n",
    "'Wholesale_Trade_base',\n",
    "'Retail_Trade_base',\n",
    "'Transportation_Warehousing_base',\n",
    "'Information_base',\n",
    "'Finance_Insurance_base',\n",
    "'Real_Estate_Rental_Leasing_base',\n",
    "'Professional_Scientific_and_Technical_Services_base',\n",
    "'Management_of_Companies_Enterprises_base',\n",
    "'Administrative_Support_Waste_Management_Remediation_Services_base',\n",
    "'Educational_Services_base',\n",
    "'Health_Care_Social_Assistance_base',\n",
    "'Arts_Entertainment_and_Recreation_base',\n",
    "'Accommodation_Food_Services_base',\n",
    "'Other_Services_except_Public_Administration_base',\n",
    "# 'women_involved'\n",
    "'Far West',\n",
    "'Great Lakes', \n",
    "'Mideast', \n",
    "'New England', \n",
    "'Plains', \n",
    "'Rocky Mountain',\n",
    "'Southeast', \n",
    "'Southwest'\n",
    "]"
   ]
  },
  {
   "cell_type": "code",
   "execution_count": 27,
   "id": "508dfa44-09af-44a4-a215-47e848b159f4",
   "metadata": {
    "tags": []
   },
   "outputs": [],
   "source": [
    "# x_wi.columns"
   ]
  },
  {
   "cell_type": "code",
   "execution_count": 28,
   "id": "b08a80c9-9577-423e-b1f8-1b1fe998847e",
   "metadata": {
    "jupyter": {
     "source_hidden": true
    },
    "tags": []
   },
   "outputs": [
    {
     "name": "stdout",
     "output_type": "stream",
     "text": [
      "[[   203 922537]\n",
      " [    43 290484]]\n",
      "              precision    recall  f1-score   support\n",
      "\n",
      "           0       0.83      0.00      0.00    922740\n",
      "           1       0.24      1.00      0.39    290527\n",
      "\n",
      "    accuracy                           0.24   1213267\n",
      "   macro avg       0.53      0.50      0.19   1213267\n",
      "weighted avg       0.68      0.24      0.09   1213267\n",
      "\n"
     ]
    }
   ],
   "source": [
    "model = LogisticRegression(solver='liblinear')\n",
    "logreg = model.fit(x_wi[['r1_involved','Over25_Grad']], y_wi)\n",
    "# evaluate the model\n",
    "yhat = model.predict(x_val_wi[['r1_involved','Over25_Grad']])\n",
    "y_hat2 = (model.predict_proba(x_val_wi[['r1_involved','Over25_Grad']])[:,1] >= 0.3).astype(bool) # set threshold as 0.3\n",
    "# evaluate predictions\n",
    "# accuracy = model.score(x_wi[categorical], y_val_wi)\n",
    "# print('Accuracy: %.2f' % (accuracy*100))\n",
    "# print(metrics.confusion_matrix(y_val_wi, yhat))\n",
    "# print(classification_report(y_val_wi, yhat))\n",
    "print(metrics.confusion_matrix(y_val_wi, y_hat2))\n",
    "print(classification_report(y_val_wi, y_hat2))"
   ]
  },
  {
   "cell_type": "code",
   "execution_count": 29,
   "id": "22b5a1d6-26f2-4f7f-b796-dae0a0bd8cd4",
   "metadata": {
    "jupyter": {
     "source_hidden": true
    },
    "tags": []
   },
   "outputs": [
    {
     "name": "stdout",
     "output_type": "stream",
     "text": [
      "[[856206  66534]\n",
      " [254469  36058]]\n",
      "              precision    recall  f1-score   support\n",
      "\n",
      "           0       0.77      0.93      0.84    922740\n",
      "           1       0.35      0.12      0.18    290527\n",
      "\n",
      "    accuracy                           0.74   1213267\n",
      "   macro avg       0.56      0.53      0.51   1213267\n",
      "weighted avg       0.67      0.74      0.68   1213267\n",
      "\n"
     ]
    }
   ],
   "source": [
    "model = LogisticRegression(solver='liblinear')\n",
    "logreg = model.fit(x_wi[categorical], y_wi)\n",
    "# evaluate the model\n",
    "yhat = model.predict(x_val_wi[categorical])\n",
    "y_hat2 = (model.predict_proba(x_val_wi[categorical])[:,1] >= 0.3).astype(bool) # set threshold as 0.3\n",
    "# evaluate predictions\n",
    "# accuracy = model.score(x_wi[categorical], y_val_wi)\n",
    "# print('Accuracy: %.2f' % (accuracy*100))\n",
    "# print(metrics.confusion_matrix(y_val_wi, yhat))\n",
    "# print(classification_report(y_val_wi, yhat))\n",
    "print(metrics.confusion_matrix(y_val_wi, y_hat2))\n",
    "print(classification_report(y_val_wi, y_hat2))"
   ]
  },
  {
   "cell_type": "code",
   "execution_count": 30,
   "id": "042ec4c4-b248-4e6e-bc1b-91e2cdf42066",
   "metadata": {
    "jupyter": {
     "source_hidden": true
    },
    "tags": []
   },
   "outputs": [
    {
     "name": "stdout",
     "output_type": "stream",
     "text": [
      "[[917698   5042]\n",
      " [288690   1837]]\n",
      "              precision    recall  f1-score   support\n",
      "\n",
      "           0       0.76      0.99      0.86    922740\n",
      "           1       0.27      0.01      0.01    290527\n",
      "\n",
      "    accuracy                           0.76   1213267\n",
      "   macro avg       0.51      0.50      0.44   1213267\n",
      "weighted avg       0.64      0.76      0.66   1213267\n",
      "\n",
      "col_0            False  True\n",
      "women_involved              \n",
      "0               917698  5042\n",
      "1               288690  1837\n"
     ]
    }
   ],
   "source": [
    "model = LogisticRegression(solver='liblinear')\n",
    "logreg = model.fit(x_wi, y_wi)\n",
    "# evaluate the model\n",
    "yhat = model.predict(x_val_wi)\n",
    "y_hat2 = (model.predict_proba(x_val_wi)[:,1] >= 0.5).astype(bool) # set threshold as 0.3\n",
    "# evaluate predictions\n",
    "# accuracy = model.score(x_wi[categorical], y_val_wi)\n",
    "# print('Accuracy: %.2f' % (accuracy*100))\n",
    "# print(metrics.confusion_matrix(y_val_wi, yhat))\n",
    "# print(classification_report(y_val_wi, yhat))\n",
    "print(metrics.confusion_matrix(y_val_wi, y_hat2))\n",
    "print(classification_report(y_val_wi, y_hat2))\n",
    "print(pd.crosstab(y_val_wi, y_hat2))"
   ]
  },
  {
   "cell_type": "code",
   "execution_count": 31,
   "id": "4511b7a2-c5fb-449c-95a0-d596feed5705",
   "metadata": {
    "jupyter": {
     "source_hidden": true
    },
    "tags": []
   },
   "outputs": [
    {
     "name": "stdout",
     "output_type": "stream",
     "text": [
      "[[917698   5042]\n",
      " [288690   1837]]\n",
      "              precision    recall  f1-score   support\n",
      "\n",
      "           0       0.76      0.99      0.86    922740\n",
      "           1       0.27      0.01      0.01    290527\n",
      "\n",
      "    accuracy                           0.76   1213267\n",
      "   macro avg       0.51      0.50      0.44   1213267\n",
      "weighted avg       0.64      0.76      0.66   1213267\n",
      "\n",
      "col_0            False  True\n",
      "women_involved              \n",
      "0               917698  5042\n",
      "1               288690  1837\n"
     ]
    }
   ],
   "source": [
    "model = LogisticRegression(solver='liblinear')\n",
    "logreg = model.fit(x_wi, y_wi)\n",
    "# evaluate the model\n",
    "yhat = model.predict(x_val_wi)\n",
    "y_hat2 = (model.predict_proba(x_val_wi)[:,1] >= 0.4).astype(bool) # set threshold as 0.3\n",
    "# evaluate predictions\n",
    "# accuracy = model.score(x_wi[categorical], y_val_wi)\n",
    "# print('Accuracy: %.2f' % (accuracy*100))\n",
    "# print(metrics.confusion_matrix(y_val_wi, yhat))\n",
    "# print(classification_report(y_val_wi, yhat))\n",
    "print(metrics.confusion_matrix(y_val_wi, y_hat2))\n",
    "print(classification_report(y_val_wi, y_hat2))\n",
    "print(pd.crosstab(y_val_wi, y_hat2))"
   ]
  },
  {
   "cell_type": "code",
   "execution_count": 32,
   "id": "0bcf736a-89e6-4571-9a3d-5ae0a4e3bcb7",
   "metadata": {
    "jupyter": {
     "source_hidden": true
    },
    "tags": []
   },
   "outputs": [
    {
     "name": "stdout",
     "output_type": "stream",
     "text": [
      "[[917698   5042]\n",
      " [288690   1837]]\n",
      "              precision    recall  f1-score   support\n",
      "\n",
      "           0       0.76      0.99      0.86    922740\n",
      "           1       0.27      0.01      0.01    290527\n",
      "\n",
      "    accuracy                           0.76   1213267\n",
      "   macro avg       0.51      0.50      0.44   1213267\n",
      "weighted avg       0.64      0.76      0.66   1213267\n",
      "\n",
      "col_0            False  True\n",
      "women_involved              \n",
      "0               917698  5042\n",
      "1               288690  1837\n"
     ]
    }
   ],
   "source": [
    "model = LogisticRegression(solver='liblinear')\n",
    "logreg = model.fit(x_wi, y_wi)\n",
    "# evaluate the model\n",
    "yhat = model.predict(x_val_wi)\n",
    "y_hat2 = (model.predict_proba(x_val_wi)[:,1] >= 0.3).astype(bool) # set threshold as 0.3\n",
    "# evaluate predictions\n",
    "# accuracy = model.score(x_wi[categorical], y_val_wi)\n",
    "# print('Accuracy: %.2f' % (accuracy*100))\n",
    "# print(metrics.confusion_matrix(y_val_wi, yhat))\n",
    "# print(classification_report(y_val_wi, yhat))\n",
    "print(metrics.confusion_matrix(y_val_wi, y_hat2))\n",
    "print(classification_report(y_val_wi, y_hat2))\n",
    "print(pd.crosstab(y_val_wi, y_hat2))"
   ]
  },
  {
   "cell_type": "code",
   "execution_count": 33,
   "id": "92ee75f4-2fa0-44ff-9633-fa315ff6033a",
   "metadata": {
    "jupyter": {
     "source_hidden": true
    },
    "tags": []
   },
   "outputs": [],
   "source": [
    "# app_yr', 'team_size', 'Over25_Less9Grade', 'Over25_SomeHS',\n",
    "#        'Over25_HSGrad', 'Over25_SomeCollege', 'Over25_Assosc', 'Over25_Bach',\n",
    "#        'Over25_Grad', 'Agriculture_Forestry_Fishing_Hunting',\n",
    "#        'Mining_Quarrying_and_Oil_Gas_Extraction', 'Utilities', 'Construction',\n",
    "#        'Manufacturing', 'Wholesale_Trade', 'Retail_Trade',\n",
    "#        'Transportation_Warehousing', 'Information', 'Finance_Insurance',\n",
    "#        'Real_Estate_Rental_Leasing',\n",
    "#        'Professional_Scientific_and_Technical_Services',\n",
    "#        'Management_of_Companies_Enterprises',\n",
    "#        'Administrative_Support_Waste_Management_Remediation_Services',\n",
    "#        'Educational_Services', 'Health_Care_Social_Assistance',\n",
    "#        'Arts_Entertainment_and_Recreation', 'Accommodation_Food_Services',\n",
    "#        'Other_Services_except_Public_Administration', 'qp1', 'ap', 'est',\n",
    "#        'Agriculture_Forestry_Fishing_Hunting_base',\n",
    "#        'Mining_Quarrying_and_Oil_Gas_Extraction_base', 'Utilities_base',\n",
    "#        'Construction_base', 'Manufacturing_base', 'Wholesale_Trade_base',\n",
    "#        'Retail_Trade_base', 'Transportation_Warehousing_base',\n",
    "#        'Information_base', 'Finance_Insurance_base',\n",
    "#        'Real_Estate_Rental_Leasing_base',\n",
    "#        'Professional_Scientific_and_Technical_Services_base',\n",
    "#        'Management_of_Companies_Enterprises_base',\n",
    "#        'Administrative_Support_Waste_Management_Remediation_Services_base',\n",
    "#        'Educational_Services_base', 'Health_Care_Social_Assistance_base',\n",
    "#        'Arts_Entertainment_and_Recreation_base',\n",
    "#        'Accommodation_Food_Services_base',\n",
    "#        'Other_Services_except_Public_Administration_base', 'GDP', 'pop_gt_16',\n",
    "#        'pop_gt_16_lf', 'pop_gt_16_lf_c', 'Pop_Est',\n",
    "#        'Earnings_by_place_of_work',\n",
    "#        'Employee_and_self-employed_contributions_for_government_social_insurance',\n",
    "#        'Employer_contributions_for_employee_pension_and_insurance_funds',\n",
    "#        'Employer_contributions_for_government_social_insurance',\n",
    "#        'Equals_Net_earnings_by_place_of_residence', 'Farm_income',\n",
    "#        'Farm_proprietors_income',\n",
    "#        'Less_Contributions_for_government_social_insurance',\n",
    "#        'Nonfarm_personal_income', 'Nonfarm_proprietors_income',\n",
    "#        'Per_capita_personal_income_dollars',\n",
    "#        'Personal_income_thousands_of_dollars', 'Plus_Adjustment_for_residence',\n",
    "#        'Plus_Dividends_interest_and_rent',\n",
    "#        'Plus_Personal_current_transfer_receipts', 'Population_persons',\n",
    "#        'Proprietors_employment', 'Proprietors_income',\n",
    "#        'Supplements_to_wages_and_salaries', 'Total_employment',\n",
    "#        'Wage_and_salary_employment', 'Wages_and_salaries',\n",
    "#        'Population_Estimate', 'Applications', 'Award_Amount',\n",
    "#        'GDP_by_labor_force', 'ap_by_est', 'est_by_pop_gt_16_lf',\n",
    "#        'apps_by_pop_gt_16_lf', 'Wages_by_pop_gt_16_lf',\n",
    "#        'Award_by_pop_gt_16_lf', 'r1_involved', 'r2_involved',\n",
    "#        'special_focus_involved', 'any_R_uni_involved', 'Far West',\n",
    "#        'Great Lakes', 'Mideast', 'New England', 'Plains', 'Rocky Mountain',\n",
    "#        'Southeast', 'Southwest'"
   ]
  },
  {
   "cell_type": "markdown",
   "id": "7e9a5051-f06a-4850-8f5c-83a0d81a28f3",
   "metadata": {
    "tags": []
   },
   "source": [
    "#### Exploring Different Model Combinations, Including Polynomial Features"
   ]
  },
  {
   "cell_type": "code",
   "execution_count": 34,
   "id": "cabcb8ee-d549-4ff7-ab97-3262a1eadb6f",
   "metadata": {},
   "outputs": [],
   "source": [
    "from sklearn.preprocessing import PolynomialFeatures\n",
    "from sklearn.pipeline import Pipeline\n",
    "from sklearn.metrics import plot_roc_curve\n",
    "from sklearn_pandas import DataFrameMapper"
   ]
  },
  {
   "cell_type": "code",
   "execution_count": 35,
   "id": "8d721425-1b54-4f2b-a4c2-a69915c0761e",
   "metadata": {
    "jupyter": {
     "source_hidden": true
    },
    "tags": []
   },
   "outputs": [],
   "source": [
    "# def log_reg(features, x_train, y_train, x_test, y_test):\n",
    "#     x_test = x_test[features]\n",
    "#     model = LogisticRegression(solver='liblinear')\n",
    "#     logreg = model.fit(x_train[features], y_train)\n",
    "#     yhat = model.predict_proba(x_test)[:,1]\n",
    "#     auc = metrics.roc_auc_score(y_test, yhat).round(3)\n",
    "#     lst_dict.append({'auc':auc,'features':features})\n",
    "#     return lst_dict"
   ]
  },
  {
   "cell_type": "code",
   "execution_count": 36,
   "id": "877b8a68-1eaf-4c01-81c1-656329369186",
   "metadata": {},
   "outputs": [],
   "source": [
    "def log_reg(features, x_train, y_train, x_test, y_test, polynomials = None, degree = 1):\n",
    "\n",
    "    if polynomials == None:\n",
    "        x_test = x_test[features]\n",
    "        model = LogisticRegression(solver='liblinear')\n",
    "        logreg = model.fit(x_train[features], y_train)\n",
    "        yhat = model.predict_proba(x_test)[:,1]\n",
    "        auc = metrics.roc_auc_score(y_test, yhat).round(3)\n",
    "        lst_dict.append({'auc':auc,'features':features, 'degree': degree, \n",
    "                         'polynomial_features':polynomials})\n",
    "        return lst_dict\n",
    "    \n",
    "    else:\n",
    "        x_test = x_test[features]\n",
    "        x_train = x_train[features]\n",
    "        poly = DataFrameMapper([(polynomials, \n",
    "                               PolynomialFeatures(degree))\n",
    "                               ])\n",
    "        x_train = poly.fit_transform(x_train)\n",
    "        x_test = poly.fit_transform(x_test)\n",
    "        model = LogisticRegression(solver='liblinear')\n",
    "        logreg = model.fit(x_train, y_train)\n",
    "        yhat = model.predict_proba(x_test)[:,1]\n",
    "        auc = metrics.roc_auc_score(y_test, yhat).round(3)\n",
    "        lst_dict.append({'auc':auc,'features':features, 'degree': degree, \n",
    "                         'polynomial_features':polynomials})\n",
    "        return lst_dict"
   ]
  },
  {
   "cell_type": "markdown",
   "id": "c7711080-b4cb-487d-a695-5a453a5583d9",
   "metadata": {},
   "source": [
    "##### Feature Subsets"
   ]
  },
  {
   "cell_type": "code",
   "execution_count": 37,
   "id": "a270c999-c935-44e2-aead-5c3804db53de",
   "metadata": {
    "jupyter": {
     "source_hidden": true
    }
   },
   "outputs": [],
   "source": [
    "regions = ['Far West','Great Lakes', 'Mideast', 'New England', 'Plains', 'Rocky Mountain', 'Southeast', 'Southwest']"
   ]
  },
  {
   "cell_type": "code",
   "execution_count": 38,
   "id": "fbcd4d00-245e-4f23-8e5a-5a5e4e135183",
   "metadata": {
    "jupyter": {
     "source_hidden": true
    }
   },
   "outputs": [],
   "source": [
    "university = ['r1_involved', 'r2_involved',\n",
    "       'special_focus_involved']"
   ]
  },
  {
   "cell_type": "code",
   "execution_count": 39,
   "id": "2d911967-eaeb-48c9-a00d-e80db2d7beab",
   "metadata": {
    "jupyter": {
     "source_hidden": true
    }
   },
   "outputs": [],
   "source": [
    "economics = ['Earnings_by_place_of_work',\n",
    "       'Employee_and_self-employed_contributions_for_government_social_insurance',\n",
    "       'Employer_contributions_for_employee_pension_and_insurance_funds',\n",
    "       'Employer_contributions_for_government_social_insurance',\n",
    "       'Equals_Net_earnings_by_place_of_residence', 'Farm_income',\n",
    "       'Farm_proprietors_income',\n",
    "       'Less_Contributions_for_government_social_insurance',\n",
    "       'Nonfarm_personal_income', 'Nonfarm_proprietors_income',\n",
    "       'Per_capita_personal_income_dollars',\n",
    "       'Personal_income_thousands_of_dollars', 'Plus_Adjustment_for_residence',\n",
    "       'Plus_Dividends_interest_and_rent',\n",
    "       'Plus_Personal_current_transfer_receipts', 'Population_persons',\n",
    "       'Proprietors_employment', 'Proprietors_income',\n",
    "       'Supplements_to_wages_and_salaries', 'Total_employment',\n",
    "       'Wage_and_salary_employment', 'Wages_and_salaries',\n",
    "       'Population_Estimate', 'Applications', 'Award_Amount',\n",
    "       'GDP_by_labor_force', 'ap_by_est', 'est_by_pop_gt_16_lf',\n",
    "       'apps_by_pop_gt_16_lf', 'Wages_by_pop_gt_16_lf',\n",
    "       'Award_by_pop_gt_16_lf', 'GDP']"
   ]
  },
  {
   "cell_type": "code",
   "execution_count": 40,
   "id": "f34ce419-c8ed-4e89-b286-3c29acc185c2",
   "metadata": {
    "jupyter": {
     "source_hidden": true
    }
   },
   "outputs": [],
   "source": [
    "education = ['Over25_HSGrad', 'Over25_SomeCollege', 'Over25_Assosc', 'Over25_Bach',\n",
    "       'Over25_Grad']"
   ]
  },
  {
   "cell_type": "code",
   "execution_count": 41,
   "id": "dbbdcbe4-78da-4cd3-8858-3e5970d4028f",
   "metadata": {
    "tags": []
   },
   "outputs": [],
   "source": [
    "naics = ['Agriculture_Forestry_Fishing_Hunting',\n",
    "       'Mining_Quarrying_and_Oil_Gas_Extraction', 'Utilities', 'Construction',\n",
    "       'Manufacturing', 'Wholesale_Trade', 'Retail_Trade',\n",
    "       'Transportation_Warehousing', 'Information', 'Finance_Insurance',\n",
    "       'Real_Estate_Rental_Leasing',\n",
    "       'Professional_Scientific_and_Technical_Services',\n",
    "       'Management_of_Companies_Enterprises',\n",
    "       'Administrative_Support_Waste_Management_Remediation_Services',\n",
    "       'Educational_Services', 'Health_Care_Social_Assistance',\n",
    "       'Arts_Entertainment_and_Recreation', 'Accommodation_Food_Services',\n",
    "       'Other_Services_except_Public_Administration']"
   ]
  },
  {
   "cell_type": "code",
   "execution_count": 42,
   "id": "29cd49de-fb67-45a8-bb4d-b3f25726982b",
   "metadata": {
    "tags": []
   },
   "outputs": [],
   "source": [
    "top_4_chi = ['r1_involved', 'special_focus_involved', 'Rocky Mountain', 'r2_involved']"
   ]
  },
  {
   "cell_type": "code",
   "execution_count": 43,
   "id": "be55dfd2-75c4-4392-856d-9cb883ef26a0",
   "metadata": {
    "tags": []
   },
   "outputs": [],
   "source": [
    "top_5_chi = ['r1_involved', 'special_focus_involved', 'Rocky Mountain', 'r2_involved', 'Southwest']"
   ]
  },
  {
   "cell_type": "code",
   "execution_count": 44,
   "id": "84b1a3a6-afb3-484c-874d-08c2dedae3d8",
   "metadata": {
    "tags": []
   },
   "outputs": [
    {
     "data": {
      "text/plain": [
       "['r1_involved', 'special_focus_involved', 'Rocky Mountain', 'r2_involved']"
      ]
     },
     "execution_count": 44,
     "metadata": {},
     "output_type": "execute_result"
    }
   ],
   "source": [
    "top_4_chi"
   ]
  },
  {
   "cell_type": "code",
   "execution_count": 45,
   "id": "3bac29cc-9a56-4319-8642-2b8444812187",
   "metadata": {},
   "outputs": [],
   "source": [
    "dicts = [{'features':top_4_chi + ['Over25_Bach'], 'polynomials':['Over25_Bach']},\n",
    "         {'features':top_5_chi + ['Over25_Bach'], 'polynomials':['Over25_Bach']},\n",
    "         {'features':top_4_chi + education, 'polynomials':education},\n",
    "         {'features':top_4_chi + ['Over25_Bach', 'Award_by_pop_gt_16_lf'], \n",
    "          'polynomials':['Over25_Bach', 'Award_by_pop_gt_16_lf']},\n",
    "         {'features':top_5_chi + ['Over25_Bach', 'Award_by_pop_gt_16_lf'], \n",
    "          'polynomials':['Over25_Bach', 'Award_by_pop_gt_16_lf']},\n",
    "         {'features':top_4_chi + ['Over25_Grad', 'Award_by_pop_gt_16_lf'], \n",
    "          'polynomials':['Over25_Grad', 'Award_by_pop_gt_16_lf']},\n",
    "         {'features':top_5_chi + ['Over25_Grad', 'Award_by_pop_gt_16_lf'], \n",
    "          'polynomials':['Over25_Grad', 'Award_by_pop_gt_16_lf']},\n",
    "         {'features':top_4_chi + ['Over25_Grad', 'Award_by_pop_gt_16_lf'] + naics, \n",
    "          'polynomials':['Over25_Grad', 'Award_by_pop_gt_16_lf'] + naics},\n",
    "         {'features': top_5_chi + ['Over25_Grad', 'Award_by_pop_gt_16_lf'] + naics,\n",
    "          'polynomials':['Over25_Grad', 'Award_by_pop_gt_16_lf'] + naics},\n",
    "         # {'features':, 'polynomials':},\n",
    "         # {'features':, 'polynomials':},\n",
    "         # {'features':, 'polynomials':},\n",
    "         # {'features':, 'polynomials':},\n",
    "         # {'features':, 'polynomials':},\n",
    "         # {'features':, 'polynomials':},\n",
    "         # {'features':, 'polynomials':},\n",
    "        ]"
   ]
  },
  {
   "cell_type": "code",
   "execution_count": 46,
   "id": "c00ea076-cd3a-4f2f-b7ae-972e9ff284e2",
   "metadata": {},
   "outputs": [
    {
     "name": "stderr",
     "output_type": "stream",
     "text": [
      "C:\\Users\\trent\\AppData\\Local\\Temp\\ipykernel_21400\\2157273320.py:2: FutureWarning: The frame.append method is deprecated and will be removed from pandas in a future version. Use pandas.concat instead.\n",
      "  features_polynomials = features_polynomials.append(dicts)\n"
     ]
    }
   ],
   "source": [
    "features_polynomials = pd.DataFrame()\n",
    "features_polynomials = features_polynomials.append(dicts)"
   ]
  },
  {
   "cell_type": "code",
   "execution_count": 47,
   "id": "8333d118-3098-49c7-8584-197252f6975b",
   "metadata": {},
   "outputs": [
    {
     "data": {
      "text/html": [
       "<div>\n",
       "<style scoped>\n",
       "    .dataframe tbody tr th:only-of-type {\n",
       "        vertical-align: middle;\n",
       "    }\n",
       "\n",
       "    .dataframe tbody tr th {\n",
       "        vertical-align: top;\n",
       "    }\n",
       "\n",
       "    .dataframe thead th {\n",
       "        text-align: right;\n",
       "    }\n",
       "</style>\n",
       "<table border=\"1\" class=\"dataframe\">\n",
       "  <thead>\n",
       "    <tr style=\"text-align: right;\">\n",
       "      <th></th>\n",
       "      <th>features</th>\n",
       "      <th>polynomials</th>\n",
       "    </tr>\n",
       "  </thead>\n",
       "  <tbody>\n",
       "    <tr>\n",
       "      <th>0</th>\n",
       "      <td>[r1_involved, special_focus_involved, Rocky Mo...</td>\n",
       "      <td>[Over25_Bach]</td>\n",
       "    </tr>\n",
       "    <tr>\n",
       "      <th>1</th>\n",
       "      <td>[r1_involved, special_focus_involved, Rocky Mo...</td>\n",
       "      <td>[Over25_Bach]</td>\n",
       "    </tr>\n",
       "    <tr>\n",
       "      <th>2</th>\n",
       "      <td>[r1_involved, special_focus_involved, Rocky Mo...</td>\n",
       "      <td>[Over25_HSGrad, Over25_SomeCollege, Over25_Ass...</td>\n",
       "    </tr>\n",
       "    <tr>\n",
       "      <th>3</th>\n",
       "      <td>[r1_involved, special_focus_involved, Rocky Mo...</td>\n",
       "      <td>[Over25_Bach, Award_by_pop_gt_16_lf]</td>\n",
       "    </tr>\n",
       "    <tr>\n",
       "      <th>4</th>\n",
       "      <td>[r1_involved, special_focus_involved, Rocky Mo...</td>\n",
       "      <td>[Over25_Bach, Award_by_pop_gt_16_lf]</td>\n",
       "    </tr>\n",
       "    <tr>\n",
       "      <th>5</th>\n",
       "      <td>[r1_involved, special_focus_involved, Rocky Mo...</td>\n",
       "      <td>[Over25_Grad, Award_by_pop_gt_16_lf]</td>\n",
       "    </tr>\n",
       "    <tr>\n",
       "      <th>6</th>\n",
       "      <td>[r1_involved, special_focus_involved, Rocky Mo...</td>\n",
       "      <td>[Over25_Grad, Award_by_pop_gt_16_lf]</td>\n",
       "    </tr>\n",
       "    <tr>\n",
       "      <th>7</th>\n",
       "      <td>[r1_involved, special_focus_involved, Rocky Mo...</td>\n",
       "      <td>[Over25_Grad, Award_by_pop_gt_16_lf, Agricultu...</td>\n",
       "    </tr>\n",
       "    <tr>\n",
       "      <th>8</th>\n",
       "      <td>[r1_involved, special_focus_involved, Rocky Mo...</td>\n",
       "      <td>[Over25_Grad, Award_by_pop_gt_16_lf, Agricultu...</td>\n",
       "    </tr>\n",
       "  </tbody>\n",
       "</table>\n",
       "</div>"
      ],
      "text/plain": [
       "                                            features  \\\n",
       "0  [r1_involved, special_focus_involved, Rocky Mo...   \n",
       "1  [r1_involved, special_focus_involved, Rocky Mo...   \n",
       "2  [r1_involved, special_focus_involved, Rocky Mo...   \n",
       "3  [r1_involved, special_focus_involved, Rocky Mo...   \n",
       "4  [r1_involved, special_focus_involved, Rocky Mo...   \n",
       "5  [r1_involved, special_focus_involved, Rocky Mo...   \n",
       "6  [r1_involved, special_focus_involved, Rocky Mo...   \n",
       "7  [r1_involved, special_focus_involved, Rocky Mo...   \n",
       "8  [r1_involved, special_focus_involved, Rocky Mo...   \n",
       "\n",
       "                                         polynomials  \n",
       "0                                      [Over25_Bach]  \n",
       "1                                      [Over25_Bach]  \n",
       "2  [Over25_HSGrad, Over25_SomeCollege, Over25_Ass...  \n",
       "3               [Over25_Bach, Award_by_pop_gt_16_lf]  \n",
       "4               [Over25_Bach, Award_by_pop_gt_16_lf]  \n",
       "5               [Over25_Grad, Award_by_pop_gt_16_lf]  \n",
       "6               [Over25_Grad, Award_by_pop_gt_16_lf]  \n",
       "7  [Over25_Grad, Award_by_pop_gt_16_lf, Agricultu...  \n",
       "8  [Over25_Grad, Award_by_pop_gt_16_lf, Agricultu...  "
      ]
     },
     "execution_count": 47,
     "metadata": {},
     "output_type": "execute_result"
    }
   ],
   "source": [
    "features_polynomials"
   ]
  },
  {
   "cell_type": "code",
   "execution_count": 48,
   "id": "d31d6d05-f74d-4aab-a71b-9da8396123df",
   "metadata": {
    "tags": []
   },
   "outputs": [
    {
     "data": {
      "text/plain": [
       "['r1_involved',\n",
       " 'special_focus_involved',\n",
       " 'Rocky Mountain',\n",
       " 'r2_involved',\n",
       " 'Over25_Bach']"
      ]
     },
     "execution_count": 48,
     "metadata": {},
     "output_type": "execute_result"
    }
   ],
   "source": [
    "features_polynomials['features'].loc[0]"
   ]
  },
  {
   "cell_type": "code",
   "execution_count": 49,
   "id": "0128a987-b2a0-4035-bc7b-92cf4e372c16",
   "metadata": {},
   "outputs": [
    {
     "data": {
      "text/plain": [
       "range(0, 9)"
      ]
     },
     "execution_count": 49,
     "metadata": {},
     "output_type": "execute_result"
    }
   ],
   "source": [
    "range(len(features_polynomials))"
   ]
  },
  {
   "cell_type": "code",
   "execution_count": 74,
   "id": "2b1c2983-ede0-47db-b665-69a921e80dfe",
   "metadata": {},
   "outputs": [],
   "source": [
    "lst_dict = []\n",
    "for i in range(len(features_polynomials)):\n",
    "    log_reg(features_polynomials['features'].loc[i],\n",
    "            x_wi, y_wi, x_val_wi, y_val_wi,\n",
    "            polynomials = None, \n",
    "            degree = 1)\n",
    "    \n",
    "# df = pd.DataFrame(lst_dict)\n",
    "df1 = pd.DataFrame(lst_dict)\n",
    "df = pd.concat([df,df1]).reset_index().drop('index', axis =1)"
   ]
  },
  {
   "cell_type": "code",
   "execution_count": 77,
   "id": "5c366761-d84e-47f3-a069-ab6819c81d80",
   "metadata": {},
   "outputs": [
    {
     "data": {
      "text/html": [
       "<style type=\"text/css\">\n",
       "#T_a2af1_row0_col1, #T_a2af1_row1_col1, #T_a2af1_row2_col1, #T_a2af1_row3_col1, #T_a2af1_row4_col1, #T_a2af1_row5_col1, #T_a2af1_row6_col1, #T_a2af1_row7_col1, #T_a2af1_row8_col1, #T_a2af1_row9_col1, #T_a2af1_row10_col1, #T_a2af1_row11_col1, #T_a2af1_row12_col1, #T_a2af1_row13_col1, #T_a2af1_row14_col1, #T_a2af1_row15_col1, #T_a2af1_row16_col1, #T_a2af1_row17_col1 {\n",
       "  width: 500px;\n",
       "}\n",
       "</style>\n",
       "<table id=\"T_a2af1\">\n",
       "  <thead>\n",
       "    <tr>\n",
       "      <th class=\"blank level0\" >&nbsp;</th>\n",
       "      <th id=\"T_a2af1_level0_col0\" class=\"col_heading level0 col0\" >auc</th>\n",
       "      <th id=\"T_a2af1_level0_col1\" class=\"col_heading level0 col1\" >features</th>\n",
       "      <th id=\"T_a2af1_level0_col2\" class=\"col_heading level0 col2\" >degree</th>\n",
       "      <th id=\"T_a2af1_level0_col3\" class=\"col_heading level0 col3\" >polynomial_features</th>\n",
       "    </tr>\n",
       "  </thead>\n",
       "  <tbody>\n",
       "    <tr>\n",
       "      <th id=\"T_a2af1_level0_row0\" class=\"row_heading level0 row0\" >0</th>\n",
       "      <td id=\"T_a2af1_row0_col0\" class=\"data row0 col0\" >0.472000</td>\n",
       "      <td id=\"T_a2af1_row0_col1\" class=\"data row0 col1\" >['r1_involved', 'special_focus_involved', 'Rocky Mountain', 'r2_involved', 'Over25_Bach']</td>\n",
       "      <td id=\"T_a2af1_row0_col2\" class=\"data row0 col2\" >2</td>\n",
       "      <td id=\"T_a2af1_row0_col3\" class=\"data row0 col3\" >['Over25_Bach']</td>\n",
       "    </tr>\n",
       "    <tr>\n",
       "      <th id=\"T_a2af1_level0_row1\" class=\"row_heading level0 row1\" >1</th>\n",
       "      <td id=\"T_a2af1_row1_col0\" class=\"data row1 col0\" >0.472000</td>\n",
       "      <td id=\"T_a2af1_row1_col1\" class=\"data row1 col1\" >['r1_involved', 'special_focus_involved', 'Rocky Mountain', 'r2_involved', 'Southwest', 'Over25_Bach']</td>\n",
       "      <td id=\"T_a2af1_row1_col2\" class=\"data row1 col2\" >2</td>\n",
       "      <td id=\"T_a2af1_row1_col3\" class=\"data row1 col3\" >['Over25_Bach']</td>\n",
       "    </tr>\n",
       "    <tr>\n",
       "      <th id=\"T_a2af1_level0_row2\" class=\"row_heading level0 row2\" >2</th>\n",
       "      <td id=\"T_a2af1_row2_col0\" class=\"data row2 col0\" >0.498000</td>\n",
       "      <td id=\"T_a2af1_row2_col1\" class=\"data row2 col1\" >['r1_involved', 'special_focus_involved', 'Rocky Mountain', 'r2_involved', 'Over25_HSGrad', 'Over25_SomeCollege', 'Over25_Assosc', 'Over25_Bach', 'Over25_Grad']</td>\n",
       "      <td id=\"T_a2af1_row2_col2\" class=\"data row2 col2\" >2</td>\n",
       "      <td id=\"T_a2af1_row2_col3\" class=\"data row2 col3\" >['Over25_HSGrad', 'Over25_SomeCollege', 'Over25_Assosc', 'Over25_Bach', 'Over25_Grad']</td>\n",
       "    </tr>\n",
       "    <tr>\n",
       "      <th id=\"T_a2af1_level0_row3\" class=\"row_heading level0 row3\" >3</th>\n",
       "      <td id=\"T_a2af1_row3_col0\" class=\"data row3 col0\" >0.469000</td>\n",
       "      <td id=\"T_a2af1_row3_col1\" class=\"data row3 col1\" >['r1_involved', 'special_focus_involved', 'Rocky Mountain', 'r2_involved', 'Over25_Bach', 'Award_by_pop_gt_16_lf']</td>\n",
       "      <td id=\"T_a2af1_row3_col2\" class=\"data row3 col2\" >2</td>\n",
       "      <td id=\"T_a2af1_row3_col3\" class=\"data row3 col3\" >['Over25_Bach', 'Award_by_pop_gt_16_lf']</td>\n",
       "    </tr>\n",
       "    <tr>\n",
       "      <th id=\"T_a2af1_level0_row4\" class=\"row_heading level0 row4\" >4</th>\n",
       "      <td id=\"T_a2af1_row4_col0\" class=\"data row4 col0\" >0.469000</td>\n",
       "      <td id=\"T_a2af1_row4_col1\" class=\"data row4 col1\" >['r1_involved', 'special_focus_involved', 'Rocky Mountain', 'r2_involved', 'Southwest', 'Over25_Bach', 'Award_by_pop_gt_16_lf']</td>\n",
       "      <td id=\"T_a2af1_row4_col2\" class=\"data row4 col2\" >2</td>\n",
       "      <td id=\"T_a2af1_row4_col3\" class=\"data row4 col3\" >['Over25_Bach', 'Award_by_pop_gt_16_lf']</td>\n",
       "    </tr>\n",
       "    <tr>\n",
       "      <th id=\"T_a2af1_level0_row5\" class=\"row_heading level0 row5\" >5</th>\n",
       "      <td id=\"T_a2af1_row5_col0\" class=\"data row5 col0\" >0.458000</td>\n",
       "      <td id=\"T_a2af1_row5_col1\" class=\"data row5 col1\" >['r1_involved', 'special_focus_involved', 'Rocky Mountain', 'r2_involved', 'Over25_Grad', 'Award_by_pop_gt_16_lf']</td>\n",
       "      <td id=\"T_a2af1_row5_col2\" class=\"data row5 col2\" >2</td>\n",
       "      <td id=\"T_a2af1_row5_col3\" class=\"data row5 col3\" >['Over25_Grad', 'Award_by_pop_gt_16_lf']</td>\n",
       "    </tr>\n",
       "    <tr>\n",
       "      <th id=\"T_a2af1_level0_row6\" class=\"row_heading level0 row6\" >6</th>\n",
       "      <td id=\"T_a2af1_row6_col0\" class=\"data row6 col0\" >0.458000</td>\n",
       "      <td id=\"T_a2af1_row6_col1\" class=\"data row6 col1\" >['r1_involved', 'special_focus_involved', 'Rocky Mountain', 'r2_involved', 'Southwest', 'Over25_Grad', 'Award_by_pop_gt_16_lf']</td>\n",
       "      <td id=\"T_a2af1_row6_col2\" class=\"data row6 col2\" >2</td>\n",
       "      <td id=\"T_a2af1_row6_col3\" class=\"data row6 col3\" >['Over25_Grad', 'Award_by_pop_gt_16_lf']</td>\n",
       "    </tr>\n",
       "    <tr>\n",
       "      <th id=\"T_a2af1_level0_row7\" class=\"row_heading level0 row7\" >7</th>\n",
       "      <td id=\"T_a2af1_row7_col0\" class=\"data row7 col0\" >0.512000</td>\n",
       "      <td id=\"T_a2af1_row7_col1\" class=\"data row7 col1\" >['r1_involved', 'special_focus_involved', 'Rocky Mountain', 'r2_involved', 'Over25_Grad', 'Award_by_pop_gt_16_lf', 'Agriculture_Forestry_Fishing_Hunting', 'Mining_Quarrying_and_Oil_Gas_Extraction', 'Utilities', 'Construction', 'Manufacturing', 'Wholesale_Trade', 'Retail_Trade', 'Transportation_Warehousing', 'Information', 'Finance_Insurance', 'Real_Estate_Rental_Leasing', 'Professional_Scientific_and_Technical_Services', 'Management_of_Companies_Enterprises', 'Administrative_Support_Waste_Management_Remediation_Services', 'Educational_Services', 'Health_Care_Social_Assistance', 'Arts_Entertainment_and_Recreation', 'Accommodation_Food_Services', 'Other_Services_except_Public_Administration']</td>\n",
       "      <td id=\"T_a2af1_row7_col2\" class=\"data row7 col2\" >2</td>\n",
       "      <td id=\"T_a2af1_row7_col3\" class=\"data row7 col3\" >['Over25_Grad', 'Award_by_pop_gt_16_lf', 'Agriculture_Forestry_Fishing_Hunting', 'Mining_Quarrying_and_Oil_Gas_Extraction', 'Utilities', 'Construction', 'Manufacturing', 'Wholesale_Trade', 'Retail_Trade', 'Transportation_Warehousing', 'Information', 'Finance_Insurance', 'Real_Estate_Rental_Leasing', 'Professional_Scientific_and_Technical_Services', 'Management_of_Companies_Enterprises', 'Administrative_Support_Waste_Management_Remediation_Services', 'Educational_Services', 'Health_Care_Social_Assistance', 'Arts_Entertainment_and_Recreation', 'Accommodation_Food_Services', 'Other_Services_except_Public_Administration']</td>\n",
       "    </tr>\n",
       "    <tr>\n",
       "      <th id=\"T_a2af1_level0_row8\" class=\"row_heading level0 row8\" >8</th>\n",
       "      <td id=\"T_a2af1_row8_col0\" class=\"data row8 col0\" >0.512000</td>\n",
       "      <td id=\"T_a2af1_row8_col1\" class=\"data row8 col1\" >['r1_involved', 'special_focus_involved', 'Rocky Mountain', 'r2_involved', 'Southwest', 'Over25_Grad', 'Award_by_pop_gt_16_lf', 'Agriculture_Forestry_Fishing_Hunting', 'Mining_Quarrying_and_Oil_Gas_Extraction', 'Utilities', 'Construction', 'Manufacturing', 'Wholesale_Trade', 'Retail_Trade', 'Transportation_Warehousing', 'Information', 'Finance_Insurance', 'Real_Estate_Rental_Leasing', 'Professional_Scientific_and_Technical_Services', 'Management_of_Companies_Enterprises', 'Administrative_Support_Waste_Management_Remediation_Services', 'Educational_Services', 'Health_Care_Social_Assistance', 'Arts_Entertainment_and_Recreation', 'Accommodation_Food_Services', 'Other_Services_except_Public_Administration']</td>\n",
       "      <td id=\"T_a2af1_row8_col2\" class=\"data row8 col2\" >2</td>\n",
       "      <td id=\"T_a2af1_row8_col3\" class=\"data row8 col3\" >['Over25_Grad', 'Award_by_pop_gt_16_lf', 'Agriculture_Forestry_Fishing_Hunting', 'Mining_Quarrying_and_Oil_Gas_Extraction', 'Utilities', 'Construction', 'Manufacturing', 'Wholesale_Trade', 'Retail_Trade', 'Transportation_Warehousing', 'Information', 'Finance_Insurance', 'Real_Estate_Rental_Leasing', 'Professional_Scientific_and_Technical_Services', 'Management_of_Companies_Enterprises', 'Administrative_Support_Waste_Management_Remediation_Services', 'Educational_Services', 'Health_Care_Social_Assistance', 'Arts_Entertainment_and_Recreation', 'Accommodation_Food_Services', 'Other_Services_except_Public_Administration']</td>\n",
       "    </tr>\n",
       "    <tr>\n",
       "      <th id=\"T_a2af1_level0_row9\" class=\"row_heading level0 row9\" >9</th>\n",
       "      <td id=\"T_a2af1_row9_col0\" class=\"data row9 col0\" >0.547000</td>\n",
       "      <td id=\"T_a2af1_row9_col1\" class=\"data row9 col1\" >['r1_involved', 'special_focus_involved', 'Rocky Mountain', 'r2_involved', 'Over25_Bach']</td>\n",
       "      <td id=\"T_a2af1_row9_col2\" class=\"data row9 col2\" >1</td>\n",
       "      <td id=\"T_a2af1_row9_col3\" class=\"data row9 col3\" >None</td>\n",
       "    </tr>\n",
       "    <tr>\n",
       "      <th id=\"T_a2af1_level0_row10\" class=\"row_heading level0 row10\" >10</th>\n",
       "      <td id=\"T_a2af1_row10_col0\" class=\"data row10 col0\" >0.549000</td>\n",
       "      <td id=\"T_a2af1_row10_col1\" class=\"data row10 col1\" >['r1_involved', 'special_focus_involved', 'Rocky Mountain', 'r2_involved', 'Southwest', 'Over25_Bach']</td>\n",
       "      <td id=\"T_a2af1_row10_col2\" class=\"data row10 col2\" >1</td>\n",
       "      <td id=\"T_a2af1_row10_col3\" class=\"data row10 col3\" >None</td>\n",
       "    </tr>\n",
       "    <tr>\n",
       "      <th id=\"T_a2af1_level0_row11\" class=\"row_heading level0 row11\" >11</th>\n",
       "      <td id=\"T_a2af1_row11_col0\" class=\"data row11 col0\" >0.563000</td>\n",
       "      <td id=\"T_a2af1_row11_col1\" class=\"data row11 col1\" >['r1_involved', 'special_focus_involved', 'Rocky Mountain', 'r2_involved', 'Over25_HSGrad', 'Over25_SomeCollege', 'Over25_Assosc', 'Over25_Bach', 'Over25_Grad']</td>\n",
       "      <td id=\"T_a2af1_row11_col2\" class=\"data row11 col2\" >1</td>\n",
       "      <td id=\"T_a2af1_row11_col3\" class=\"data row11 col3\" >None</td>\n",
       "    </tr>\n",
       "    <tr>\n",
       "      <th id=\"T_a2af1_level0_row12\" class=\"row_heading level0 row12\" >12</th>\n",
       "      <td id=\"T_a2af1_row12_col0\" class=\"data row12 col0\" >0.547000</td>\n",
       "      <td id=\"T_a2af1_row12_col1\" class=\"data row12 col1\" >['r1_involved', 'special_focus_involved', 'Rocky Mountain', 'r2_involved', 'Over25_Bach', 'Award_by_pop_gt_16_lf']</td>\n",
       "      <td id=\"T_a2af1_row12_col2\" class=\"data row12 col2\" >1</td>\n",
       "      <td id=\"T_a2af1_row12_col3\" class=\"data row12 col3\" >None</td>\n",
       "    </tr>\n",
       "    <tr>\n",
       "      <th id=\"T_a2af1_level0_row13\" class=\"row_heading level0 row13\" >13</th>\n",
       "      <td id=\"T_a2af1_row13_col0\" class=\"data row13 col0\" >0.550000</td>\n",
       "      <td id=\"T_a2af1_row13_col1\" class=\"data row13 col1\" >['r1_involved', 'special_focus_involved', 'Rocky Mountain', 'r2_involved', 'Southwest', 'Over25_Bach', 'Award_by_pop_gt_16_lf']</td>\n",
       "      <td id=\"T_a2af1_row13_col2\" class=\"data row13 col2\" >1</td>\n",
       "      <td id=\"T_a2af1_row13_col3\" class=\"data row13 col3\" >None</td>\n",
       "    </tr>\n",
       "    <tr>\n",
       "      <th id=\"T_a2af1_level0_row14\" class=\"row_heading level0 row14\" >14</th>\n",
       "      <td id=\"T_a2af1_row14_col0\" class=\"data row14 col0\" >0.558000</td>\n",
       "      <td id=\"T_a2af1_row14_col1\" class=\"data row14 col1\" >['r1_involved', 'special_focus_involved', 'Rocky Mountain', 'r2_involved', 'Over25_Grad', 'Award_by_pop_gt_16_lf']</td>\n",
       "      <td id=\"T_a2af1_row14_col2\" class=\"data row14 col2\" >1</td>\n",
       "      <td id=\"T_a2af1_row14_col3\" class=\"data row14 col3\" >None</td>\n",
       "    </tr>\n",
       "    <tr>\n",
       "      <th id=\"T_a2af1_level0_row15\" class=\"row_heading level0 row15\" >15</th>\n",
       "      <td id=\"T_a2af1_row15_col0\" class=\"data row15 col0\" >0.559000</td>\n",
       "      <td id=\"T_a2af1_row15_col1\" class=\"data row15 col1\" >['r1_involved', 'special_focus_involved', 'Rocky Mountain', 'r2_involved', 'Southwest', 'Over25_Grad', 'Award_by_pop_gt_16_lf']</td>\n",
       "      <td id=\"T_a2af1_row15_col2\" class=\"data row15 col2\" >1</td>\n",
       "      <td id=\"T_a2af1_row15_col3\" class=\"data row15 col3\" >None</td>\n",
       "    </tr>\n",
       "    <tr>\n",
       "      <th id=\"T_a2af1_level0_row16\" class=\"row_heading level0 row16\" >16</th>\n",
       "      <td id=\"T_a2af1_row16_col0\" class=\"data row16 col0\" >0.564000</td>\n",
       "      <td id=\"T_a2af1_row16_col1\" class=\"data row16 col1\" >['r1_involved', 'special_focus_involved', 'Rocky Mountain', 'r2_involved', 'Over25_Grad', 'Award_by_pop_gt_16_lf', 'Agriculture_Forestry_Fishing_Hunting', 'Mining_Quarrying_and_Oil_Gas_Extraction', 'Utilities', 'Construction', 'Manufacturing', 'Wholesale_Trade', 'Retail_Trade', 'Transportation_Warehousing', 'Information', 'Finance_Insurance', 'Real_Estate_Rental_Leasing', 'Professional_Scientific_and_Technical_Services', 'Management_of_Companies_Enterprises', 'Administrative_Support_Waste_Management_Remediation_Services', 'Educational_Services', 'Health_Care_Social_Assistance', 'Arts_Entertainment_and_Recreation', 'Accommodation_Food_Services', 'Other_Services_except_Public_Administration']</td>\n",
       "      <td id=\"T_a2af1_row16_col2\" class=\"data row16 col2\" >1</td>\n",
       "      <td id=\"T_a2af1_row16_col3\" class=\"data row16 col3\" >None</td>\n",
       "    </tr>\n",
       "    <tr>\n",
       "      <th id=\"T_a2af1_level0_row17\" class=\"row_heading level0 row17\" >17</th>\n",
       "      <td id=\"T_a2af1_row17_col0\" class=\"data row17 col0\" >0.565000</td>\n",
       "      <td id=\"T_a2af1_row17_col1\" class=\"data row17 col1\" >['r1_involved', 'special_focus_involved', 'Rocky Mountain', 'r2_involved', 'Southwest', 'Over25_Grad', 'Award_by_pop_gt_16_lf', 'Agriculture_Forestry_Fishing_Hunting', 'Mining_Quarrying_and_Oil_Gas_Extraction', 'Utilities', 'Construction', 'Manufacturing', 'Wholesale_Trade', 'Retail_Trade', 'Transportation_Warehousing', 'Information', 'Finance_Insurance', 'Real_Estate_Rental_Leasing', 'Professional_Scientific_and_Technical_Services', 'Management_of_Companies_Enterprises', 'Administrative_Support_Waste_Management_Remediation_Services', 'Educational_Services', 'Health_Care_Social_Assistance', 'Arts_Entertainment_and_Recreation', 'Accommodation_Food_Services', 'Other_Services_except_Public_Administration']</td>\n",
       "      <td id=\"T_a2af1_row17_col2\" class=\"data row17 col2\" >1</td>\n",
       "      <td id=\"T_a2af1_row17_col3\" class=\"data row17 col3\" >None</td>\n",
       "    </tr>\n",
       "  </tbody>\n",
       "</table>\n"
      ],
      "text/plain": [
       "<pandas.io.formats.style.Styler at 0x24f12e565e0>"
      ]
     },
     "execution_count": 77,
     "metadata": {},
     "output_type": "execute_result"
    }
   ],
   "source": [
    "df.style.set_properties(subset=['features'], **{'width': '500px'})"
   ]
  },
  {
   "cell_type": "code",
   "execution_count": 76,
   "id": "6720998b-2020-4e83-859a-25cf0dea0489",
   "metadata": {},
   "outputs": [],
   "source": [
    "pd.set_option('display.width', 1000)"
   ]
  },
  {
   "cell_type": "code",
   "execution_count": null,
   "id": "a7eb4e6b-c202-4606-89ec-150ce1d44450",
   "metadata": {
    "jupyter": {
     "source_hidden": true
    },
    "tags": []
   },
   "outputs": [],
   "source": [
    "pipe = Pipeline([('polynomial_features',poly), ('logistic_regression',lr)])\n",
    "pipe.fit(x_wi[top_4_chi+ ['Over25_Bach', 'Award_by_pop_gt_16_lf']], y_wi)\n",
    "pipe.score(x_val_wi[top_4_chi+ ['Over25_Bach', 'Award_by_pop_gt_16_lf']], y_val_wi)\n",
    "plot_roc_curve(pipe, x_val_wi[top_4_chi+ ['Over25_Bach', 'Award_by_pop_gt_16_lf']], y_val_wi)"
   ]
  },
  {
   "cell_type": "code",
   "execution_count": null,
   "id": "09230601-1515-4b89-a9f2-a496df9f6823",
   "metadata": {
    "jupyter": {
     "source_hidden": true
    },
    "tags": []
   },
   "outputs": [],
   "source": [
    "pipe = Pipeline([('polynomial_features',poly), ('logistic_regression',lr)])\n",
    "pipe.fit(x_wi[['Over25_Bach', 'Award_by_pop_gt_16_lf']], y_wi)\n",
    "pipe.score(x_val_wi[['Over25_Bach', 'Award_by_pop_gt_16_lf']], y_val_wi)\n",
    "plot_roc_curve(pipe, x_val_wi[['Over25_Bach', 'Award_by_pop_gt_16_lf']], y_val_wi)"
   ]
  },
  {
   "cell_type": "code",
   "execution_count": null,
   "id": "e0e2b839-c0be-4218-a41d-0ac1b1e587c9",
   "metadata": {
    "jupyter": {
     "source_hidden": true
    },
    "tags": []
   },
   "outputs": [],
   "source": [
    "poly = PolynomialFeatures(degree = 3, interaction_only=False, include_bias=False)\n",
    "pipe = Pipeline([('polynomial_features',poly), ('logistic_regression',lr)])\n",
    "pipe.fit(x_wi[['Over25_Bach', 'Award_by_pop_gt_16_lf']], y_wi)\n",
    "pipe.score(x_val_wi[['Over25_Bach', 'Award_by_pop_gt_16_lf']], y_val_wi)\n",
    "plot_roc_curve(pipe, x_val_wi[['Over25_Bach', 'Award_by_pop_gt_16_lf']], y_val_wi)"
   ]
  },
  {
   "cell_type": "markdown",
   "id": "decef16f-dc13-4415-8c72-8069a905c896",
   "metadata": {},
   "source": [
    "### Linear Regression - Individual Patent"
   ]
  },
  {
   "cell_type": "markdown",
   "id": "c52bbbec-33b8-4eeb-9bc8-90ff77c06565",
   "metadata": {},
   "source": [
    "##### Exploring Different Model Combinations"
   ]
  },
  {
   "cell_type": "code",
   "execution_count": 78,
   "id": "d859120a-f5ce-46f6-8ea1-77986dc523ec",
   "metadata": {},
   "outputs": [],
   "source": [
    "def lin_reg(features, x_train, y_train, x_test, y_test):\n",
    "    x_test = x_test[features]\n",
    "    model = LogisticRegression(solver='liblinear')\n",
    "    reg = LinearRegression().fit(x_train[features], y_train)\n",
    "    r_score = reg.score(x_test[features], y_test)\n",
    "    lst_dict.append({'r_squared':r_score,'features':features})\n",
    "    return lst_dict"
   ]
  },
  {
   "cell_type": "code",
   "execution_count": null,
   "id": "c67e6582-4287-4ab7-a0d5-8fff37ce2684",
   "metadata": {
    "jupyter": {
     "source_hidden": true
    },
    "tags": []
   },
   "outputs": [],
   "source": [
    "from sklearn.linear_model import LinearRegression\n",
    "predictors = [\n",
    "    'r1_involved',\n",
    "    'Over25_HSGrad',\n",
    "    'r2_involved',\n",
    "    'Agriculture_Forestry_Fishing_Hunting',\n",
    "    'Mining_Quarrying_and_Oil_Gas_Extraction',\n",
    "    'Utilities_base',\n",
    "    'Construction_base',\n",
    "    'Manufacturing',\n",
    "    'Wholesale_Trade',\n",
    "    'Retail_Trade',\n",
    "    'Transportation_Warehousing',\n",
    "    'Information',\n",
    "    'Finance_Insurance',\n",
    "    'Real_Estate_Rental_Leasing',\n",
    "    'Professional_Scientific_and_Technical_Services',\n",
    "    'Management_of_Companies_Enterprises',\n",
    "    'Administrative_Support_Waste_Management_Remediation_Services',\n",
    "    'Educational_Services',\n",
    "    'Health_Care_Social_Assistance',\n",
    "    'Arts_Entertainment_and_Recreation',\n",
    "    'Accommodation_Food_Services',\n",
    "    'Other_Services_except_Public_Administration',\n",
    "    ]\n",
    "reg = LinearRegression().fit(x_wi_perc[predictors], y_wi_perc)\n",
    "reg.score(x_val_wi_perc[predictors], y_val_wi_perc)"
   ]
  },
  {
   "cell_type": "code",
   "execution_count": 79,
   "id": "7bfa732f-75f7-4279-b364-549cc79692a6",
   "metadata": {},
   "outputs": [],
   "source": [
    "feature_list = [\n",
    "               top_4_chi + ['Over25_Bach'],\n",
    "               top_5_chi + ['Over25_Bach'],\n",
    "               top_4_chi + education,\n",
    "               top_4_chi + ['Over25_Bach', 'Award_by_pop_gt_16_lf'],\n",
    "               top_5_chi + ['Over25_Bach', 'Award_by_pop_gt_16_lf'],\n",
    "               top_4_chi + ['Over25_Grad', 'Award_by_pop_gt_16_lf'],\n",
    "               top_5_chi + ['Over25_Grad', 'Award_by_pop_gt_16_lf'], \n",
    "               top_4_chi + ['Over25_Grad', 'Award_by_pop_gt_16_lf'] + naics,\n",
    "               top_5_chi + ['Over25_Grad', 'Award_by_pop_gt_16_lf'] + naics,\n",
    "               economics + regions + university\n",
    "              ]"
   ]
  },
  {
   "cell_type": "code",
   "execution_count": 80,
   "id": "e49c6a47-f8b6-4ae7-846b-fba1cc3b69e9",
   "metadata": {},
   "outputs": [],
   "source": [
    "# df_lr = pd.DataFrame(columns = [['features','r_squared']])\n",
    "lst_dict = []\n",
    "for i in feature_list:\n",
    "    lin_reg(i, x_wi_perc, y_wi_perc, x_val_wi_perc, y_val_wi_perc)\n"
   ]
  },
  {
   "cell_type": "code",
   "execution_count": 81,
   "id": "3cd017f3-61e4-4ca9-bab8-4cbf3fc6b700",
   "metadata": {},
   "outputs": [],
   "source": [
    "df_lr = pd.DataFrame(lst_dict)"
   ]
  },
  {
   "cell_type": "code",
   "execution_count": 82,
   "id": "9712f374-3cc1-464a-9d5a-1b03b79d86ee",
   "metadata": {},
   "outputs": [
    {
     "data": {
      "text/html": [
       "<div>\n",
       "<style scoped>\n",
       "    .dataframe tbody tr th:only-of-type {\n",
       "        vertical-align: middle;\n",
       "    }\n",
       "\n",
       "    .dataframe tbody tr th {\n",
       "        vertical-align: top;\n",
       "    }\n",
       "\n",
       "    .dataframe thead th {\n",
       "        text-align: right;\n",
       "    }\n",
       "</style>\n",
       "<table border=\"1\" class=\"dataframe\">\n",
       "  <thead>\n",
       "    <tr style=\"text-align: right;\">\n",
       "      <th></th>\n",
       "      <th>r_squared</th>\n",
       "      <th>features</th>\n",
       "    </tr>\n",
       "  </thead>\n",
       "  <tbody>\n",
       "    <tr>\n",
       "      <th>0</th>\n",
       "      <td>0.006926</td>\n",
       "      <td>[r1_involved, special_focus_involved, Rocky Mo...</td>\n",
       "    </tr>\n",
       "    <tr>\n",
       "      <th>1</th>\n",
       "      <td>0.007155</td>\n",
       "      <td>[r1_involved, special_focus_involved, Rocky Mo...</td>\n",
       "    </tr>\n",
       "    <tr>\n",
       "      <th>2</th>\n",
       "      <td>0.008067</td>\n",
       "      <td>[r1_involved, special_focus_involved, Rocky Mo...</td>\n",
       "    </tr>\n",
       "    <tr>\n",
       "      <th>3</th>\n",
       "      <td>0.007225</td>\n",
       "      <td>[r1_involved, special_focus_involved, Rocky Mo...</td>\n",
       "    </tr>\n",
       "    <tr>\n",
       "      <th>4</th>\n",
       "      <td>0.007421</td>\n",
       "      <td>[r1_involved, special_focus_involved, Rocky Mo...</td>\n",
       "    </tr>\n",
       "    <tr>\n",
       "      <th>5</th>\n",
       "      <td>0.007936</td>\n",
       "      <td>[r1_involved, special_focus_involved, Rocky Mo...</td>\n",
       "    </tr>\n",
       "    <tr>\n",
       "      <th>6</th>\n",
       "      <td>0.007989</td>\n",
       "      <td>[r1_involved, special_focus_involved, Rocky Mo...</td>\n",
       "    </tr>\n",
       "    <tr>\n",
       "      <th>7</th>\n",
       "      <td>0.010264</td>\n",
       "      <td>[r1_involved, special_focus_involved, Rocky Mo...</td>\n",
       "    </tr>\n",
       "    <tr>\n",
       "      <th>8</th>\n",
       "      <td>0.010279</td>\n",
       "      <td>[r1_involved, special_focus_involved, Rocky Mo...</td>\n",
       "    </tr>\n",
       "    <tr>\n",
       "      <th>9</th>\n",
       "      <td>0.010398</td>\n",
       "      <td>[Earnings_by_place_of_work, Employee_and_self-...</td>\n",
       "    </tr>\n",
       "  </tbody>\n",
       "</table>\n",
       "</div>"
      ],
      "text/plain": [
       "   r_squared                                           features\n",
       "0   0.006926  [r1_involved, special_focus_involved, Rocky Mo...\n",
       "1   0.007155  [r1_involved, special_focus_involved, Rocky Mo...\n",
       "2   0.008067  [r1_involved, special_focus_involved, Rocky Mo...\n",
       "3   0.007225  [r1_involved, special_focus_involved, Rocky Mo...\n",
       "4   0.007421  [r1_involved, special_focus_involved, Rocky Mo...\n",
       "5   0.007936  [r1_involved, special_focus_involved, Rocky Mo...\n",
       "6   0.007989  [r1_involved, special_focus_involved, Rocky Mo...\n",
       "7   0.010264  [r1_involved, special_focus_involved, Rocky Mo...\n",
       "8   0.010279  [r1_involved, special_focus_involved, Rocky Mo...\n",
       "9   0.010398  [Earnings_by_place_of_work, Employee_and_self-..."
      ]
     },
     "execution_count": 82,
     "metadata": {},
     "output_type": "execute_result"
    }
   ],
   "source": [
    "df_lr"
   ]
  },
  {
   "cell_type": "markdown",
   "id": "afd601b5-2d4a-460e-bfc2-aef654ead887",
   "metadata": {},
   "source": [
    "### Random Forest - Individual Patent"
   ]
  },
  {
   "cell_type": "code",
   "execution_count": null,
   "id": "b65a2c14-d224-4f66-9fca-19e8708f4846",
   "metadata": {
    "tags": []
   },
   "outputs": [],
   "source": [
    "# from sklearn.ensemble import RandomForestRegressor\n",
    "# rf = RandomForestRegressor(n_estimators = 1000, random_state = 42)\n",
    "# rf.fit(x_wi_perc[predictors], y_wi_perc)"
   ]
  },
  {
   "cell_type": "code",
   "execution_count": null,
   "id": "f83dcc06-efab-4362-b59a-701134aaad82",
   "metadata": {},
   "outputs": [],
   "source": [
    "# predictions = rf.predict(x_val_wi_perc[predictors])\n",
    "# errors = abs(predictions - y_val_wi_perc)"
   ]
  },
  {
   "cell_type": "code",
   "execution_count": null,
   "id": "2b49e34b-6b71-4056-8962-d174baccbe3c",
   "metadata": {},
   "outputs": [],
   "source": [
    "# print('Mean Absolute Error:', round(np.mean(errors), 2), 'degrees.')"
   ]
  },
  {
   "cell_type": "code",
   "execution_count": null,
   "id": "23fdc4e7-fe40-4d8f-a73a-e100aa31abd2",
   "metadata": {},
   "outputs": [],
   "source": [
    "# from sklearn.metrics import mean_squared_error\n",
    "\n",
    "# mean_squared_error(y_val_wi_perc, predictions)"
   ]
  },
  {
   "cell_type": "markdown",
   "id": "30602fe2-a68c-48aa-9fa9-329b6f4cbde5",
   "metadata": {},
   "source": [
    "## GEOID Level Work - Regression for % Women Involvement"
   ]
  },
  {
   "cell_type": "markdown",
   "id": "08a27ce4-e8a7-4712-be35-4638972f9488",
   "metadata": {},
   "source": [
    "### Train Data on GEOID Level: Prep for Model Building"
   ]
  },
  {
   "cell_type": "code",
   "execution_count": 83,
   "id": "988b7075-9b75-4a82-9deb-aa80f28b157d",
   "metadata": {
    "tags": []
   },
   "outputs": [],
   "source": [
    "train_read_lr = pd.read_csv('Fix_lr_RAW_train.csv')"
   ]
  },
  {
   "cell_type": "code",
   "execution_count": 84,
   "id": "21959cb2-f742-436b-94cf-e917c36426ea",
   "metadata": {},
   "outputs": [
    {
     "data": {
      "text/plain": [
       "(12377, 105)"
      ]
     },
     "execution_count": 84,
     "metadata": {},
     "output_type": "execute_result"
    }
   ],
   "source": [
    "train_read_lr.shape"
   ]
  },
  {
   "cell_type": "code",
   "execution_count": 85,
   "id": "84d7438c-daa6-4754-880f-e7a12e60e920",
   "metadata": {},
   "outputs": [],
   "source": [
    "val_read_lr = pd.read_csv('Fixed_lr_RAW_test.csv')"
   ]
  },
  {
   "cell_type": "markdown",
   "id": "4ef968f4-b34f-4f98-83e4-65f6a226b1eb",
   "metadata": {},
   "source": [
    "The collapsed code below checks for null values, and removes columns with null values."
   ]
  },
  {
   "cell_type": "code",
   "execution_count": 86,
   "id": "abb6afe0-06c4-405a-8dc6-8d62cf07c72b",
   "metadata": {
    "tags": []
   },
   "outputs": [],
   "source": [
    "for i in range(len(train_read_lr.columns)):\n",
    "    if train_read_lr.iloc[:,i].isnull().values.any() == True:\n",
    "        print(train_read_lr.iloc[:,i].name,': ',train_read_lr.iloc[:,i].isna().sum())"
   ]
  },
  {
   "cell_type": "code",
   "execution_count": 87,
   "id": "07f0b1a6-fd63-4b08-96e5-9ab11e4fd48b",
   "metadata": {},
   "outputs": [],
   "source": [
    "train_read_lr['perc_wi'] = train_read_lr['women_inventors']/(train_read_lr['men_inventors']+train_read_lr['women_inventors'])"
   ]
  },
  {
   "cell_type": "code",
   "execution_count": 88,
   "id": "1c077362-8a34-444e-bd02-9d0f2744b52c",
   "metadata": {},
   "outputs": [],
   "source": [
    "val_read_lr['perc_wi'] = val_read_lr['women_inventors']/(val_read_lr['men_inventors']+val_read_lr['women_inventors'])"
   ]
  },
  {
   "cell_type": "markdown",
   "id": "720dca7c-ff4e-4963-8d8b-c5bd0fbf92ad",
   "metadata": {},
   "source": [
    "Numeric Feature List Below:"
   ]
  },
  {
   "cell_type": "code",
   "execution_count": 89,
   "id": "ba3218a9-ef47-438f-975a-e934190d99b7",
   "metadata": {
    "tags": []
   },
   "outputs": [],
   "source": [
    "numeric = [\n",
    " # 'num_ipcs',\n",
    " 'team_size',\n",
    " # 'men_inventors',\n",
    " # 'women_inventors',\n",
    " 'Over25_Less9Grade',\n",
    " 'Over25_SomeHS',\n",
    " 'Over25_HSGrad',\n",
    " 'Over25_SomeCollege',\n",
    " 'Over25_Assosc',\n",
    " 'Over25_Bach',\n",
    " 'Over25_Grad',\n",
    " 'ap_by_est',\n",
    " 'pop_gt_16_lf',\n",
    " 'est_by_pop_gt_16_lf',\n",
    " 'Total_employment',\n",
    " 'Pop_Est',\n",
    " 'Population_Estimate',\n",
    " 'Population_persons',\n",
    " 'Earnings_by_place_of_work',\n",
    " 'Employee_and_self-employed_contributions_for_government_social_insurance',\n",
    " 'Employer_contributions_for_employee_pension_and_insurance_funds',\n",
    " 'Employer_contributions_for_government_social_insurance',\n",
    " 'Equals_Net_earnings_by_place_of_residence',\n",
    " 'Farm_income',\n",
    " 'Farm_proprietors_income',\n",
    " 'Less_Contributions_for_government_social_insurance',\n",
    " 'Nonfarm_personal_income',\n",
    " 'Nonfarm_proprietors_income',\n",
    " 'Per_capita_personal_income_dollars',\n",
    " 'Personal_income_thousands_of_dollars',\n",
    " 'Plus_Adjustment_for_residence',\n",
    " 'Plus_Dividends_interest_and_rent',\n",
    " 'Plus_Personal_current_transfer_receipts',\t\n",
    " 'Proprietors_employment',\n",
    " 'Proprietors_income',\n",
    " 'Supplements_to_wages_and_salaries',\n",
    " 'Wage_and_salary_employment',\n",
    " 'Wages_and_salaries',\n",
    " 'Applications',\n",
    " # 'Award_Amount',\n",
    " # 'GDP_by_labor_force',\n",
    " 'apps_by_pop_gt_16_lf',\n",
    " 'Wages_by_pop_gt_16_lf',\n",
    " # 'Award_by_pop_gt_16_lf'\n",
    "]"
   ]
  },
  {
   "cell_type": "markdown",
   "id": "3ff4dd15-3fe6-4434-9f78-f9e264ed1859",
   "metadata": {},
   "source": [
    "Categorical Feature List Below:"
   ]
  },
  {
   "cell_type": "code",
   "execution_count": 90,
   "id": "59f1a8b9-35d4-42ff-b4a1-53c226371aef",
   "metadata": {
    "tags": []
   },
   "outputs": [],
   "source": [
    "categorical = [\n",
    "# 'ipc',\n",
    "# 'ipc_A',\n",
    "# 'ipc_B',\n",
    "# 'ipc_C',\n",
    "# 'ipc_D',\n",
    "# 'ipc_E',\n",
    "# 'ipc_F',\n",
    "# 'ipc_G',\n",
    "# 'ipc_H',\n",
    "'already_granted',\n",
    "# 'Control',\n",
    "'r1',\n",
    "'r2',\n",
    "'special_focus',\n",
    "'bea_region',\n",
    "'Agriculture_Forestry_Fishing_Hunting_base',\n",
    "'Mining_Quarrying_and_Oil_Gas_Extraction_base',\n",
    "'Utilities_base',\n",
    "'Construction_base',\n",
    "'Manufacturing_base',\n",
    "'Wholesale_Trade_base',\n",
    "'Retail_Trade_base',\n",
    "'Transportation_Warehousing_base',\n",
    "'Information_base',\n",
    "'Finance_Insurance_base',\n",
    "'Real_Estate_Rental_Leasing_base',\n",
    "'Professional_Scientific_and_Technical_Services_base',\n",
    "'Management_of_Companies_Enterprises_base',\n",
    "'Administrative_Support_Waste_Management_Remediation_Services_base',\n",
    "'Educational_Services_base',\n",
    "'Health_Care_Social_Assistance_base',\n",
    "'Arts_Entertainment_and_Recreation_base',\n",
    "'Accommodation_Food_Services_base',\n",
    "'Other_Services_except_Public_Administration_base',\n",
    "'women_involved'\n",
    "]"
   ]
  },
  {
   "cell_type": "markdown",
   "id": "1b81901a-68ad-4370-8c1c-79693faa35ca",
   "metadata": {},
   "source": [
    "#### One Hot Encode Categoricals\n",
    "All already binary except region"
   ]
  },
  {
   "cell_type": "code",
   "execution_count": 91,
   "id": "50aded43-4cee-4ce8-82ef-29dfc0b384b9",
   "metadata": {},
   "outputs": [],
   "source": [
    "train_lr = pd.concat([train_read_lr.drop('bea_region', axis =1), pd.get_dummies(train_read_lr.bea_region)], axis = 1)\n",
    "val_lr = pd.concat([val_read_lr.drop('bea_region', axis =1), pd.get_dummies(val_read_lr.bea_region)], axis = 1)"
   ]
  },
  {
   "cell_type": "code",
   "execution_count": 92,
   "id": "37153fd6-c696-465c-84ab-de5049da20b5",
   "metadata": {},
   "outputs": [],
   "source": [
    "\n",
    "##women percentage\n",
    "###train\n",
    "y_wi_perc_agg = train_lr['perc_wi'].dropna()\n",
    "x_wi_perc_agg = train_lr.dropna().drop(['women_involved','women_inventors', 'men_inventors','perc_wi'], axis = 1)\n",
    "#x - same as above\n",
    "\n",
    "##val\n",
    "y_val_wi_perc_agg = val_lr['perc_wi'].dropna()\n",
    "x_val_wi_perc_agg = val_lr.dropna().drop(['women_involved','women_inventors', 'men_inventors','perc_wi'], axis = 1)\n",
    "#x - same as above"
   ]
  },
  {
   "cell_type": "code",
   "execution_count": 93,
   "id": "ddcadd29-7b78-4572-b40b-7c1ade3de285",
   "metadata": {},
   "outputs": [
    {
     "data": {
      "text/html": [
       "<div>\n",
       "<style scoped>\n",
       "    .dataframe tbody tr th:only-of-type {\n",
       "        vertical-align: middle;\n",
       "    }\n",
       "\n",
       "    .dataframe tbody tr th {\n",
       "        vertical-align: top;\n",
       "    }\n",
       "\n",
       "    .dataframe thead th {\n",
       "        text-align: right;\n",
       "    }\n",
       "</style>\n",
       "<table border=\"1\" class=\"dataframe\">\n",
       "  <thead>\n",
       "    <tr style=\"text-align: right;\">\n",
       "      <th></th>\n",
       "      <th>app_yr</th>\n",
       "      <th>GEOID</th>\n",
       "      <th>app_num</th>\n",
       "      <th>team_size</th>\n",
       "      <th>men_inventors</th>\n",
       "      <th>women_inventors</th>\n",
       "      <th>women_involved</th>\n",
       "      <th>r1_involved</th>\n",
       "      <th>r2_involved</th>\n",
       "      <th>special_focus_involved</th>\n",
       "      <th>...</th>\n",
       "      <th>boxcox_apps</th>\n",
       "      <th>perc_wi</th>\n",
       "      <th>Far West</th>\n",
       "      <th>Great Lakes</th>\n",
       "      <th>Mideast</th>\n",
       "      <th>New England</th>\n",
       "      <th>Plains</th>\n",
       "      <th>Rocky Mountain</th>\n",
       "      <th>Southeast</th>\n",
       "      <th>Southwest</th>\n",
       "    </tr>\n",
       "  </thead>\n",
       "  <tbody>\n",
       "    <tr>\n",
       "      <th>0</th>\n",
       "      <td>2016</td>\n",
       "      <td>36061</td>\n",
       "      <td>2576</td>\n",
       "      <td>7996</td>\n",
       "      <td>6276</td>\n",
       "      <td>1208</td>\n",
       "      <td>835</td>\n",
       "      <td>114</td>\n",
       "      <td>2</td>\n",
       "      <td>38</td>\n",
       "      <td>...</td>\n",
       "      <td>3.259197</td>\n",
       "      <td>0.161411</td>\n",
       "      <td>0</td>\n",
       "      <td>0</td>\n",
       "      <td>1</td>\n",
       "      <td>0</td>\n",
       "      <td>0</td>\n",
       "      <td>0</td>\n",
       "      <td>0</td>\n",
       "      <td>0</td>\n",
       "    </tr>\n",
       "    <tr>\n",
       "      <th>1</th>\n",
       "      <td>2013</td>\n",
       "      <td>51089</td>\n",
       "      <td>7</td>\n",
       "      <td>39</td>\n",
       "      <td>33</td>\n",
       "      <td>6</td>\n",
       "      <td>6</td>\n",
       "      <td>0</td>\n",
       "      <td>0</td>\n",
       "      <td>0</td>\n",
       "      <td>...</td>\n",
       "      <td>1.513593</td>\n",
       "      <td>0.153846</td>\n",
       "      <td>0</td>\n",
       "      <td>0</td>\n",
       "      <td>0</td>\n",
       "      <td>0</td>\n",
       "      <td>0</td>\n",
       "      <td>0</td>\n",
       "      <td>1</td>\n",
       "      <td>0</td>\n",
       "    </tr>\n",
       "    <tr>\n",
       "      <th>2</th>\n",
       "      <td>2018</td>\n",
       "      <td>10005</td>\n",
       "      <td>8</td>\n",
       "      <td>11</td>\n",
       "      <td>10</td>\n",
       "      <td>1</td>\n",
       "      <td>1</td>\n",
       "      <td>0</td>\n",
       "      <td>0</td>\n",
       "      <td>0</td>\n",
       "      <td>...</td>\n",
       "      <td>1.591143</td>\n",
       "      <td>0.090909</td>\n",
       "      <td>0</td>\n",
       "      <td>0</td>\n",
       "      <td>1</td>\n",
       "      <td>0</td>\n",
       "      <td>0</td>\n",
       "      <td>0</td>\n",
       "      <td>0</td>\n",
       "      <td>0</td>\n",
       "    </tr>\n",
       "    <tr>\n",
       "      <th>3</th>\n",
       "      <td>2010</td>\n",
       "      <td>24013</td>\n",
       "      <td>10</td>\n",
       "      <td>20</td>\n",
       "      <td>18</td>\n",
       "      <td>2</td>\n",
       "      <td>2</td>\n",
       "      <td>0</td>\n",
       "      <td>0</td>\n",
       "      <td>0</td>\n",
       "      <td>...</td>\n",
       "      <td>1.714655</td>\n",
       "      <td>0.100000</td>\n",
       "      <td>0</td>\n",
       "      <td>0</td>\n",
       "      <td>1</td>\n",
       "      <td>0</td>\n",
       "      <td>0</td>\n",
       "      <td>0</td>\n",
       "      <td>0</td>\n",
       "      <td>0</td>\n",
       "    </tr>\n",
       "    <tr>\n",
       "      <th>4</th>\n",
       "      <td>2015</td>\n",
       "      <td>53035</td>\n",
       "      <td>13</td>\n",
       "      <td>23</td>\n",
       "      <td>23</td>\n",
       "      <td>0</td>\n",
       "      <td>0</td>\n",
       "      <td>0</td>\n",
       "      <td>0</td>\n",
       "      <td>0</td>\n",
       "      <td>...</td>\n",
       "      <td>1.850671</td>\n",
       "      <td>0.000000</td>\n",
       "      <td>1</td>\n",
       "      <td>0</td>\n",
       "      <td>0</td>\n",
       "      <td>0</td>\n",
       "      <td>0</td>\n",
       "      <td>0</td>\n",
       "      <td>0</td>\n",
       "      <td>0</td>\n",
       "    </tr>\n",
       "    <tr>\n",
       "      <th>...</th>\n",
       "      <td>...</td>\n",
       "      <td>...</td>\n",
       "      <td>...</td>\n",
       "      <td>...</td>\n",
       "      <td>...</td>\n",
       "      <td>...</td>\n",
       "      <td>...</td>\n",
       "      <td>...</td>\n",
       "      <td>...</td>\n",
       "      <td>...</td>\n",
       "      <td>...</td>\n",
       "      <td>...</td>\n",
       "      <td>...</td>\n",
       "      <td>...</td>\n",
       "      <td>...</td>\n",
       "      <td>...</td>\n",
       "      <td>...</td>\n",
       "      <td>...</td>\n",
       "      <td>...</td>\n",
       "      <td>...</td>\n",
       "      <td>...</td>\n",
       "    </tr>\n",
       "    <tr>\n",
       "      <th>12372</th>\n",
       "      <td>2010</td>\n",
       "      <td>29225</td>\n",
       "      <td>3</td>\n",
       "      <td>4</td>\n",
       "      <td>2</td>\n",
       "      <td>0</td>\n",
       "      <td>0</td>\n",
       "      <td>0</td>\n",
       "      <td>0</td>\n",
       "      <td>0</td>\n",
       "      <td>...</td>\n",
       "      <td>0.950646</td>\n",
       "      <td>0.000000</td>\n",
       "      <td>0</td>\n",
       "      <td>0</td>\n",
       "      <td>0</td>\n",
       "      <td>0</td>\n",
       "      <td>1</td>\n",
       "      <td>0</td>\n",
       "      <td>0</td>\n",
       "      <td>0</td>\n",
       "    </tr>\n",
       "    <tr>\n",
       "      <th>12373</th>\n",
       "      <td>2013</td>\n",
       "      <td>51041</td>\n",
       "      <td>22</td>\n",
       "      <td>37</td>\n",
       "      <td>33</td>\n",
       "      <td>3</td>\n",
       "      <td>3</td>\n",
       "      <td>0</td>\n",
       "      <td>0</td>\n",
       "      <td>0</td>\n",
       "      <td>...</td>\n",
       "      <td>2.096023</td>\n",
       "      <td>0.083333</td>\n",
       "      <td>0</td>\n",
       "      <td>0</td>\n",
       "      <td>0</td>\n",
       "      <td>0</td>\n",
       "      <td>0</td>\n",
       "      <td>0</td>\n",
       "      <td>1</td>\n",
       "      <td>0</td>\n",
       "    </tr>\n",
       "    <tr>\n",
       "      <th>12374</th>\n",
       "      <td>2016</td>\n",
       "      <td>40017</td>\n",
       "      <td>1</td>\n",
       "      <td>1</td>\n",
       "      <td>1</td>\n",
       "      <td>0</td>\n",
       "      <td>0</td>\n",
       "      <td>0</td>\n",
       "      <td>0</td>\n",
       "      <td>0</td>\n",
       "      <td>...</td>\n",
       "      <td>0.000000</td>\n",
       "      <td>0.000000</td>\n",
       "      <td>0</td>\n",
       "      <td>0</td>\n",
       "      <td>0</td>\n",
       "      <td>0</td>\n",
       "      <td>0</td>\n",
       "      <td>0</td>\n",
       "      <td>0</td>\n",
       "      <td>1</td>\n",
       "    </tr>\n",
       "    <tr>\n",
       "      <th>12375</th>\n",
       "      <td>2011</td>\n",
       "      <td>13129</td>\n",
       "      <td>7</td>\n",
       "      <td>22</td>\n",
       "      <td>20</td>\n",
       "      <td>2</td>\n",
       "      <td>1</td>\n",
       "      <td>0</td>\n",
       "      <td>0</td>\n",
       "      <td>0</td>\n",
       "      <td>...</td>\n",
       "      <td>1.513593</td>\n",
       "      <td>0.090909</td>\n",
       "      <td>0</td>\n",
       "      <td>0</td>\n",
       "      <td>0</td>\n",
       "      <td>0</td>\n",
       "      <td>0</td>\n",
       "      <td>0</td>\n",
       "      <td>1</td>\n",
       "      <td>0</td>\n",
       "    </tr>\n",
       "    <tr>\n",
       "      <th>12376</th>\n",
       "      <td>2011</td>\n",
       "      <td>42003</td>\n",
       "      <td>589</td>\n",
       "      <td>1775</td>\n",
       "      <td>1557</td>\n",
       "      <td>157</td>\n",
       "      <td>118</td>\n",
       "      <td>79</td>\n",
       "      <td>1</td>\n",
       "      <td>0</td>\n",
       "      <td>...</td>\n",
       "      <td>3.041771</td>\n",
       "      <td>0.091599</td>\n",
       "      <td>0</td>\n",
       "      <td>0</td>\n",
       "      <td>1</td>\n",
       "      <td>0</td>\n",
       "      <td>0</td>\n",
       "      <td>0</td>\n",
       "      <td>0</td>\n",
       "      <td>0</td>\n",
       "    </tr>\n",
       "  </tbody>\n",
       "</table>\n",
       "<p>12377 rows × 113 columns</p>\n",
       "</div>"
      ],
      "text/plain": [
       "       app_yr  GEOID  app_num  team_size  men_inventors  women_inventors  women_involved  r1_involved  r2_involved  special_focus_involved  ...  boxcox_apps   perc_wi  Far West  Great Lakes  Mideast  New England  Plains  Rocky Mountain  Southeast  Southwest\n",
       "0        2016  36061     2576       7996           6276             1208             835          114            2                      38  ...     3.259197  0.161411         0            0        1            0       0               0          0          0\n",
       "1        2013  51089        7         39             33                6               6            0            0                       0  ...     1.513593  0.153846         0            0        0            0       0               0          1          0\n",
       "2        2018  10005        8         11             10                1               1            0            0                       0  ...     1.591143  0.090909         0            0        1            0       0               0          0          0\n",
       "3        2010  24013       10         20             18                2               2            0            0                       0  ...     1.714655  0.100000         0            0        1            0       0               0          0          0\n",
       "4        2015  53035       13         23             23                0               0            0            0                       0  ...     1.850671  0.000000         1            0        0            0       0               0          0          0\n",
       "...       ...    ...      ...        ...            ...              ...             ...          ...          ...                     ...  ...          ...       ...       ...          ...      ...          ...     ...             ...        ...        ...\n",
       "12372    2010  29225        3          4              2                0               0            0            0                       0  ...     0.950646  0.000000         0            0        0            0       1               0          0          0\n",
       "12373    2013  51041       22         37             33                3               3            0            0                       0  ...     2.096023  0.083333         0            0        0            0       0               0          1          0\n",
       "12374    2016  40017        1          1              1                0               0            0            0                       0  ...     0.000000  0.000000         0            0        0            0       0               0          0          1\n",
       "12375    2011  13129        7         22             20                2               1            0            0                       0  ...     1.513593  0.090909         0            0        0            0       0               0          1          0\n",
       "12376    2011  42003      589       1775           1557              157             118           79            1                       0  ...     3.041771  0.091599         0            0        1            0       0               0          0          0\n",
       "\n",
       "[12377 rows x 113 columns]"
      ]
     },
     "execution_count": 93,
     "metadata": {},
     "output_type": "execute_result"
    }
   ],
   "source": [
    "train_lr"
   ]
  },
  {
   "cell_type": "markdown",
   "id": "e29f1c29-89e0-4d3a-a301-19feaa66ab84",
   "metadata": {},
   "source": [
    "### Linear Regression Model"
   ]
  },
  {
   "cell_type": "code",
   "execution_count": 94,
   "id": "1a35be99-cb59-43e3-9c81-55dae7c765d2",
   "metadata": {},
   "outputs": [],
   "source": [
    "# df_lr = pd.DataFrame(columns = [['features','r_squared']])\n",
    "lst_dict = []\n",
    "for i in feature_list:\n",
    "    lin_reg(i, x_wi_perc_agg, y_wi_perc_agg, x_val_wi_perc_agg, y_val_wi_perc_agg)"
   ]
  },
  {
   "cell_type": "code",
   "execution_count": 95,
   "id": "1149670c-c5cb-4005-893a-79f09b48c41d",
   "metadata": {},
   "outputs": [],
   "source": [
    "df_lr_agg = pd.DataFrame(lst_dict)"
   ]
  },
  {
   "cell_type": "code",
   "execution_count": 96,
   "id": "e93c35ee-0c99-455c-a4b9-ab196dea93c4",
   "metadata": {},
   "outputs": [
    {
     "data": {
      "text/html": [
       "<div>\n",
       "<style scoped>\n",
       "    .dataframe tbody tr th:only-of-type {\n",
       "        vertical-align: middle;\n",
       "    }\n",
       "\n",
       "    .dataframe tbody tr th {\n",
       "        vertical-align: top;\n",
       "    }\n",
       "\n",
       "    .dataframe thead th {\n",
       "        text-align: right;\n",
       "    }\n",
       "</style>\n",
       "<table border=\"1\" class=\"dataframe\">\n",
       "  <thead>\n",
       "    <tr style=\"text-align: right;\">\n",
       "      <th></th>\n",
       "      <th>r_squared</th>\n",
       "      <th>features</th>\n",
       "    </tr>\n",
       "  </thead>\n",
       "  <tbody>\n",
       "    <tr>\n",
       "      <th>0</th>\n",
       "      <td>0.004237</td>\n",
       "      <td>[r1_involved, special_focus_involved, Rocky Mo...</td>\n",
       "    </tr>\n",
       "    <tr>\n",
       "      <th>1</th>\n",
       "      <td>0.004722</td>\n",
       "      <td>[r1_involved, special_focus_involved, Rocky Mo...</td>\n",
       "    </tr>\n",
       "    <tr>\n",
       "      <th>2</th>\n",
       "      <td>0.012438</td>\n",
       "      <td>[r1_involved, special_focus_involved, Rocky Mo...</td>\n",
       "    </tr>\n",
       "    <tr>\n",
       "      <th>3</th>\n",
       "      <td>0.004239</td>\n",
       "      <td>[r1_involved, special_focus_involved, Rocky Mo...</td>\n",
       "    </tr>\n",
       "    <tr>\n",
       "      <th>4</th>\n",
       "      <td>0.004717</td>\n",
       "      <td>[r1_involved, special_focus_involved, Rocky Mo...</td>\n",
       "    </tr>\n",
       "    <tr>\n",
       "      <th>5</th>\n",
       "      <td>0.013176</td>\n",
       "      <td>[r1_involved, special_focus_involved, Rocky Mo...</td>\n",
       "    </tr>\n",
       "    <tr>\n",
       "      <th>6</th>\n",
       "      <td>0.014004</td>\n",
       "      <td>[r1_involved, special_focus_involved, Rocky Mo...</td>\n",
       "    </tr>\n",
       "    <tr>\n",
       "      <th>7</th>\n",
       "      <td>0.007942</td>\n",
       "      <td>[r1_involved, special_focus_involved, Rocky Mo...</td>\n",
       "    </tr>\n",
       "    <tr>\n",
       "      <th>8</th>\n",
       "      <td>0.008633</td>\n",
       "      <td>[r1_involved, special_focus_involved, Rocky Mo...</td>\n",
       "    </tr>\n",
       "    <tr>\n",
       "      <th>9</th>\n",
       "      <td>0.007176</td>\n",
       "      <td>[Earnings_by_place_of_work, Employee_and_self-...</td>\n",
       "    </tr>\n",
       "  </tbody>\n",
       "</table>\n",
       "</div>"
      ],
      "text/plain": [
       "   r_squared                                           features\n",
       "0   0.004237  [r1_involved, special_focus_involved, Rocky Mo...\n",
       "1   0.004722  [r1_involved, special_focus_involved, Rocky Mo...\n",
       "2   0.012438  [r1_involved, special_focus_involved, Rocky Mo...\n",
       "3   0.004239  [r1_involved, special_focus_involved, Rocky Mo...\n",
       "4   0.004717  [r1_involved, special_focus_involved, Rocky Mo...\n",
       "5   0.013176  [r1_involved, special_focus_involved, Rocky Mo...\n",
       "6   0.014004  [r1_involved, special_focus_involved, Rocky Mo...\n",
       "7   0.007942  [r1_involved, special_focus_involved, Rocky Mo...\n",
       "8   0.008633  [r1_involved, special_focus_involved, Rocky Mo...\n",
       "9   0.007176  [Earnings_by_place_of_work, Employee_and_self-..."
      ]
     },
     "execution_count": 96,
     "metadata": {},
     "output_type": "execute_result"
    }
   ],
   "source": [
    "df_lr_agg"
   ]
  },
  {
   "cell_type": "markdown",
   "id": "b98aa577-ad6e-4bdf-a03a-70c78fa8c9a1",
   "metadata": {},
   "source": [
    "#### Random Forest"
   ]
  },
  {
   "cell_type": "code",
   "execution_count": null,
   "id": "a6867192-a6d0-416a-a005-ee0a9047be3c",
   "metadata": {},
   "outputs": [],
   "source": [
    "# from sklearn.ensemble import RandomForestRegressor\n",
    "# rf = RandomForestRegressor(n_estimators = 1000, random_state = 42)\n",
    "# rf.fit(x_wi_perc_lr[predictors], y_wi_perc_lr)"
   ]
  },
  {
   "cell_type": "code",
   "execution_count": null,
   "id": "921ee29f-efaa-4fe9-a686-b4b46d441df8",
   "metadata": {},
   "outputs": [],
   "source": [
    "# predictions = rf.predict(x_val_wi_perc_lr[predictors])\n",
    "# errors = abs(predictions - y_val_wi_perc_lr)"
   ]
  },
  {
   "cell_type": "code",
   "execution_count": null,
   "id": "01b3cede-2341-44df-b1dd-2481b9dbdb13",
   "metadata": {},
   "outputs": [],
   "source": [
    "# print('Mean Absolute Error:', round(np.mean(errors), 2), 'degrees.')"
   ]
  },
  {
   "cell_type": "code",
   "execution_count": null,
   "id": "b702bffa-a527-4594-9cc0-82b3ec8d6dfb",
   "metadata": {},
   "outputs": [],
   "source": []
  },
  {
   "cell_type": "code",
   "execution_count": null,
   "id": "86a6929a-e279-4074-8e27-17985b18cfb5",
   "metadata": {},
   "outputs": [],
   "source": []
  }
 ],
 "metadata": {
  "kernelspec": {
   "display_name": "Python 3 (ipykernel)",
   "language": "python",
   "name": "python3"
  },
  "language_info": {
   "codemirror_mode": {
    "name": "ipython",
    "version": 3
   },
   "file_extension": ".py",
   "mimetype": "text/x-python",
   "name": "python",
   "nbconvert_exporter": "python",
   "pygments_lexer": "ipython3",
   "version": "3.9.12"
  }
 },
 "nbformat": 4,
 "nbformat_minor": 5
}
