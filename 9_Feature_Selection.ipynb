{
 "cells": [
  {
   "cell_type": "markdown",
   "metadata": {},
   "source": [
    "## Feature Selection"
   ]
  },
  {
   "cell_type": "markdown",
   "metadata": {},
   "source": [
    "- Create scikit learn basic pipeline\n",
    "- Standardize the train data (Done in 8)\n",
    "- Options :\n",
    "    - Regularization (glmnet) (Lasso, Ridge, Elastic Net)\n",
    "    - PCA , MCA\n",
    "    - Trees - Feature Importance (Random Forest - with filter, Decision Tree)\n",
    "    - VIF testing\n",
    "    - Forward Selection\n",
    "    - Backward Selection    \n",
    "    - Recursive Feature Elimination\n",
    "    - Feature Importance (Random Forest, Decision Tree)\n",
    "    - Correlation Matrix\n",
    "    \n"
   ]
  },
  {
   "cell_type": "markdown",
   "metadata": {},
   "source": []
  }
 ],
 "metadata": {
  "language_info": {
   "name": "python"
  },
  "orig_nbformat": 4
 },
 "nbformat": 4,
 "nbformat_minor": 2
}
