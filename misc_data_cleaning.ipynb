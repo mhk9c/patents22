{
 "cells": [
  {
   "cell_type": "markdown",
   "metadata": {},
   "source": [
    "### General purpose data cleaning. \n",
    "#### If you have cleaned a file let's keep track of what we did here."
   ]
  },
  {
   "cell_type": "code",
   "execution_count": 3,
   "metadata": {},
   "outputs": [],
   "source": [
    "import pandas as pd\n",
    "from File_Utilities import FileTools\n",
    "FileTools.MYDIR = \"./data/\""
   ]
  },
  {
   "cell_type": "markdown",
   "metadata": {},
   "source": [
    "### Making crosswalk for: merging on city name and state name to fips codes."
   ]
  },
  {
   "cell_type": "code",
   "execution_count": 4,
   "metadata": {},
   "outputs": [
    {
     "name": "stderr",
     "output_type": "stream",
     "text": [
      "C:\\Users\\micha\\AppData\\Local\\Temp\\ipykernel_13068\\1061403620.py:15: FutureWarning: The default value of regex will change from True to False in a future version.\n",
      "  city_crosswalk['GEOID'] = city_crosswalk['STATEFP'].astype(str).str.replace(\".0\", \"\").str.zfill(2)+city_crosswalk['COUNTYFP'].astype(str).str.replace(\".0\", \"\").str.zfill(3)\n"
     ]
    },
    {
     "data": {
      "text/plain": [
       "'crosswalk_city_state_name_to_city_state_fips.csv'"
      ]
     },
     "execution_count": 4,
     "metadata": {},
     "output_type": "execute_result"
    }
   ],
   "source": [
    "patents = pd.read_csv(FileTools.get_full_file_path('reduced_2009_2019.csv'),low_memory=False )\n",
    "\n",
    "# list_of_cities that do not have a county listed.\n",
    "no_county = patents[patents.county.isna()]\n",
    "list_of_cities = pd.DataFrame(no_county.groupby(['state', 'city']).size()).reset_index().rename(columns={0: 'count'})\n",
    "FileTools.save_df_as_csv(list_of_cities, 'list_of_cities.csv')\n",
    "\n",
    "\n",
    "# THIS IS WHERE WE DID SOME GEOCODING IN ARCGIS PRO\n",
    "# Geocoded on just the city and state name. \n",
    "\n",
    "\n",
    "# Bring the new crosswalk back\n",
    "city_crosswalk = pd.read_csv(FileTools.get_full_file_path('crosswalk_city_geocoded.csv'),low_memory=False )\n",
    "city_crosswalk['GEOID'] = city_crosswalk['STATEFP'].astype(str).str.replace(\".0\", \"\").str.zfill(2)+city_crosswalk['COUNTYFP'].astype(str).str.replace(\".0\", \"\").str.zfill(3)\n",
    "city_crosswalk_final = city_crosswalk[['USER_state', 'USER_city', 'STATEFP', 'COUNTYFP', 'GEOID']].copy()\n",
    "city_crosswalk_final.rename(columns={\"USER_state\": \"state\", \"USER_city\": \"city\", \"STATEFP\": \"STATEFP\", \"COUNTYFP\": \"COUNTYFP\"}, inplace=True)\n",
    "\n",
    "FileTools.save_df_as_csv(city_crosswalk_final, 'crosswalk_city_state_name_to_city_state_fips.csv')"
   ]
  },
  {
   "cell_type": "code",
   "execution_count": null,
   "metadata": {},
   "outputs": [],
   "source": []
  }
 ],
 "metadata": {
  "kernelspec": {
   "display_name": "Python 3.9.12 ('UVACapstone')",
   "language": "python",
   "name": "python3"
  },
  "language_info": {
   "codemirror_mode": {
    "name": "ipython",
    "version": 3
   },
   "file_extension": ".py",
   "mimetype": "text/x-python",
   "name": "python",
   "nbconvert_exporter": "python",
   "pygments_lexer": "ipython3",
   "version": "3.9.12"
  },
  "orig_nbformat": 4,
  "vscode": {
   "interpreter": {
    "hash": "1320d6b9c24963eeab91ed3c1b469bbfc0dc38b81cdaee0abc39ad090f12f690"
   }
  }
 },
 "nbformat": 4,
 "nbformat_minor": 2
}
