{
 "cells": [
  {
   "cell_type": "markdown",
   "id": "3bf1e53d-81bc-4b13-bdae-c4d81d5c793e",
   "metadata": {},
   "source": [
    "# Testing Logistic Regression and Regression Models for Women Involvement\n",
    "Logistic Regression - Whether a women was involved on a patent level\n",
    "\n",
    "Regression - Predicting % women involvement on a patent level and GEOID Level\n",
    "    - Linear Regression\n",
    "    - Random Forest\n",
    "\n"
   ]
  },
  {
   "cell_type": "markdown",
   "id": "5dc7711f-045f-40b1-bca4-4b911c2812cb",
   "metadata": {},
   "source": [
    "Import Libraries:"
   ]
  },
  {
   "cell_type": "code",
   "execution_count": 1,
   "id": "f9225162-08a6-4588-9a4e-0d255ebe18cd",
   "metadata": {
    "tags": []
   },
   "outputs": [],
   "source": [
    "import os\n",
    "from sklearn.preprocessing import LabelEncoder\n",
    "from sklearn.preprocessing import OrdinalEncoder\n",
    "from sklearn.preprocessing import OneHotEncoder\n",
    "from sklearn.linear_model import LogisticRegression\n",
    "from sklearn.feature_selection import SelectKBest, chi2\n",
    "from sklearn.linear_model import LinearRegression\n",
    "from sklearn.linear_model import Ridge, Lasso\n",
    "from sklearn.linear_model import RidgeCV\n",
    "from sklearn.model_selection import train_test_split, cross_val_score\n",
    "from sklearn.model_selection import RepeatedKFold\n",
    "from sklearn.model_selection import RepeatedStratifiedKFold\n",
    "from sklearn.model_selection import GridSearchCV\n",
    "from statistics import mean\n",
    "from sklearn.pipeline import Pipeline\n",
    "from sklearn.pipeline import make_pipeline\n",
    "from sklearn.tree import DecisionTreeClassifier\n",
    "from sklearn.feature_selection import RFE\n",
    "import numpy as np\n",
    "import pandas as pd\n",
    "from matplotlib import pyplot as plt\n",
    "import seaborn as sns\n",
    "import matplotlib.pyplot as plt\n",
    "import seaborn as sns\n",
    "from sklearn import metrics\n",
    "from sklearn.metrics import classification_report, confusion_matrix"
   ]
  },
  {
   "cell_type": "markdown",
   "id": "557bd059-2d3f-49bf-87ca-b76bcffb253f",
   "metadata": {
    "tags": []
   },
   "source": [
    "## Patent Level Work"
   ]
  },
  {
   "cell_type": "markdown",
   "id": "93948d59-9a3a-45bb-b9ee-4747735aeca7",
   "metadata": {},
   "source": [
    "### Read Data"
   ]
  },
  {
   "cell_type": "code",
   "execution_count": 2,
   "id": "8b241f70-c6fe-438b-b392-401fac2ccad7",
   "metadata": {},
   "outputs": [
    {
     "data": {
      "text/plain": [
       "'C:\\\\Users\\\\trent\\\\Documents\\\\GitHub\\\\patents22'"
      ]
     },
     "execution_count": 2,
     "metadata": {},
     "output_type": "execute_result"
    }
   ],
   "source": [
    "os.getcwd()"
   ]
  },
  {
   "cell_type": "code",
   "execution_count": 3,
   "id": "c4d5728a-61bb-48e8-b693-85160c015805",
   "metadata": {},
   "outputs": [],
   "source": [
    "os.chdir('C:\\\\Users\\\\trent\\\\Documents\\\\Capstone')"
   ]
  },
  {
   "cell_type": "code",
   "execution_count": 4,
   "id": "3eabae78-ded5-4e56-9109-a94e07955424",
   "metadata": {
    "tags": []
   },
   "outputs": [],
   "source": [
    "train_read = pd.read_csv('Log_train_standardized.csv')"
   ]
  },
  {
   "cell_type": "code",
   "execution_count": 5,
   "id": "fe6ba822-ce7a-4365-ac3a-4b2001bcdec1",
   "metadata": {},
   "outputs": [
    {
     "data": {
      "text/plain": [
       "(1374290, 112)"
      ]
     },
     "execution_count": 5,
     "metadata": {},
     "output_type": "execute_result"
    }
   ],
   "source": [
    "train_read.shape"
   ]
  },
  {
   "cell_type": "code",
   "execution_count": 6,
   "id": "9fba63c4-556c-4aa9-86d4-74c39d42c674",
   "metadata": {},
   "outputs": [],
   "source": [
    "val_read = pd.read_csv('Log_validation_standardized.csv')"
   ]
  },
  {
   "cell_type": "markdown",
   "id": "057598a9-17b8-479d-9455-7b212d8a9ec7",
   "metadata": {},
   "source": [
    "### Organize Patent Train Data: Prep for Model Building"
   ]
  },
  {
   "cell_type": "markdown",
   "id": "20277015-925e-4911-981f-3ee6f5615d3d",
   "metadata": {},
   "source": [
    "The collapsed code below checks for null values, and removes columns with null values."
   ]
  },
  {
   "cell_type": "code",
   "execution_count": 7,
   "id": "fdb8342c-c67b-41f3-872f-2c8c68fa80b2",
   "metadata": {
    "tags": []
   },
   "outputs": [
    {
     "name": "stdout",
     "output_type": "stream",
     "text": [
      "patent_num :  535903\n",
      "assignee :  3988\n",
      "grant_yr :  535903\n",
      "ipc :  617449\n",
      "assignee_univ_map :  3988\n",
      "Institution :  1319120\n",
      "Control :  1319120\n",
      "ipc_A :  617449\n",
      "ipc_B :  617449\n",
      "ipc_C :  617449\n",
      "ipc_D :  617449\n",
      "ipc_E :  617449\n",
      "ipc_F :  617449\n",
      "ipc_G :  617449\n",
      "ipc_H :  617449\n"
     ]
    }
   ],
   "source": [
    "for i in range(len(train_read.columns)):\n",
    "    if train_read.iloc[:,i].isnull().values.any() == True:\n",
    "        print(train_read.iloc[:,i].name,': ',train_read.iloc[:,i].isna().sum())"
   ]
  },
  {
   "cell_type": "code",
   "execution_count": 8,
   "id": "9f923505-87ee-4f88-b48b-14e422508b9f",
   "metadata": {
    "tags": []
   },
   "outputs": [],
   "source": [
    "##drop columns not necessary for model\n",
    "##dropping ipc and award data as well for now to create model\n",
    "train_ = train_read.drop(['patent_num',\n",
    "                   'assignee',\n",
    "                   'app_num',\n",
    "                   'GEOID',\n",
    "                   'assignee_univ_map',\n",
    "                   'Institution',\n",
    "                   'Control',\n",
    "                   'grant_yr',\n",
    "                    # 'Award_Amount',\n",
    "                    # 'Award_by_pop_gt_16_lf',\n",
    "                    # 'team_size',\n",
    "                    # 'men_inventors',\n",
    "                    'ipc_A',\n",
    "                    'ipc_B',\n",
    "                    'ipc_C',\n",
    "                    'ipc_D',\n",
    "                    'ipc_E',\n",
    "                    'ipc_F',\n",
    "                    'ipc_G',\n",
    "                    'ipc_H',\n",
    "                    'num_ipcs',\n",
    "                    'ipc'],\n",
    "                   axis = 1)"
   ]
  },
  {
   "cell_type": "code",
   "execution_count": 24,
   "id": "dc7c051b-99be-4372-a58e-8c5c27ef6615",
   "metadata": {},
   "outputs": [],
   "source": [
    "train_['perc_wi'] = train_['women_inventors']/(train_['men_inventors']+train_['women_inventors'])"
   ]
  },
  {
   "cell_type": "code",
   "execution_count": 20,
   "id": "a145e4fe-e468-4481-9296-4d43e2b6718b",
   "metadata": {},
   "outputs": [],
   "source": [
    "##drop columns not necessary for model\n",
    "##dropping ipc and award data as well for now to create model\n",
    "val_ = val_read.drop(['patent_num',\n",
    "                   'assignee',\n",
    "                   'app_num',\n",
    "                   'GEOID',\n",
    "                   'assignee_univ_map',\n",
    "                   'Institution',\n",
    "                   'Control',\n",
    "                   'grant_yr',\n",
    "                    # 'Award_Amount',\n",
    "                    # 'Award_by_pop_gt_16_lf',\n",
    "                    # 'team_size',\n",
    "                    # 'men_inventors',\n",
    "                    'ipc_A',\n",
    "                    'ipc_B',\n",
    "                    'ipc_C',\n",
    "                    'ipc_D',\n",
    "                    'ipc_E',\n",
    "                    'ipc_F',\n",
    "                    'ipc_G',\n",
    "                    'ipc_H',\n",
    "                    'num_ipcs',\n",
    "                    'ipc'],\n",
    "                   axis = 1)"
   ]
  },
  {
   "cell_type": "code",
   "execution_count": 21,
   "id": "6153b42b-e011-4e71-8154-3c561ed273f8",
   "metadata": {},
   "outputs": [],
   "source": [
    "val_['perc_wi'] = val_['women_inventors']/(val_['men_inventors']+val_['women_inventors'])"
   ]
  },
  {
   "cell_type": "code",
   "execution_count": 25,
   "id": "f02dfc9d-2968-4e80-944e-e8cbc2b7850d",
   "metadata": {},
   "outputs": [
    {
     "data": {
      "text/plain": [
       "0.000000    1027172\n",
       "0.500000      72893\n",
       "0.333333      67646\n",
       "0.250000      49096\n",
       "1.000000      35622\n",
       "             ...   \n",
       "0.450000          1\n",
       "0.065574          1\n",
       "0.304348          1\n",
       "0.588235          1\n",
       "0.434783          1\n",
       "Name: perc_wi, Length: 153, dtype: int64"
      ]
     },
     "execution_count": 25,
     "metadata": {},
     "output_type": "execute_result"
    }
   ],
   "source": [
    "train_['perc_wi'].value_counts()"
   ]
  },
  {
   "cell_type": "code",
   "execution_count": 38,
   "id": "68976ea5-04ef-4d7c-be55-92d4bbd45d55",
   "metadata": {},
   "outputs": [
    {
     "data": {
      "text/html": [
       "<div>\n",
       "<style scoped>\n",
       "    .dataframe tbody tr th:only-of-type {\n",
       "        vertical-align: middle;\n",
       "    }\n",
       "\n",
       "    .dataframe tbody tr th {\n",
       "        vertical-align: top;\n",
       "    }\n",
       "\n",
       "    .dataframe thead th {\n",
       "        text-align: right;\n",
       "    }\n",
       "</style>\n",
       "<table border=\"1\" class=\"dataframe\">\n",
       "  <thead>\n",
       "    <tr style=\"text-align: right;\">\n",
       "      <th></th>\n",
       "      <th>app_yr</th>\n",
       "      <th>team_size</th>\n",
       "      <th>men_inventors</th>\n",
       "      <th>women_inventors</th>\n",
       "      <th>already_granted</th>\n",
       "      <th>r1</th>\n",
       "      <th>r2</th>\n",
       "      <th>special_focus</th>\n",
       "      <th>Over25_Less9Grade</th>\n",
       "      <th>Over25_SomeHS</th>\n",
       "      <th>...</th>\n",
       "      <th>Applications</th>\n",
       "      <th>Award_Amount</th>\n",
       "      <th>women_involved</th>\n",
       "      <th>GDP_by_labor_force</th>\n",
       "      <th>ap_by_est</th>\n",
       "      <th>est_by_pop_gt_16_lf</th>\n",
       "      <th>apps_by_pop_gt_16_lf</th>\n",
       "      <th>Wages_by_pop_gt_16_lf</th>\n",
       "      <th>Award_by_pop_gt_16_lf</th>\n",
       "      <th>perc_wi</th>\n",
       "    </tr>\n",
       "  </thead>\n",
       "  <tbody>\n",
       "    <tr>\n",
       "      <th>75</th>\n",
       "      <td>2016</td>\n",
       "      <td>-0.965448</td>\n",
       "      <td>0</td>\n",
       "      <td>0</td>\n",
       "      <td>1</td>\n",
       "      <td>0</td>\n",
       "      <td>0</td>\n",
       "      <td>0</td>\n",
       "      <td>0.572533</td>\n",
       "      <td>0.592769</td>\n",
       "      <td>...</td>\n",
       "      <td>-0.294301</td>\n",
       "      <td>-0.244243</td>\n",
       "      <td>0</td>\n",
       "      <td>-0.379296</td>\n",
       "      <td>-0.383587</td>\n",
       "      <td>-0.530874</td>\n",
       "      <td>0.905655</td>\n",
       "      <td>-0.336048</td>\n",
       "      <td>0.100967</td>\n",
       "      <td>NaN</td>\n",
       "    </tr>\n",
       "    <tr>\n",
       "      <th>132</th>\n",
       "      <td>2014</td>\n",
       "      <td>-0.965448</td>\n",
       "      <td>0</td>\n",
       "      <td>0</td>\n",
       "      <td>1</td>\n",
       "      <td>0</td>\n",
       "      <td>0</td>\n",
       "      <td>0</td>\n",
       "      <td>-0.360561</td>\n",
       "      <td>2.273928</td>\n",
       "      <td>...</td>\n",
       "      <td>0.087375</td>\n",
       "      <td>0.426940</td>\n",
       "      <td>0</td>\n",
       "      <td>-0.601245</td>\n",
       "      <td>-0.317963</td>\n",
       "      <td>-1.161137</td>\n",
       "      <td>0.310256</td>\n",
       "      <td>-0.550685</td>\n",
       "      <td>0.545632</td>\n",
       "      <td>NaN</td>\n",
       "    </tr>\n",
       "    <tr>\n",
       "      <th>234</th>\n",
       "      <td>2012</td>\n",
       "      <td>-0.965448</td>\n",
       "      <td>0</td>\n",
       "      <td>0</td>\n",
       "      <td>1</td>\n",
       "      <td>0</td>\n",
       "      <td>0</td>\n",
       "      <td>0</td>\n",
       "      <td>0.871123</td>\n",
       "      <td>0.819953</td>\n",
       "      <td>...</td>\n",
       "      <td>1.949638</td>\n",
       "      <td>1.225736</td>\n",
       "      <td>0</td>\n",
       "      <td>-0.431371</td>\n",
       "      <td>-0.257134</td>\n",
       "      <td>-0.410179</td>\n",
       "      <td>-0.020383</td>\n",
       "      <td>-0.389753</td>\n",
       "      <td>0.066258</td>\n",
       "      <td>NaN</td>\n",
       "    </tr>\n",
       "    <tr>\n",
       "      <th>287</th>\n",
       "      <td>2014</td>\n",
       "      <td>-0.965448</td>\n",
       "      <td>0</td>\n",
       "      <td>0</td>\n",
       "      <td>1</td>\n",
       "      <td>1</td>\n",
       "      <td>0</td>\n",
       "      <td>0</td>\n",
       "      <td>1.095065</td>\n",
       "      <td>0.819953</td>\n",
       "      <td>...</td>\n",
       "      <td>-0.340420</td>\n",
       "      <td>-0.242078</td>\n",
       "      <td>0</td>\n",
       "      <td>-0.480340</td>\n",
       "      <td>-0.443006</td>\n",
       "      <td>-0.518601</td>\n",
       "      <td>0.655527</td>\n",
       "      <td>-0.434153</td>\n",
       "      <td>0.108212</td>\n",
       "      <td>NaN</td>\n",
       "    </tr>\n",
       "    <tr>\n",
       "      <th>515</th>\n",
       "      <td>2015</td>\n",
       "      <td>-0.001001</td>\n",
       "      <td>0</td>\n",
       "      <td>0</td>\n",
       "      <td>1</td>\n",
       "      <td>0</td>\n",
       "      <td>0</td>\n",
       "      <td>0</td>\n",
       "      <td>-0.920417</td>\n",
       "      <td>-1.588193</td>\n",
       "      <td>...</td>\n",
       "      <td>-0.247747</td>\n",
       "      <td>-0.470979</td>\n",
       "      <td>0</td>\n",
       "      <td>-0.505136</td>\n",
       "      <td>-0.133801</td>\n",
       "      <td>-0.482256</td>\n",
       "      <td>0.735800</td>\n",
       "      <td>-0.508792</td>\n",
       "      <td>-0.429439</td>\n",
       "      <td>NaN</td>\n",
       "    </tr>\n",
       "    <tr>\n",
       "      <th>...</th>\n",
       "      <td>...</td>\n",
       "      <td>...</td>\n",
       "      <td>...</td>\n",
       "      <td>...</td>\n",
       "      <td>...</td>\n",
       "      <td>...</td>\n",
       "      <td>...</td>\n",
       "      <td>...</td>\n",
       "      <td>...</td>\n",
       "      <td>...</td>\n",
       "      <td>...</td>\n",
       "      <td>...</td>\n",
       "      <td>...</td>\n",
       "      <td>...</td>\n",
       "      <td>...</td>\n",
       "      <td>...</td>\n",
       "      <td>...</td>\n",
       "      <td>...</td>\n",
       "      <td>...</td>\n",
       "      <td>...</td>\n",
       "      <td>...</td>\n",
       "    </tr>\n",
       "    <tr>\n",
       "      <th>1373644</th>\n",
       "      <td>2011</td>\n",
       "      <td>-0.965448</td>\n",
       "      <td>0</td>\n",
       "      <td>0</td>\n",
       "      <td>0</td>\n",
       "      <td>0</td>\n",
       "      <td>0</td>\n",
       "      <td>0</td>\n",
       "      <td>0.311267</td>\n",
       "      <td>-0.179655</td>\n",
       "      <td>...</td>\n",
       "      <td>-0.132722</td>\n",
       "      <td>-0.134586</td>\n",
       "      <td>0</td>\n",
       "      <td>0.469404</td>\n",
       "      <td>1.207973</td>\n",
       "      <td>-0.328246</td>\n",
       "      <td>-0.550973</td>\n",
       "      <td>0.568786</td>\n",
       "      <td>-0.141465</td>\n",
       "      <td>NaN</td>\n",
       "    </tr>\n",
       "    <tr>\n",
       "      <th>1373786</th>\n",
       "      <td>2014</td>\n",
       "      <td>-0.965448</td>\n",
       "      <td>0</td>\n",
       "      <td>0</td>\n",
       "      <td>0</td>\n",
       "      <td>0</td>\n",
       "      <td>0</td>\n",
       "      <td>0</td>\n",
       "      <td>0.759151</td>\n",
       "      <td>0.592769</td>\n",
       "      <td>...</td>\n",
       "      <td>2.075812</td>\n",
       "      <td>1.262732</td>\n",
       "      <td>0</td>\n",
       "      <td>-0.335127</td>\n",
       "      <td>-0.162812</td>\n",
       "      <td>-0.363852</td>\n",
       "      <td>0.073423</td>\n",
       "      <td>-0.307105</td>\n",
       "      <td>0.075640</td>\n",
       "      <td>NaN</td>\n",
       "    </tr>\n",
       "    <tr>\n",
       "      <th>1373794</th>\n",
       "      <td>2016</td>\n",
       "      <td>-0.965448</td>\n",
       "      <td>0</td>\n",
       "      <td>0</td>\n",
       "      <td>1</td>\n",
       "      <td>0</td>\n",
       "      <td>0</td>\n",
       "      <td>0</td>\n",
       "      <td>-1.032388</td>\n",
       "      <td>-1.133826</td>\n",
       "      <td>...</td>\n",
       "      <td>-0.599729</td>\n",
       "      <td>-0.486252</td>\n",
       "      <td>0</td>\n",
       "      <td>-0.980883</td>\n",
       "      <td>-0.757901</td>\n",
       "      <td>-1.059503</td>\n",
       "      <td>0.121567</td>\n",
       "      <td>-0.956056</td>\n",
       "      <td>-0.402684</td>\n",
       "      <td>NaN</td>\n",
       "    </tr>\n",
       "    <tr>\n",
       "      <th>1374057</th>\n",
       "      <td>2012</td>\n",
       "      <td>-0.965448</td>\n",
       "      <td>0</td>\n",
       "      <td>0</td>\n",
       "      <td>0</td>\n",
       "      <td>0</td>\n",
       "      <td>0</td>\n",
       "      <td>0</td>\n",
       "      <td>-0.808446</td>\n",
       "      <td>0.638206</td>\n",
       "      <td>...</td>\n",
       "      <td>-0.580531</td>\n",
       "      <td>-0.330315</td>\n",
       "      <td>0</td>\n",
       "      <td>-0.470644</td>\n",
       "      <td>-0.572637</td>\n",
       "      <td>-0.190020</td>\n",
       "      <td>-0.618291</td>\n",
       "      <td>-0.422441</td>\n",
       "      <td>-0.070226</td>\n",
       "      <td>NaN</td>\n",
       "    </tr>\n",
       "    <tr>\n",
       "      <th>1374246</th>\n",
       "      <td>2012</td>\n",
       "      <td>-0.483224</td>\n",
       "      <td>0</td>\n",
       "      <td>0</td>\n",
       "      <td>0</td>\n",
       "      <td>0</td>\n",
       "      <td>0</td>\n",
       "      <td>0</td>\n",
       "      <td>-0.211266</td>\n",
       "      <td>2.319364</td>\n",
       "      <td>...</td>\n",
       "      <td>0.066818</td>\n",
       "      <td>0.426950</td>\n",
       "      <td>0</td>\n",
       "      <td>-0.723114</td>\n",
       "      <td>-0.444174</td>\n",
       "      <td>-1.210992</td>\n",
       "      <td>0.202466</td>\n",
       "      <td>-0.645001</td>\n",
       "      <td>0.525656</td>\n",
       "      <td>NaN</td>\n",
       "    </tr>\n",
       "  </tbody>\n",
       "</table>\n",
       "<p>16884 rows × 95 columns</p>\n",
       "</div>"
      ],
      "text/plain": [
       "         app_yr  team_size  men_inventors  women_inventors  already_granted  \\\n",
       "75         2016  -0.965448              0                0                1   \n",
       "132        2014  -0.965448              0                0                1   \n",
       "234        2012  -0.965448              0                0                1   \n",
       "287        2014  -0.965448              0                0                1   \n",
       "515        2015  -0.001001              0                0                1   \n",
       "...         ...        ...            ...              ...              ...   \n",
       "1373644    2011  -0.965448              0                0                0   \n",
       "1373786    2014  -0.965448              0                0                0   \n",
       "1373794    2016  -0.965448              0                0                1   \n",
       "1374057    2012  -0.965448              0                0                0   \n",
       "1374246    2012  -0.483224              0                0                0   \n",
       "\n",
       "         r1  r2  special_focus  Over25_Less9Grade  Over25_SomeHS  ...  \\\n",
       "75        0   0              0           0.572533       0.592769  ...   \n",
       "132       0   0              0          -0.360561       2.273928  ...   \n",
       "234       0   0              0           0.871123       0.819953  ...   \n",
       "287       1   0              0           1.095065       0.819953  ...   \n",
       "515       0   0              0          -0.920417      -1.588193  ...   \n",
       "...      ..  ..            ...                ...            ...  ...   \n",
       "1373644   0   0              0           0.311267      -0.179655  ...   \n",
       "1373786   0   0              0           0.759151       0.592769  ...   \n",
       "1373794   0   0              0          -1.032388      -1.133826  ...   \n",
       "1374057   0   0              0          -0.808446       0.638206  ...   \n",
       "1374246   0   0              0          -0.211266       2.319364  ...   \n",
       "\n",
       "         Applications  Award_Amount  women_involved  GDP_by_labor_force  \\\n",
       "75          -0.294301     -0.244243               0           -0.379296   \n",
       "132          0.087375      0.426940               0           -0.601245   \n",
       "234          1.949638      1.225736               0           -0.431371   \n",
       "287         -0.340420     -0.242078               0           -0.480340   \n",
       "515         -0.247747     -0.470979               0           -0.505136   \n",
       "...               ...           ...             ...                 ...   \n",
       "1373644     -0.132722     -0.134586               0            0.469404   \n",
       "1373786      2.075812      1.262732               0           -0.335127   \n",
       "1373794     -0.599729     -0.486252               0           -0.980883   \n",
       "1374057     -0.580531     -0.330315               0           -0.470644   \n",
       "1374246      0.066818      0.426950               0           -0.723114   \n",
       "\n",
       "         ap_by_est est_by_pop_gt_16_lf  apps_by_pop_gt_16_lf  \\\n",
       "75       -0.383587           -0.530874              0.905655   \n",
       "132      -0.317963           -1.161137              0.310256   \n",
       "234      -0.257134           -0.410179             -0.020383   \n",
       "287      -0.443006           -0.518601              0.655527   \n",
       "515      -0.133801           -0.482256              0.735800   \n",
       "...            ...                 ...                   ...   \n",
       "1373644   1.207973           -0.328246             -0.550973   \n",
       "1373786  -0.162812           -0.363852              0.073423   \n",
       "1373794  -0.757901           -1.059503              0.121567   \n",
       "1374057  -0.572637           -0.190020             -0.618291   \n",
       "1374246  -0.444174           -1.210992              0.202466   \n",
       "\n",
       "         Wages_by_pop_gt_16_lf  Award_by_pop_gt_16_lf  perc_wi  \n",
       "75                   -0.336048               0.100967      NaN  \n",
       "132                  -0.550685               0.545632      NaN  \n",
       "234                  -0.389753               0.066258      NaN  \n",
       "287                  -0.434153               0.108212      NaN  \n",
       "515                  -0.508792              -0.429439      NaN  \n",
       "...                        ...                    ...      ...  \n",
       "1373644               0.568786              -0.141465      NaN  \n",
       "1373786              -0.307105               0.075640      NaN  \n",
       "1373794              -0.956056              -0.402684      NaN  \n",
       "1374057              -0.422441              -0.070226      NaN  \n",
       "1374246              -0.645001               0.525656      NaN  \n",
       "\n",
       "[16884 rows x 95 columns]"
      ]
     },
     "execution_count": 38,
     "metadata": {},
     "output_type": "execute_result"
    }
   ],
   "source": [
    "train_[train_['perc_wi'].isnull()]"
   ]
  },
  {
   "cell_type": "code",
   "execution_count": 26,
   "id": "10ea2ad2-e237-4e97-a323-0d73a151f107",
   "metadata": {
    "tags": []
   },
   "outputs": [
    {
     "name": "stdout",
     "output_type": "stream",
     "text": [
      "perc_wi :  16884\n"
     ]
    }
   ],
   "source": [
    "for i in range(len(train_.columns)):\n",
    "    if train_.iloc[:,i].isnull().values.any() == True:\n",
    "        print(train_.iloc[:,i].name,': ',train_.iloc[:,i].isna().sum())"
   ]
  },
  {
   "cell_type": "markdown",
   "id": "c6055b33-fb8b-4298-bae4-c650e1bd8221",
   "metadata": {},
   "source": [
    "__Some patents include 0 men and women inventors, causing some perc women % to be null, these are later dropped__"
   ]
  },
  {
   "cell_type": "markdown",
   "id": "7c818c9a-f519-4eb3-b94d-73987d8f337d",
   "metadata": {},
   "source": [
    "Numeric Feature List Below:"
   ]
  },
  {
   "cell_type": "code",
   "execution_count": 27,
   "id": "4b29595b-0d9f-4449-a6cf-61354c29f13c",
   "metadata": {
    "jupyter": {
     "source_hidden": true
    },
    "tags": []
   },
   "outputs": [],
   "source": [
    "numeric = [\n",
    " # 'num_ipcs',\n",
    " 'team_size',\n",
    " # 'men_inventors',\n",
    " # 'women_inventors',\n",
    " 'Over25_Less9Grade',\n",
    " 'Over25_SomeHS',\n",
    " 'Over25_HSGrad',\n",
    " 'Over25_SomeCollege',\n",
    " 'Over25_Assosc',\n",
    " 'Over25_Bach',\n",
    " 'Over25_Grad',\n",
    " 'ap_by_est',\n",
    " 'pop_gt_16_lf',\n",
    " 'est_by_pop_gt_16_lf',\n",
    " 'Total_employment',\n",
    " 'Pop_Est',\n",
    " 'Population_Estimate',\n",
    " 'Population_persons',\n",
    " 'Earnings_by_place_of_work',\n",
    " 'Employee_and_self-employed_contributions_for_government_social_insurance',\n",
    " 'Employer_contributions_for_employee_pension_and_insurance_funds',\n",
    " 'Employer_contributions_for_government_social_insurance',\n",
    " 'Equals_Net_earnings_by_place_of_residence',\n",
    " 'Farm_income',\n",
    " 'Farm_proprietors_income',\n",
    " 'Less_Contributions_for_government_social_insurance',\n",
    " 'Nonfarm_personal_income',\n",
    " 'Nonfarm_proprietors_income',\n",
    " 'Per_capita_personal_income_dollars',\n",
    " 'Personal_income_thousands_of_dollars',\n",
    " 'Plus_Adjustment_for_residence',\n",
    " 'Plus_Dividends_interest_and_rent',\n",
    " 'Plus_Personal_current_transfer_receipts',\t\n",
    " 'Proprietors_employment',\n",
    " 'Proprietors_income',\n",
    " 'Supplements_to_wages_and_salaries',\n",
    " 'Wage_and_salary_employment',\n",
    " 'Wages_and_salaries',\n",
    " 'Applications',\n",
    " # 'Award_Amount',\n",
    " # 'GDP_by_labor_force',\n",
    " 'apps_by_pop_gt_16_lf',\n",
    " 'Wages_by_pop_gt_16_lf',\n",
    " # 'Award_by_pop_gt_16_lf'\n",
    "]"
   ]
  },
  {
   "cell_type": "markdown",
   "id": "6c787955-6a75-47f4-9cbe-11dab01ee472",
   "metadata": {},
   "source": [
    "Categorical Feature List Below:"
   ]
  },
  {
   "cell_type": "code",
   "execution_count": 28,
   "id": "7619f1da-665b-4e52-bd40-14c722c4d140",
   "metadata": {
    "jupyter": {
     "source_hidden": true
    },
    "tags": []
   },
   "outputs": [],
   "source": [
    "categorical = [\n",
    "# 'ipc',\n",
    "# 'ipc_A',\n",
    "# 'ipc_B',\n",
    "# 'ipc_C',\n",
    "# 'ipc_D',\n",
    "# 'ipc_E',\n",
    "# 'ipc_F',\n",
    "# 'ipc_G',\n",
    "# 'ipc_H',\n",
    "'already_granted',\n",
    "# 'Control',\n",
    "'r1',\n",
    "'r2',\n",
    "'special_focus',\n",
    "'bea_region',\n",
    "'Agriculture_Forestry_Fishing_Hunting_base',\n",
    "'Mining_Quarrying_and_Oil_Gas_Extraction_base',\n",
    "'Utilities_base',\n",
    "'Construction_base',\n",
    "'Manufacturing_base',\n",
    "'Wholesale_Trade_base',\n",
    "'Retail_Trade_base',\n",
    "'Transportation_Warehousing_base',\n",
    "'Information_base',\n",
    "'Finance_Insurance_base',\n",
    "'Real_Estate_Rental_Leasing_base',\n",
    "'Professional_Scientific_and_Technical_Services_base',\n",
    "'Management_of_Companies_Enterprises_base',\n",
    "'Administrative_Support_Waste_Management_Remediation_Services_base',\n",
    "'Educational_Services_base',\n",
    "'Health_Care_Social_Assistance_base',\n",
    "'Arts_Entertainment_and_Recreation_base',\n",
    "'Accommodation_Food_Services_base',\n",
    "'Other_Services_except_Public_Administration_base',\n",
    "'women_involved'\n",
    "]"
   ]
  },
  {
   "cell_type": "markdown",
   "id": "fd81c57c-422f-47a2-9242-53105a5beb0b",
   "metadata": {},
   "source": [
    "#### One Hot Encode Categoricals\n",
    "All already binary except region"
   ]
  },
  {
   "cell_type": "code",
   "execution_count": 29,
   "id": "f6052437-433d-44c4-a780-b668feb7854e",
   "metadata": {},
   "outputs": [],
   "source": [
    "train = pd.concat([train_.drop('bea_region', axis =1), pd.get_dummies(train_.bea_region)], axis = 1)\n",
    "val = pd.concat([val_.drop('bea_region', axis =1), pd.get_dummies(val_.bea_region)], axis = 1)"
   ]
  },
  {
   "cell_type": "markdown",
   "id": "2d6ef6c8-d57b-4c38-a346-b4f61766fc22",
   "metadata": {},
   "source": [
    "#### Creating X and Y train, val sets for both Logistic Regression and Linear Regression on a Patent Level"
   ]
  },
  {
   "cell_type": "code",
   "execution_count": 39,
   "id": "78c799c3-897d-4bbf-9758-373cf4379bb4",
   "metadata": {},
   "outputs": [],
   "source": [
    "##binary class for women involvement\n",
    "###train\n",
    "y_wi= train['women_involved']\n",
    "x_wi= train.drop(['women_involved','women_inventors', 'men_inventors','perc_wi'], axis = 1)\n",
    "\n",
    "##val\n",
    "x_val_wi = val.drop(['women_involved','women_inventors', 'men_inventors','perc_wi'], axis = 1)\n",
    "y_val_wi= val['women_involved']\n",
    "\n",
    "##women percentage\n",
    "###train\n",
    "y_wi_perc = train['perc_wi'].dropna()\n",
    "x_wi_perc= train.dropna().drop(['women_involved','women_inventors', 'men_inventors','perc_wi'], axis = 1)\n",
    "#x - same as above\n",
    "\n",
    "##val\n",
    "y_val_wi_perc = val['perc_wi'].dropna()\n",
    "x_val_wi_perc= val.dropna().drop(['women_involved','women_inventors', 'men_inventors','perc_wi'], axis = 1)\n",
    "#x - same as above"
   ]
  },
  {
   "cell_type": "code",
   "execution_count": 40,
   "id": "bc3e742a-842d-46cb-bec1-228a7d8bdb04",
   "metadata": {},
   "outputs": [
    {
     "data": {
      "text/plain": [
       "(1374290, 98)"
      ]
     },
     "execution_count": 40,
     "metadata": {},
     "output_type": "execute_result"
    }
   ],
   "source": [
    "x_wi.shape"
   ]
  },
  {
   "cell_type": "code",
   "execution_count": 41,
   "id": "1bc8c521-808e-4d3b-99d7-14875dfd8930",
   "metadata": {},
   "outputs": [
    {
     "data": {
      "text/plain": [
       "(1357406, 98)"
      ]
     },
     "execution_count": 41,
     "metadata": {},
     "output_type": "execute_result"
    }
   ],
   "source": [
    "x_wi_perc.shape"
   ]
  },
  {
   "cell_type": "markdown",
   "id": "be10456a-70c5-4e74-a53e-5716fa610459",
   "metadata": {},
   "source": [
    "### Logistic Regression Models"
   ]
  },
  {
   "cell_type": "code",
   "execution_count": 31,
   "id": "f0022a53-1fba-42c1-9c5c-705b02d3414a",
   "metadata": {
    "jupyter": {
     "source_hidden": true
    },
    "tags": []
   },
   "outputs": [],
   "source": [
    "categorical = [\n",
    "# 'ipc',\n",
    "# 'ipc_A',\n",
    "# 'ipc_B',\n",
    "# 'ipc_C',\n",
    "# 'ipc_D',\n",
    "# 'ipc_E',\n",
    "# 'ipc_F',\n",
    "# 'ipc_G',\n",
    "# 'ipc_H',\n",
    "'already_granted',\n",
    "# 'Control',\n",
    "'r1',\n",
    "'r2',\n",
    "'special_focus',\n",
    "# 'bea_region',\n",
    "'Agriculture_Forestry_Fishing_Hunting_base',\n",
    "'Mining_Quarrying_and_Oil_Gas_Extraction_base',\n",
    "'Utilities_base',\n",
    "'Construction_base',\n",
    "'Manufacturing_base',\n",
    "'Wholesale_Trade_base',\n",
    "'Retail_Trade_base',\n",
    "'Transportation_Warehousing_base',\n",
    "'Information_base',\n",
    "'Finance_Insurance_base',\n",
    "'Real_Estate_Rental_Leasing_base',\n",
    "'Professional_Scientific_and_Technical_Services_base',\n",
    "'Management_of_Companies_Enterprises_base',\n",
    "'Administrative_Support_Waste_Management_Remediation_Services_base',\n",
    "'Educational_Services_base',\n",
    "'Health_Care_Social_Assistance_base',\n",
    "'Arts_Entertainment_and_Recreation_base',\n",
    "'Accommodation_Food_Services_base',\n",
    "'Other_Services_except_Public_Administration_base',\n",
    "# 'women_involved'\n",
    "'Far West',\n",
    "'Great Lakes', \n",
    "'Mideast', \n",
    "'New England', \n",
    "'Plains', \n",
    "'Rocky Mountain',\n",
    "'Southeast', \n",
    "'Southwest'\n",
    "]"
   ]
  },
  {
   "cell_type": "code",
   "execution_count": 32,
   "id": "b08a80c9-9577-423e-b1f8-1b1fe998847e",
   "metadata": {},
   "outputs": [
    {
     "name": "stdout",
     "output_type": "stream",
     "text": [
      "[[123409   5632]\n",
      " [ 37633   3183]]\n",
      "              precision    recall  f1-score   support\n",
      "\n",
      "           0       0.77      0.96      0.85    129041\n",
      "           1       0.36      0.08      0.13     40816\n",
      "\n",
      "    accuracy                           0.75    169857\n",
      "   macro avg       0.56      0.52      0.49    169857\n",
      "weighted avg       0.67      0.75      0.68    169857\n",
      "\n"
     ]
    }
   ],
   "source": [
    "model = LogisticRegression(solver='liblinear')\n",
    "logreg = model.fit(x_wi[['r1','Over25_Grad']], y_wi)\n",
    "# evaluate the model\n",
    "yhat = model.predict(x_val_wi[['r1','Over25_Grad']])\n",
    "y_hat2 = (model.predict_proba(x_val_wi[['r1','Over25_Grad']])[:,1] >= 0.3).astype(bool) # set threshold as 0.3\n",
    "# evaluate predictions\n",
    "# accuracy = model.score(x_wi[categorical], y_val_wi)\n",
    "# print('Accuracy: %.2f' % (accuracy*100))\n",
    "# print(metrics.confusion_matrix(y_val_wi, yhat))\n",
    "# print(classification_report(y_val_wi, yhat))\n",
    "print(metrics.confusion_matrix(y_val_wi, y_hat2))\n",
    "print(classification_report(y_val_wi, y_hat2))"
   ]
  },
  {
   "cell_type": "code",
   "execution_count": 33,
   "id": "22b5a1d6-26f2-4f7f-b796-dae0a0bd8cd4",
   "metadata": {},
   "outputs": [
    {
     "name": "stdout",
     "output_type": "stream",
     "text": [
      "[[118045  10996]\n",
      " [ 34972   5844]]\n",
      "              precision    recall  f1-score   support\n",
      "\n",
      "           0       0.77      0.91      0.84    129041\n",
      "           1       0.35      0.14      0.20     40816\n",
      "\n",
      "    accuracy                           0.73    169857\n",
      "   macro avg       0.56      0.53      0.52    169857\n",
      "weighted avg       0.67      0.73      0.68    169857\n",
      "\n"
     ]
    }
   ],
   "source": [
    "model = LogisticRegression(solver='liblinear')\n",
    "logreg = model.fit(x_wi[categorical], y_wi)\n",
    "# evaluate the model\n",
    "yhat = model.predict(x_val_wi[categorical])\n",
    "y_hat2 = (model.predict_proba(x_val_wi[categorical])[:,1] >= 0.3).astype(bool) # set threshold as 0.3\n",
    "# evaluate predictions\n",
    "# accuracy = model.score(x_wi[categorical], y_val_wi)\n",
    "# print('Accuracy: %.2f' % (accuracy*100))\n",
    "# print(metrics.confusion_matrix(y_val_wi, yhat))\n",
    "# print(classification_report(y_val_wi, yhat))\n",
    "print(metrics.confusion_matrix(y_val_wi, y_hat2))\n",
    "print(classification_report(y_val_wi, y_hat2))"
   ]
  },
  {
   "cell_type": "code",
   "execution_count": 34,
   "id": "042ec4c4-b248-4e6e-bc1b-91e2cdf42066",
   "metadata": {},
   "outputs": [
    {
     "name": "stdout",
     "output_type": "stream",
     "text": [
      "[[128697    344]\n",
      " [ 40738     78]]\n",
      "              precision    recall  f1-score   support\n",
      "\n",
      "           0       0.76      1.00      0.86    129041\n",
      "           1       0.18      0.00      0.00     40816\n",
      "\n",
      "    accuracy                           0.76    169857\n",
      "   macro avg       0.47      0.50      0.43    169857\n",
      "weighted avg       0.62      0.76      0.66    169857\n",
      "\n",
      "col_0            False  True\n",
      "women_involved              \n",
      "0               128697   344\n",
      "1                40738    78\n"
     ]
    }
   ],
   "source": [
    "model = LogisticRegression(solver='liblinear')\n",
    "logreg = model.fit(x_wi, y_wi)\n",
    "# evaluate the model\n",
    "yhat = model.predict(x_val_wi)\n",
    "y_hat2 = (model.predict_proba(x_val_wi)[:,1] >= 0.5).astype(bool) # set threshold as 0.3\n",
    "# evaluate predictions\n",
    "# accuracy = model.score(x_wi[categorical], y_val_wi)\n",
    "# print('Accuracy: %.2f' % (accuracy*100))\n",
    "# print(metrics.confusion_matrix(y_val_wi, yhat))\n",
    "# print(classification_report(y_val_wi, yhat))\n",
    "print(metrics.confusion_matrix(y_val_wi, y_hat2))\n",
    "print(classification_report(y_val_wi, y_hat2))\n",
    "print(pd.crosstab(y_val_wi, y_hat2))"
   ]
  },
  {
   "cell_type": "code",
   "execution_count": 35,
   "id": "4511b7a2-c5fb-449c-95a0-d596feed5705",
   "metadata": {},
   "outputs": [
    {
     "name": "stdout",
     "output_type": "stream",
     "text": [
      "[[71197 57844]\n",
      " [22457 18359]]\n",
      "              precision    recall  f1-score   support\n",
      "\n",
      "           0       0.76      0.55      0.64    129041\n",
      "           1       0.24      0.45      0.31     40816\n",
      "\n",
      "    accuracy                           0.53    169857\n",
      "   macro avg       0.50      0.50      0.48    169857\n",
      "weighted avg       0.64      0.53      0.56    169857\n",
      "\n",
      "col_0           False   True\n",
      "women_involved              \n",
      "0               71197  57844\n",
      "1               22457  18359\n"
     ]
    }
   ],
   "source": [
    "model = LogisticRegression(solver='liblinear')\n",
    "logreg = model.fit(x_wi, y_wi)\n",
    "# evaluate the model\n",
    "yhat = model.predict(x_val_wi)\n",
    "y_hat2 = (model.predict_proba(x_val_wi)[:,1] >= 0.4).astype(bool) # set threshold as 0.3\n",
    "# evaluate predictions\n",
    "# accuracy = model.score(x_wi[categorical], y_val_wi)\n",
    "# print('Accuracy: %.2f' % (accuracy*100))\n",
    "# print(metrics.confusion_matrix(y_val_wi, yhat))\n",
    "# print(classification_report(y_val_wi, yhat))\n",
    "print(metrics.confusion_matrix(y_val_wi, y_hat2))\n",
    "print(classification_report(y_val_wi, y_hat2))\n",
    "print(pd.crosstab(y_val_wi, y_hat2))"
   ]
  },
  {
   "cell_type": "code",
   "execution_count": 36,
   "id": "0bcf736a-89e6-4571-9a3d-5ae0a4e3bcb7",
   "metadata": {},
   "outputs": [
    {
     "name": "stdout",
     "output_type": "stream",
     "text": [
      "[[41472 87569]\n",
      " [12637 28179]]\n",
      "              precision    recall  f1-score   support\n",
      "\n",
      "           0       0.77      0.32      0.45    129041\n",
      "           1       0.24      0.69      0.36     40816\n",
      "\n",
      "    accuracy                           0.41    169857\n",
      "   macro avg       0.50      0.51      0.41    169857\n",
      "weighted avg       0.64      0.41      0.43    169857\n",
      "\n",
      "col_0           False   True\n",
      "women_involved              \n",
      "0               41472  87569\n",
      "1               12637  28179\n"
     ]
    }
   ],
   "source": [
    "model = LogisticRegression(solver='liblinear')\n",
    "logreg = model.fit(x_wi, y_wi)\n",
    "# evaluate the model\n",
    "yhat = model.predict(x_val_wi)\n",
    "y_hat2 = (model.predict_proba(x_val_wi)[:,1] >= 0.3).astype(bool) # set threshold as 0.3\n",
    "# evaluate predictions\n",
    "# accuracy = model.score(x_wi[categorical], y_val_wi)\n",
    "# print('Accuracy: %.2f' % (accuracy*100))\n",
    "# print(metrics.confusion_matrix(y_val_wi, yhat))\n",
    "# print(classification_report(y_val_wi, yhat))\n",
    "print(metrics.confusion_matrix(y_val_wi, y_hat2))\n",
    "print(classification_report(y_val_wi, y_hat2))\n",
    "print(pd.crosstab(y_val_wi, y_hat2))"
   ]
  },
  {
   "cell_type": "markdown",
   "id": "decef16f-dc13-4415-8c72-8069a905c896",
   "metadata": {},
   "source": [
    "### Linear Regression - Individual Patent"
   ]
  },
  {
   "cell_type": "code",
   "execution_count": 51,
   "id": "c67e6582-4287-4ab7-a0d5-8fff37ce2684",
   "metadata": {},
   "outputs": [
    {
     "data": {
      "text/plain": [
       "0.12365310044451724"
      ]
     },
     "execution_count": 51,
     "metadata": {},
     "output_type": "execute_result"
    }
   ],
   "source": [
    "from sklearn.linear_model import LinearRegression\n",
    "predictors = [\n",
    "    'r1',\n",
    "    'Over25_HSGrad',\n",
    "    'r2',\n",
    "    'Agriculture_Forestry_Fishing_Hunting',\n",
    "    'Mining_Quarrying_and_Oil_Gas_Extraction',\n",
    "    'Utilities_base',\n",
    "    'Construction_base',\n",
    "    'Manufacturing',\n",
    "    'Wholesale_Trade',\n",
    "    'Retail_Trade',\n",
    "    'Transportation_Warehousing',\n",
    "    'Information',\n",
    "    'Finance_Insurance',\n",
    "    'Real_Estate_Rental_Leasing',\n",
    "    'Professional_Scientific_and_Technical_Services',\n",
    "    'Management_of_Companies_Enterprises',\n",
    "    'Administrative_Support_Waste_Management_Remediation_Services',\n",
    "    'Educational_Services',\n",
    "    'Health_Care_Social_Assistance',\n",
    "    'Arts_Entertainment_and_Recreation',\n",
    "    'Accommodation_Food_Services',\n",
    "    'Other_Services_except_Public_Administration',\n",
    "    ]\n",
    "reg = LinearRegression().fit(x_wi_perc[predictors], y_wi_perc)\n",
    "reg.score(x_val_wi_perc[predictors], y_val_wi_perc)\n",
    "reg.coef_\n",
    "reg.intercept_\n",
    "\n"
   ]
  },
  {
   "cell_type": "code",
   "execution_count": 53,
   "id": "6d030773-1210-446c-b84e-3da07d0645e1",
   "metadata": {},
   "outputs": [
    {
     "data": {
      "text/plain": [
       "0.008923912784862265"
      ]
     },
     "execution_count": 53,
     "metadata": {},
     "output_type": "execute_result"
    }
   ],
   "source": [
    "reg.score(x_val_wi_perc[predictors], y_val_wi_perc)"
   ]
  },
  {
   "cell_type": "code",
   "execution_count": 46,
   "id": "3cd017f3-61e4-4ca9-bab8-4cbf3fc6b700",
   "metadata": {},
   "outputs": [
    {
     "data": {
      "text/plain": [
       "array([ 0.07792584, -0.00611138])"
      ]
     },
     "execution_count": 46,
     "metadata": {},
     "output_type": "execute_result"
    }
   ],
   "source": [
    "reg.coef_"
   ]
  },
  {
   "cell_type": "code",
   "execution_count": null,
   "id": "eb4f3dae-cb97-4011-992e-c4cd495322cc",
   "metadata": {},
   "outputs": [],
   "source": [
    "train['women_inventors']"
   ]
  },
  {
   "cell_type": "markdown",
   "id": "afd601b5-2d4a-460e-bfc2-aef654ead887",
   "metadata": {},
   "source": [
    "### Random Forest - Individual Patent"
   ]
  },
  {
   "cell_type": "code",
   "execution_count": 76,
   "id": "b65a2c14-d224-4f66-9fca-19e8708f4846",
   "metadata": {},
   "outputs": [
    {
     "data": {
      "text/plain": [
       "RandomForestRegressor(n_estimators=1000, random_state=42)"
      ]
     },
     "execution_count": 76,
     "metadata": {},
     "output_type": "execute_result"
    }
   ],
   "source": [
    "from sklearn.ensemble import RandomForestRegressor\n",
    "rf = RandomForestRegressor(n_estimators = 1000, random_state = 42)\n",
    "rf.fit(x_wi_perc[predictors], y_wi_perc)"
   ]
  },
  {
   "cell_type": "code",
   "execution_count": 77,
   "id": "f83dcc06-efab-4362-b59a-701134aaad82",
   "metadata": {},
   "outputs": [],
   "source": [
    "predictions = rf.predict(x_val_wi_perc[predictors])\n",
    "errors = abs(predictions - y_val_wi_perc)"
   ]
  },
  {
   "cell_type": "code",
   "execution_count": 78,
   "id": "2b49e34b-6b71-4056-8962-d174baccbe3c",
   "metadata": {},
   "outputs": [
    {
     "name": "stdout",
     "output_type": "stream",
     "text": [
      "Mean Absolute Error: 0.15 degrees.\n"
     ]
    }
   ],
   "source": [
    "print('Mean Absolute Error:', round(np.mean(errors), 2), 'degrees.')"
   ]
  },
  {
   "cell_type": "code",
   "execution_count": null,
   "id": "23fdc4e7-fe40-4d8f-a73a-e100aa31abd2",
   "metadata": {},
   "outputs": [],
   "source": [
    "from sklearn.metrics import mean_squared_error\n",
    "\n",
    "mean_squared_error(y_val_wi_perc, predictions)"
   ]
  },
  {
   "cell_type": "markdown",
   "id": "30602fe2-a68c-48aa-9fa9-329b6f4cbde5",
   "metadata": {},
   "source": [
    "## GEOID Level Work - Regression for % Women Involvement"
   ]
  },
  {
   "cell_type": "markdown",
   "id": "08a27ce4-e8a7-4712-be35-4638972f9488",
   "metadata": {},
   "source": [
    "### Train Data on GEOID Level: Prep for Model Building"
   ]
  },
  {
   "cell_type": "code",
   "execution_count": 54,
   "id": "988b7075-9b75-4a82-9deb-aa80f28b157d",
   "metadata": {
    "tags": []
   },
   "outputs": [],
   "source": [
    "train_read_lr = pd.read_csv('LR_train_standardized.csv')"
   ]
  },
  {
   "cell_type": "code",
   "execution_count": 55,
   "id": "21959cb2-f742-436b-94cf-e917c36426ea",
   "metadata": {},
   "outputs": [
    {
     "data": {
      "text/plain": [
       "(11015, 102)"
      ]
     },
     "execution_count": 55,
     "metadata": {},
     "output_type": "execute_result"
    }
   ],
   "source": [
    "train_read_lr.shape"
   ]
  },
  {
   "cell_type": "code",
   "execution_count": 56,
   "id": "84d7438c-daa6-4754-880f-e7a12e60e920",
   "metadata": {},
   "outputs": [],
   "source": [
    "val_read_lr = pd.read_csv('LR_validation_standardized.csv')"
   ]
  },
  {
   "cell_type": "markdown",
   "id": "4ef968f4-b34f-4f98-83e4-65f6a226b1eb",
   "metadata": {},
   "source": [
    "The collapsed code below checks for null values, and removes columns with null values."
   ]
  },
  {
   "cell_type": "code",
   "execution_count": 67,
   "id": "abb6afe0-06c4-405a-8dc6-8d62cf07c72b",
   "metadata": {
    "tags": []
   },
   "outputs": [
    {
     "name": "stdout",
     "output_type": "stream",
     "text": [
      "perc_wi :  38\n"
     ]
    }
   ],
   "source": [
    "for i in range(len(train_read_lr.columns)):\n",
    "    if train_read_lr.iloc[:,i].isnull().values.any() == True:\n",
    "        print(train_read_lr.iloc[:,i].name,': ',train_read_lr.iloc[:,i].isna().sum())"
   ]
  },
  {
   "cell_type": "code",
   "execution_count": 59,
   "id": "07f0b1a6-fd63-4b08-96e5-9ab11e4fd48b",
   "metadata": {},
   "outputs": [],
   "source": [
    "train_read_lr['perc_wi'] = train_read_lr['women_inventors']/(train_read_lr['men_inventors']+train_read_lr['women_inventors'])"
   ]
  },
  {
   "cell_type": "code",
   "execution_count": 62,
   "id": "1c077362-8a34-444e-bd02-9d0f2744b52c",
   "metadata": {},
   "outputs": [],
   "source": [
    "val_read_lr['perc_wi'] = val_read_lr['women_inventors']/(val_read_lr['men_inventors']+val_read_lr['women_inventors'])"
   ]
  },
  {
   "cell_type": "markdown",
   "id": "720dca7c-ff4e-4963-8d8b-c5bd0fbf92ad",
   "metadata": {},
   "source": [
    "Numeric Feature List Below:"
   ]
  },
  {
   "cell_type": "code",
   "execution_count": null,
   "id": "ba3218a9-ef47-438f-975a-e934190d99b7",
   "metadata": {
    "jupyter": {
     "source_hidden": true
    },
    "tags": []
   },
   "outputs": [],
   "source": [
    "numeric = [\n",
    " # 'num_ipcs',\n",
    " 'team_size',\n",
    " # 'men_inventors',\n",
    " # 'women_inventors',\n",
    " 'Over25_Less9Grade',\n",
    " 'Over25_SomeHS',\n",
    " 'Over25_HSGrad',\n",
    " 'Over25_SomeCollege',\n",
    " 'Over25_Assosc',\n",
    " 'Over25_Bach',\n",
    " 'Over25_Grad',\n",
    " 'ap_by_est',\n",
    " 'pop_gt_16_lf',\n",
    " 'est_by_pop_gt_16_lf',\n",
    " 'Total_employment',\n",
    " 'Pop_Est',\n",
    " 'Population_Estimate',\n",
    " 'Population_persons',\n",
    " 'Earnings_by_place_of_work',\n",
    " 'Employee_and_self-employed_contributions_for_government_social_insurance',\n",
    " 'Employer_contributions_for_employee_pension_and_insurance_funds',\n",
    " 'Employer_contributions_for_government_social_insurance',\n",
    " 'Equals_Net_earnings_by_place_of_residence',\n",
    " 'Farm_income',\n",
    " 'Farm_proprietors_income',\n",
    " 'Less_Contributions_for_government_social_insurance',\n",
    " 'Nonfarm_personal_income',\n",
    " 'Nonfarm_proprietors_income',\n",
    " 'Per_capita_personal_income_dollars',\n",
    " 'Personal_income_thousands_of_dollars',\n",
    " 'Plus_Adjustment_for_residence',\n",
    " 'Plus_Dividends_interest_and_rent',\n",
    " 'Plus_Personal_current_transfer_receipts',\t\n",
    " 'Proprietors_employment',\n",
    " 'Proprietors_income',\n",
    " 'Supplements_to_wages_and_salaries',\n",
    " 'Wage_and_salary_employment',\n",
    " 'Wages_and_salaries',\n",
    " 'Applications',\n",
    " # 'Award_Amount',\n",
    " # 'GDP_by_labor_force',\n",
    " 'apps_by_pop_gt_16_lf',\n",
    " 'Wages_by_pop_gt_16_lf',\n",
    " # 'Award_by_pop_gt_16_lf'\n",
    "]"
   ]
  },
  {
   "cell_type": "markdown",
   "id": "3ff4dd15-3fe6-4434-9f78-f9e264ed1859",
   "metadata": {},
   "source": [
    "Categorical Feature List Below:"
   ]
  },
  {
   "cell_type": "code",
   "execution_count": null,
   "id": "59f1a8b9-35d4-42ff-b4a1-53c226371aef",
   "metadata": {
    "jupyter": {
     "source_hidden": true
    },
    "tags": []
   },
   "outputs": [],
   "source": [
    "categorical = [\n",
    "# 'ipc',\n",
    "# 'ipc_A',\n",
    "# 'ipc_B',\n",
    "# 'ipc_C',\n",
    "# 'ipc_D',\n",
    "# 'ipc_E',\n",
    "# 'ipc_F',\n",
    "# 'ipc_G',\n",
    "# 'ipc_H',\n",
    "'already_granted',\n",
    "# 'Control',\n",
    "'r1',\n",
    "'r2',\n",
    "'special_focus',\n",
    "'bea_region',\n",
    "'Agriculture_Forestry_Fishing_Hunting_base',\n",
    "'Mining_Quarrying_and_Oil_Gas_Extraction_base',\n",
    "'Utilities_base',\n",
    "'Construction_base',\n",
    "'Manufacturing_base',\n",
    "'Wholesale_Trade_base',\n",
    "'Retail_Trade_base',\n",
    "'Transportation_Warehousing_base',\n",
    "'Information_base',\n",
    "'Finance_Insurance_base',\n",
    "'Real_Estate_Rental_Leasing_base',\n",
    "'Professional_Scientific_and_Technical_Services_base',\n",
    "'Management_of_Companies_Enterprises_base',\n",
    "'Administrative_Support_Waste_Management_Remediation_Services_base',\n",
    "'Educational_Services_base',\n",
    "'Health_Care_Social_Assistance_base',\n",
    "'Arts_Entertainment_and_Recreation_base',\n",
    "'Accommodation_Food_Services_base',\n",
    "'Other_Services_except_Public_Administration_base',\n",
    "'women_involved'\n",
    "]"
   ]
  },
  {
   "cell_type": "markdown",
   "id": "1b81901a-68ad-4370-8c1c-79693faa35ca",
   "metadata": {},
   "source": [
    "#### One Hot Encode Categoricals\n",
    "All already binary except region"
   ]
  },
  {
   "cell_type": "code",
   "execution_count": 64,
   "id": "50aded43-4cee-4ce8-82ef-29dfc0b384b9",
   "metadata": {},
   "outputs": [],
   "source": [
    "train_lr = pd.concat([train_read_lr.drop('bea_region', axis =1), pd.get_dummies(train_read_lr.bea_region)], axis = 1)\n",
    "val_lr = pd.concat([val_read_lr.drop('bea_region', axis =1), pd.get_dummies(val_read_lr.bea_region)], axis = 1)"
   ]
  },
  {
   "cell_type": "markdown",
   "id": "e29f1c29-89e0-4d3a-a301-19feaa66ab84",
   "metadata": {},
   "source": [
    "### Linear Regression Model"
   ]
  },
  {
   "cell_type": "code",
   "execution_count": 68,
   "id": "8848fcbb-197f-45fb-bac1-45b4d67854af",
   "metadata": {},
   "outputs": [],
   "source": [
    "# ##binary class for women involvement\n",
    "# ###train\n",
    "# y_wi_lr= train_lr['women_involved']\n",
    "# x_wi_lr= train_lr.drop(['women_involved','women_inventors', 'men_inventors','perc_wi'], axis = 1)\n",
    "\n",
    "# ##val\n",
    "# x_val_wi_lr = val_lr.drop(['women_involved','women_inventors', 'men_inventors','perc_wi'], axis = 1)\n",
    "# y_val_wi_lr= val_lr['women_involved']\n",
    "\n",
    "##women percentage\n",
    "###train\n",
    "y_wi_perc_lr = train_lr['perc_wi'].dropna()\n",
    "x_wi_perc_lr = train_lr.dropna().drop(['women_involved','women_inventors', 'men_inventors','perc_wi'], axis = 1)\n",
    "#x - same as above\n",
    "\n",
    "##val\n",
    "y_val_wi_perc_lr = val_lr['perc_wi'].dropna()\n",
    "x_val_wi_perc_lr= val_lr.dropna().drop(['women_involved','women_inventors', 'men_inventors','perc_wi'], axis = 1)\n",
    "#x - same as above"
   ]
  },
  {
   "cell_type": "code",
   "execution_count": 71,
   "id": "1a35be99-cb59-43e3-9c81-55dae7c765d2",
   "metadata": {},
   "outputs": [
    {
     "data": {
      "text/plain": [
       "0.08041637552055625"
      ]
     },
     "execution_count": 71,
     "metadata": {},
     "output_type": "execute_result"
    }
   ],
   "source": [
    "from sklearn.linear_model import LinearRegression\n",
    "predictors = [\n",
    "    'r1',\n",
    "    'Over25_HSGrad',\n",
    "    # 'r2',\n",
    "    # 'Agriculture_Forestry_Fishing_Hunting',\n",
    "    # 'Mining_Quarrying_and_Oil_Gas_Extraction',\n",
    "    # 'Utilities_base',\n",
    "    # 'Construction_base',\n",
    "    # 'Manufacturing',\n",
    "    # 'Wholesale_Trade',\n",
    "    # 'Retail_Trade',\n",
    "    # 'Transportation_Warehousing',\n",
    "    # 'Information',\n",
    "    # 'Finance_Insurance',\n",
    "    # 'Real_Estate_Rental_Leasing',\n",
    "    # 'Professional_Scientific_and_Technical_Services',\n",
    "    # 'Management_of_Companies_Enterprises',\n",
    "    # 'Administrative_Support_Waste_Management_Remediation_Services',\n",
    "    # 'Educational_Services',\n",
    "    # 'Health_Care_Social_Assistance',\n",
    "    # 'Arts_Entertainment_and_Recreation',\n",
    "    # 'Accommodation_Food_Services',\n",
    "    # 'Other_Services_except_Public_Administration',\n",
    "    ]\n",
    "reg = LinearRegression().fit(x_wi_perc_lr[predictors], y_wi_perc_lr)\n",
    "reg.score(x_val_wi_perc_lr[predictors], y_val_wi_perc_lr)\n",
    "reg.coef_\n",
    "reg.intercept_\n"
   ]
  },
  {
   "cell_type": "code",
   "execution_count": 72,
   "id": "5a5e12cb-247a-4f5d-861b-60dcd1f06a63",
   "metadata": {},
   "outputs": [
    {
     "data": {
      "text/plain": [
       "-0.0013947805448866202"
      ]
     },
     "execution_count": 72,
     "metadata": {},
     "output_type": "execute_result"
    }
   ],
   "source": [
    "reg.score(x_val_wi_perc_lr[predictors], y_val_wi_perc_lr)"
   ]
  },
  {
   "cell_type": "markdown",
   "id": "b98aa577-ad6e-4bdf-a03a-70c78fa8c9a1",
   "metadata": {},
   "source": [
    "#### Random Forest"
   ]
  },
  {
   "cell_type": "code",
   "execution_count": 73,
   "id": "a6867192-a6d0-416a-a005-ee0a9047be3c",
   "metadata": {},
   "outputs": [
    {
     "data": {
      "text/plain": [
       "RandomForestRegressor(n_estimators=1000, random_state=42)"
      ]
     },
     "execution_count": 73,
     "metadata": {},
     "output_type": "execute_result"
    }
   ],
   "source": [
    "from sklearn.ensemble import RandomForestRegressor\n",
    "rf = RandomForestRegressor(n_estimators = 1000, random_state = 42)\n",
    "rf.fit(x_wi_perc_lr[predictors], y_wi_perc_lr)"
   ]
  },
  {
   "cell_type": "code",
   "execution_count": 74,
   "id": "921ee29f-efaa-4fe9-a686-b4b46d441df8",
   "metadata": {},
   "outputs": [],
   "source": [
    "predictions = rf.predict(x_val_wi_perc_lr[predictors])\n",
    "errors = abs(predictions - y_val_wi_perc_lr)"
   ]
  },
  {
   "cell_type": "code",
   "execution_count": 75,
   "id": "01b3cede-2341-44df-b1dd-2481b9dbdb13",
   "metadata": {},
   "outputs": [
    {
     "name": "stdout",
     "output_type": "stream",
     "text": [
      "Mean Absolute Error: 0.09 degrees.\n"
     ]
    }
   ],
   "source": [
    "print('Mean Absolute Error:', round(np.mean(errors), 2), 'degrees.')"
   ]
  },
  {
   "cell_type": "code",
   "execution_count": null,
   "id": "4cd402c8-f1d4-453b-8ade-cf6f6f7d0b79",
   "metadata": {},
   "outputs": [],
   "source": []
  }
 ],
 "metadata": {
  "kernelspec": {
   "display_name": "Python 3 (ipykernel)",
   "language": "python",
   "name": "python3"
  },
  "language_info": {
   "codemirror_mode": {
    "name": "ipython",
    "version": 3
   },
   "file_extension": ".py",
   "mimetype": "text/x-python",
   "name": "python",
   "nbconvert_exporter": "python",
   "pygments_lexer": "ipython3",
   "version": "3.9.12"
  }
 },
 "nbformat": 4,
 "nbformat_minor": 5
}
