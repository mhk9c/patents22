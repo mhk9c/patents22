{
 "cells": [
  {
   "cell_type": "markdown",
   "id": "4d654aab-f5e7-451f-8fbb-63d189c440b9",
   "metadata": {},
   "source": [
    "# Cleaning Merged Patents Data and Split for Model Training/Testing\n",
    "\n",
    "### Outline:\n",
    "\n",
    "- Drop redundant columns\n",
    "- Rename columns\n",
    "- Add key features\n",
    "- Clean University Assignment Features\n",
    "- Data Dictionary\n",
    "- Split Data\n",
    "- Save Data"
   ]
  },
  {
   "cell_type": "code",
   "execution_count": 37,
   "id": "cd5d080a-7b55-4d63-91f8-99a821365e3e",
   "metadata": {},
   "outputs": [],
   "source": [
    "import numpy as np\n",
    "import pandas as pd\n",
    "from matplotlib import pyplot as plt\n",
    "import seaborn as sns\n",
    "import os"
   ]
  },
  {
   "cell_type": "code",
   "execution_count": 38,
   "id": "12d9f4ed-5536-4a9a-8252-b93a56feedeb",
   "metadata": {},
   "outputs": [],
   "source": [
    "file_location =  'C:\\\\Users\\\\trent\\\\Documents\\\\Capstone' ##change as necessaru\n",
    "os.chdir(file_location)"
   ]
  },
  {
   "cell_type": "code",
   "execution_count": 39,
   "id": "3c2dc17c-749c-4737-a002-f1c2a5897250",
   "metadata": {},
   "outputs": [],
   "source": [
    "patents_full = pd.read_csv('PATENTS_DATA.csv', dtype = {'GEOID':'str'}, low_memory = False)"
   ]
  },
  {
   "cell_type": "code",
   "execution_count": 40,
   "id": "1c83b08a-307a-4077-bab3-b044e0607906",
   "metadata": {},
   "outputs": [
    {
     "data": {
      "text/plain": [
       "Index(['patent_number', 'assignee', 'grant_year', 'application_year',\n",
       "       'application_number', 'GEOID', 'ipc_section', 'team_size', 'inventors',\n",
       "       'men_inventors', 'women_inventors', 'already_granted',\n",
       "       'assignee_uni_clean2', 'Institution', 'Control', 'level_r1', 'level_r2',\n",
       "       'special_focus', 'Perc_Over25_LessNinthGrade',\n",
       "       'Perc_Over25_SomeHighSchool', 'Perc_Over25_HighSchoolGrad',\n",
       "       'Perc_Over25_SomeCollege', 'Perc_Over25_Assosciates',\n",
       "       'Perc_Over25_Bachelors', 'Perc_Over25_Graduate', 'bea_region',\n",
       "       'Agriculture_Forestry_Fishing_Hunting',\n",
       "       'Mining_Quarrying_and_Oil_Gas_Extraction', 'Utilities', 'Construction',\n",
       "       'Manufacturing', 'Wholesale_Trade', 'Retail_Trade',\n",
       "       'Transportation_Warehousing', 'Information', 'Finance_Insurance',\n",
       "       'Real_Estate_Rental_Leasing',\n",
       "       'Professional_Scientific_and_Technical_Services',\n",
       "       'Management_of_Companies_Enterprises',\n",
       "       'Administrative_Support_Waste_Management_Remediation_Services',\n",
       "       'Educational_Services', 'Health_Care_Social_Assistance',\n",
       "       'Arts_Entertainment_and_Recreation', 'Accommodation_Food_Services',\n",
       "       'Other_Services_except_Public_Administration', 'qp1', 'ap', 'est',\n",
       "       'Agriculture_Forestry_Fishing_Hunting_base',\n",
       "       'Mining_Quarrying_and_Oil_Gas_Extraction_base', 'Utilities_base',\n",
       "       'Construction_base', 'Manufacturing_base', 'Wholesale_Trade_base',\n",
       "       'Retail_Trade_base', 'Transportation_Warehousing_base',\n",
       "       'Information_base', 'Finance_Insurance_base',\n",
       "       'Real_Estate_Rental_Leasing_base',\n",
       "       'Professional_Scientific_and_Technical_Services_base',\n",
       "       'Management_of_Companies_Enterprises_base',\n",
       "       'Administrative_Support_Waste_Management_Remediation_Services_base',\n",
       "       'Educational_Services_base', 'Health_Care_Social_Assistance_base',\n",
       "       'Arts_Entertainment_and_Recreation_base',\n",
       "       'Accommodation_Food_Services_base',\n",
       "       'Other_Services_except_Public_Administration_base', 'GDP', 'pop_gt_16',\n",
       "       'pop_gt_16_lf', 'pop_gt_16_lf_c', 'Pop_Est', 'year'],\n",
       "      dtype='object')"
      ]
     },
     "execution_count": 40,
     "metadata": {},
     "output_type": "execute_result"
    }
   ],
   "source": [
    "patents_full.columns"
   ]
  },
  {
   "cell_type": "code",
   "execution_count": 41,
   "id": "5272c425-81f3-484c-bb40-6be4c9a6100a",
   "metadata": {},
   "outputs": [
    {
     "data": {
      "text/plain": [
       "patent_number          object\n",
       "assignee               object\n",
       "grant_year            float64\n",
       "application_year        int64\n",
       "application_number      int64\n",
       "                       ...   \n",
       "pop_gt_16               int64\n",
       "pop_gt_16_lf            int64\n",
       "pop_gt_16_lf_c          int64\n",
       "Pop_Est                 int64\n",
       "year                    int64\n",
       "Length: 73, dtype: object"
      ]
     },
     "execution_count": 41,
     "metadata": {},
     "output_type": "execute_result"
    }
   ],
   "source": [
    "patents_full.dtypes"
   ]
  },
  {
   "cell_type": "markdown",
   "id": "8212a8e0-dd75-4e2b-a331-989c5e9fc92b",
   "metadata": {},
   "source": [
    "## Dropping Redundant Columns"
   ]
  },
  {
   "cell_type": "code",
   "execution_count": 43,
   "id": "2d64453f-3422-47f9-b77b-3ac0c7c725a1",
   "metadata": {},
   "outputs": [],
   "source": [
    "patents_full.drop(['year','inventors'], axis = 1, inplace = True)"
   ]
  },
  {
   "cell_type": "markdown",
   "id": "88d1fe20-9f1b-4f9f-b4fb-c53ea0a0b80f",
   "metadata": {},
   "source": [
    "## Renaming Columns"
   ]
  },
  {
   "cell_type": "code",
   "execution_count": 44,
   "id": "06467cd2-a051-4143-93c3-3c9e51c25653",
   "metadata": {},
   "outputs": [],
   "source": [
    "patents_full.rename(columns = \n",
    "                      {'patent_number':'patent_num',\n",
    "                      'grant_year':'grant_yr',\n",
    "                      'application_year':'app_yr',\n",
    "                      'application_number':'app_num',\n",
    "                      'ipc_section':'ipc',\n",
    "                      'level_r1':'r1',\n",
    "                      'level_r2':'r2',\n",
    "                      'Perc_Over25_LessNinthGrade':'Over25_Less9Grade',\n",
    "                      'Perc_Over25_SomeHighSchool':'Over25_SomeHS',\n",
    "                      'Perc_Over25_HighSchoolGrad':'Over25_HSGrad', \n",
    "                      'Perc_Over25_SomeCollege':'Over25_SomeCollege',\n",
    "                      'Perc_Over25_Assosciates':'Over25_Assosc',\n",
    "                      'Perc_Over25_Bachelors':'Over25_Bach',\n",
    "                      'Perc_Over25_Graduate':'Over25_Grad',\n",
    "                      'assignee_uni_clean2':'assignee_univ_map'}, inplace = True)"
   ]
  },
  {
   "cell_type": "markdown",
   "id": "c6e336fe-af01-475f-8547-f95a7e497ca5",
   "metadata": {},
   "source": [
    "## Creating Necessary Features"
   ]
  },
  {
   "cell_type": "markdown",
   "id": "977b77b9-5159-4e45-89b1-7694fbbc5ae4",
   "metadata": {},
   "source": [
    "### Women Involvement in Patent"
   ]
  },
  {
   "cell_type": "code",
   "execution_count": 45,
   "id": "8ba70ee7-67ac-4374-a7ce-d863d903aef2",
   "metadata": {},
   "outputs": [],
   "source": [
    "patents_full['women_involved'] = np.where(patents_full['women_inventors'] > 0, 1, 0)"
   ]
  },
  {
   "cell_type": "code",
   "execution_count": 46,
   "id": "88e9da5a-ae3c-4ded-b5b1-614ff4f337d9",
   "metadata": {},
   "outputs": [
    {
     "data": {
      "text/plain": [
       "0    1303467\n",
       "1     412290\n",
       "Name: women_involved, dtype: int64"
      ]
     },
     "execution_count": 46,
     "metadata": {},
     "output_type": "execute_result"
    }
   ],
   "source": [
    "patents_full['women_involved'].value_counts()"
   ]
  },
  {
   "cell_type": "markdown",
   "id": "7e88a74c-30eb-4825-b8a9-42711ffe442f",
   "metadata": {},
   "source": [
    "## Cleaning University Assignments\n",
    "\n",
    "Binary classification if research university or not, for three types of research universities"
   ]
  },
  {
   "cell_type": "code",
   "execution_count": 47,
   "id": "e89b49c8-348f-4cc5-af4e-854011b01766",
   "metadata": {},
   "outputs": [],
   "source": [
    "patents_full['r1'].fillna(0, inplace = True)\n",
    "patents_full['r2'].fillna(0, inplace = True)\n",
    "patents_full['special_focus'].fillna(0, inplace = True)"
   ]
  },
  {
   "cell_type": "code",
   "execution_count": 48,
   "id": "4c0def7c-07fb-4f40-a703-78af4f1f183f",
   "metadata": {},
   "outputs": [],
   "source": [
    "patents_full[['r1','r2','special_focus']] = patents_full[['r1','r2','special_focus']].astype('int')"
   ]
  },
  {
   "cell_type": "code",
   "execution_count": 49,
   "id": "3d65bdb2-db4d-4c41-a5b6-406bf8a6c580",
   "metadata": {},
   "outputs": [
    {
     "data": {
      "text/plain": [
       "Index(['patent_num', 'assignee', 'grant_yr', 'app_yr', 'app_num', 'GEOID',\n",
       "       'ipc', 'team_size', 'men_inventors', 'women_inventors',\n",
       "       'already_granted', 'assignee_univ_map', 'Institution', 'Control', 'r1',\n",
       "       'r2', 'special_focus', 'Over25_Less9Grade', 'Over25_SomeHS',\n",
       "       'Over25_HSGrad', 'Over25_SomeCollege', 'Over25_Assosc', 'Over25_Bach',\n",
       "       'Over25_Grad', 'bea_region', 'Agriculture_Forestry_Fishing_Hunting',\n",
       "       'Mining_Quarrying_and_Oil_Gas_Extraction', 'Utilities', 'Construction',\n",
       "       'Manufacturing', 'Wholesale_Trade', 'Retail_Trade',\n",
       "       'Transportation_Warehousing', 'Information', 'Finance_Insurance',\n",
       "       'Real_Estate_Rental_Leasing',\n",
       "       'Professional_Scientific_and_Technical_Services',\n",
       "       'Management_of_Companies_Enterprises',\n",
       "       'Administrative_Support_Waste_Management_Remediation_Services',\n",
       "       'Educational_Services', 'Health_Care_Social_Assistance',\n",
       "       'Arts_Entertainment_and_Recreation', 'Accommodation_Food_Services',\n",
       "       'Other_Services_except_Public_Administration', 'qp1', 'ap', 'est',\n",
       "       'Agriculture_Forestry_Fishing_Hunting_base',\n",
       "       'Mining_Quarrying_and_Oil_Gas_Extraction_base', 'Utilities_base',\n",
       "       'Construction_base', 'Manufacturing_base', 'Wholesale_Trade_base',\n",
       "       'Retail_Trade_base', 'Transportation_Warehousing_base',\n",
       "       'Information_base', 'Finance_Insurance_base',\n",
       "       'Real_Estate_Rental_Leasing_base',\n",
       "       'Professional_Scientific_and_Technical_Services_base',\n",
       "       'Management_of_Companies_Enterprises_base',\n",
       "       'Administrative_Support_Waste_Management_Remediation_Services_base',\n",
       "       'Educational_Services_base', 'Health_Care_Social_Assistance_base',\n",
       "       'Arts_Entertainment_and_Recreation_base',\n",
       "       'Accommodation_Food_Services_base',\n",
       "       'Other_Services_except_Public_Administration_base', 'GDP', 'pop_gt_16',\n",
       "       'pop_gt_16_lf', 'pop_gt_16_lf_c', 'Pop_Est', 'women_involved'],\n",
       "      dtype='object')"
      ]
     },
     "execution_count": 49,
     "metadata": {},
     "output_type": "execute_result"
    }
   ],
   "source": [
    "patents_full.columns"
   ]
  },
  {
   "cell_type": "code",
   "execution_count": 50,
   "id": "4f6c6de7-3071-4e51-9646-db625534a656",
   "metadata": {},
   "outputs": [
    {
     "data": {
      "text/plain": [
       "0          1\n",
       "1          1\n",
       "2          1\n",
       "3          1\n",
       "4          1\n",
       "          ..\n",
       "1715752    0\n",
       "1715753    0\n",
       "1715754    0\n",
       "1715755    0\n",
       "1715756    0\n",
       "Name: already_granted, Length: 1715757, dtype: int64"
      ]
     },
     "execution_count": 50,
     "metadata": {},
     "output_type": "execute_result"
    }
   ],
   "source": [
    "patents_full.already_granted"
   ]
  },
  {
   "cell_type": "markdown",
   "id": "6ab621f6-1d38-4af6-95dd-1870f8c43d61",
   "metadata": {
    "tags": []
   },
   "source": [
    "## Data Dictionary\n",
    "\n",
    "- patent_num: Patent Number\n",
    "- assignee: Assignee\n",
    "- grant_yr: Grant Year\n",
    "- app_yr: Application Year\n",
    "- app_num: Application Number\n",
    "- GEOID: GEOID\n",
    "- ipc: International Patent Application\n",
    "- team_size: Number of inventors\n",
    "- men_inventors: Number of men inventors for patent\n",
    "- women_inventors: Number of women inventors for patent\n",
    "- already_granted: 1/0 classification, 1 i patent has been granted\n",
    "- assignee_univ_map: If assignee is a resaerch university, this is what official university name it is mapped to\n",
    "- Institution: If assigne is research university, the name of university\n",
    "- Control: Public or private university\n",
    "- r1: 1/0 classification, 1 if assignee is r1 research university: Very high research activity\n",
    "- r2: 1/0 classification, 1 if assignee is r2 research university: High research activity\n",
    "- special_focus: 1/0 classification, 1 if research university that only awards degrees in one area\n",
    "- Over25_Less9Grade: % of GEOID over 25 years with less than 9th grade education\n",
    "- Over25_SomeHS': % of GEOID over 25 years with some high school education\n",
    "- Over25_HSGrad': % of GEOID over 25 years with high school diploma or equivalent\n",
    "- Over25_SomeCollege': % of GEOID over 25 years with some college education\n",
    "- Over25_Assosc': % of GEOID over 25 years with assosciate's degree\n",
    "- Over25_Bach': % of GEOID over 25 years with bachelor's degree \n",
    "- Over25_Grad': % of GEOID Over 25 years with graduate degree\n",
    "- bea_region: Bureau of Economic Analysis Region\n",
    "- North American Industrial Classification (NAICS) Code Location Quotient:\n",
    "  - Agriculture_Forestry_Fishing_Hunting\n",
    "  - Mining_Quarrying_and_Oil_Gas_Extraction\n",
    "  - Utilities\n",
    "  - Construction   \n",
    "  - Manufacturing  \n",
    "  - Wholesale_Trade  \n",
    "  - Retail_Trade\n",
    "  - Transportation_Warehousing\n",
    "  - Information\n",
    "  - Finance_Insurance\n",
    "  - Real_Estate_Rental_Leasing\n",
    "  - Professional_Scientific_and_Technical_Services\n",
    "  - Management_of_Companies_Enterprises\n",
    "  - Administrative_Support_Waste_Management_Remediation_Services\n",
    "  - Educational_Services\n",
    "  - Health_Care_Social_Assistance\n",
    "  - Arts_Entertainment_and_Recreation \n",
    "  - Accommodation_Food_Services\n",
    "  - Other_Services_except_Public_Administration\n",
    "  - Agriculture_Forestry_Fishing_Hunting_base\n",
    "  - Mining_Quarrying_and_Oil_Gas_Extraction_base\n",
    "  - Utilities_base\n",
    "  - Construction_base\n",
    "  - Manufacturing_base\n",
    "  - Wholesale_Trade_base\n",
    "  - Retail_Trade_base\n",
    "  - Transportation_Warehousing_base\n",
    "  - Information_base\n",
    "  - Finance_Insurance_base\n",
    "  - Real_Estate_Rental_Leasing_base\n",
    "  - Professional_Scientific_and_Technical_Services_base\n",
    "  - Management_of_Companies_Enterprises_base\n",
    "  - Administrative_Support_Waste_Management_Remediation_Services_base\n",
    "  - Educational_Services_base \n",
    "  - Health_Care_Social_Assistance_base\n",
    "  - Arts_Entertainment_and_Recreation_base\n",
    "  - Accommodation_Food_Services_base\n",
    "  - Other_Services_except_Public_Administration_base\n",
    "- qp1: ??\n",
    "- ap: ??\n",
    "- est: ?? \n",
    "- GDP: GDP or normalized GSP??\n",
    "- pop_gt_16: ?\n",
    "- pop_gt_16_lf: ?\n",
    "- pop_gt_16_lf_c: ?\n",
    "- Pop_Est: ?\n",
    "- women_involved: 1/0 classification, 1 if woman is on the team"
   ]
  },
  {
   "cell_type": "markdown",
   "id": "95b59e36-aaf2-4b21-82fc-d9da05ce1a30",
   "metadata": {},
   "source": [
    "## Split Data"
   ]
  },
  {
   "cell_type": "code",
   "execution_count": 52,
   "id": "a0b3e6ab-1f06-4638-8ecd-2bdc7fd50fd4",
   "metadata": {},
   "outputs": [
    {
     "data": {
      "text/plain": [
       "(1591187, 72)"
      ]
     },
     "execution_count": 52,
     "metadata": {},
     "output_type": "execute_result"
    }
   ],
   "source": [
    "### Train & Validation Data: Application Years 2010-2017\n",
    "\n",
    "patents_train_val = patents_full.query(\"app_yr >= 2010 & app_yr <= 2017\")\n",
    "patents_train_val.shape"
   ]
  },
  {
   "cell_type": "code",
   "execution_count": 53,
   "id": "84c1a250-d29d-4135-bdb6-1281fce098b4",
   "metadata": {},
   "outputs": [
    {
     "data": {
      "text/plain": [
       "(124570, 72)"
      ]
     },
     "execution_count": 53,
     "metadata": {},
     "output_type": "execute_result"
    }
   ],
   "source": [
    "## Test Data Application Years: 2018-2019\n",
    "\n",
    "patents_test_val = patents_full.query(\"app_yr >= 2018 & app_yr <= 2019\")\n",
    "patents_test_val.shape"
   ]
  },
  {
   "cell_type": "markdown",
   "id": "54d020c6-803c-4400-8199-34c425269eae",
   "metadata": {},
   "source": [
    "## Save Data"
   ]
  },
  {
   "cell_type": "code",
   "execution_count": 14,
   "id": "1210b327-c247-41b3-a9ad-73aaa6415787",
   "metadata": {},
   "outputs": [],
   "source": [
    "patents_train_val.to_csv('patents_full_train.csv')\n",
    "patents_test_val.to_csv('patents_full_test.csv')"
   ]
  }
 ],
 "metadata": {
  "kernelspec": {
   "display_name": "Python 3 (ipykernel)",
   "language": "python",
   "name": "python3"
  },
  "language_info": {
   "codemirror_mode": {
    "name": "ipython",
    "version": 3
   },
   "file_extension": ".py",
   "mimetype": "text/x-python",
   "name": "python",
   "nbconvert_exporter": "python",
   "pygments_lexer": "ipython3",
   "version": "3.9.12"
  }
 },
 "nbformat": 4,
 "nbformat_minor": 5
}
