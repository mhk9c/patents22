{
 "cells": [
  {
   "cell_type": "markdown",
   "id": "4d654aab-f5e7-451f-8fbb-63d189c440b9",
   "metadata": {},
   "source": [
    "# Cleaning Merged Patents Data and Split for Model Training/Testing\n",
    "\n",
    "### Outline:\n",
    "\n",
    "- Drop redundant columns\n",
    "- Rename columns\n",
    "- Add key features\n",
    "- Clean University Assignment Features\n",
    "- Data Dictionary\n",
    "- Split Data\n",
    "- Save Data"
   ]
  },
  {
   "cell_type": "code",
   "execution_count": 1,
   "id": "cd5d080a-7b55-4d63-91f8-99a821365e3e",
   "metadata": {},
   "outputs": [
    {
     "name": "stderr",
     "output_type": "stream",
     "text": [
      "c:\\Users\\micha\\anaconda3\\envs\\UVACapstone\\lib\\site-packages\\scipy\\__init__.py:146: UserWarning: A NumPy version >=1.16.5 and <1.23.0 is required for this version of SciPy (detected version 1.23.1\n",
      "  warnings.warn(f\"A NumPy version >={np_minversion} and <{np_maxversion}\"\n"
     ]
    }
   ],
   "source": [
    "import numpy as np\n",
    "import pandas as pd\n",
    "from matplotlib import pyplot as plt\n",
    "import seaborn as sns\n",
    "import os"
   ]
  },
  {
   "cell_type": "code",
   "execution_count": 2,
   "id": "12d9f4ed-5536-4a9a-8252-b93a56feedeb",
   "metadata": {},
   "outputs": [],
   "source": [
    "file_location =  r'C:\\Users\\micha\\Documents\\GitHub\\patents22\\data\\merged' ##change as necessaru\n",
    "os.chdir(file_location)"
   ]
  },
  {
   "cell_type": "code",
   "execution_count": null,
   "id": "3c2dc17c-749c-4737-a002-f1c2a5897250",
   "metadata": {},
   "outputs": [],
   "source": [
    "# patents_full = pd.read_csv('PATENTS_DATA.csv', dtype = {'GEOID':'str'}, low_memory = False)"
   ]
  },
  {
   "cell_type": "markdown",
   "id": "54d020c6-803c-4400-8199-34c425269eae",
   "metadata": {},
   "source": [
    "## Load Data"
   ]
  },
  {
   "cell_type": "code",
   "execution_count": 3,
   "id": "ac1223ea",
   "metadata": {},
   "outputs": [],
   "source": [
    "patents_train_val = pd.read_csv('patents_full_train.csv', dtype = {'GEOID':'str'}, low_memory = False)"
   ]
  },
  {
   "cell_type": "code",
   "execution_count": null,
   "id": "45b9863a",
   "metadata": {},
   "outputs": [],
   "source": [
    "for col in patents_train_val.columns:\n",
    "    print(col)"
   ]
  },
  {
   "cell_type": "code",
   "execution_count": 4,
   "id": "6447443f",
   "metadata": {},
   "outputs": [],
   "source": [
    "# make the column names like the other column names\n",
    "patents_train_val = patents_train_val.rename(columns={\n",
    "    \"Administrative_Support_Waste_Management_Remediation_Services_base\" : \"Administrative_Support_Waste_Management_Remediation_Services_b\",\n",
    "    \"Employee_and_self-employed_contributions_for_government_social_insurance\" : \"Employee_and_slf-employed_contribs_for_gov_social_insurance\",\n",
    "    \"Employer_contributions_for_employee_pension_and_insurance_funds\": \"Employer_contribs_for_employee_pension_and_insurance_funds\"\n",
    "})"
   ]
  },
  {
   "cell_type": "code",
   "execution_count": 5,
   "id": "ba3ef6a6",
   "metadata": {},
   "outputs": [],
   "source": [
    "patents_train_val.to_csv('patents_full_train_Dataiku.csv')"
   ]
  },
  {
   "cell_type": "code",
   "execution_count": null,
   "id": "0dd65b8a",
   "metadata": {},
   "outputs": [],
   "source": []
  }
 ],
 "metadata": {
  "kernelspec": {
   "display_name": "Python 3.9.12 ('UVACapstone')",
   "language": "python",
   "name": "python3"
  },
  "language_info": {
   "codemirror_mode": {
    "name": "ipython",
    "version": 3
   },
   "file_extension": ".py",
   "mimetype": "text/x-python",
   "name": "python",
   "nbconvert_exporter": "python",
   "pygments_lexer": "ipython3",
   "version": "3.9.12"
  },
  "vscode": {
   "interpreter": {
    "hash": "1320d6b9c24963eeab91ed3c1b469bbfc0dc38b81cdaee0abc39ad090f12f690"
   }
  }
 },
 "nbformat": 4,
 "nbformat_minor": 5
}
