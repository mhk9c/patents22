{
 "cells": [
  {
   "cell_type": "code",
   "execution_count": 1,
   "metadata": {},
   "outputs": [],
   "source": [
    "import pandas as pd"
   ]
  },
  {
   "cell_type": "code",
   "execution_count": 38,
   "metadata": {},
   "outputs": [
    {
     "data": {
      "text/plain": [
       "(3234, 5)"
      ]
     },
     "execution_count": 38,
     "metadata": {},
     "output_type": "execute_result"
    }
   ],
   "source": [
    "bea_gdp_df = pd.read_csv('./data/bea/GDP_2020-2009.csv',dtype={'GeoFips':'string', 'year':'Int64'})\n",
    "bea_gdp_df.dropna(inplace=True)\n",
    "county_GEOID_cross_df = pd.read_csv('./data/crosswalk_county_name_to_county_fips.csv',dtype={'GEOID':'string'})\n",
    "county_GEOID_cross_df.shape"
   ]
  },
  {
   "cell_type": "code",
   "execution_count": 52,
   "metadata": {},
   "outputs": [],
   "source": [
    "unique_bea_geofips = bea_gdp_df.groupby('GeoFips').sum().reset_index()\n",
    "unique_county_GEOIDS = county_GEOID_cross_df.groupby('GEOID').sum().reset_index()"
   ]
  },
  {
   "cell_type": "code",
   "execution_count": 60,
   "metadata": {},
   "outputs": [
    {
     "name": "stdout",
     "output_type": "stream",
     "text": [
      "28\n"
     ]
    }
   ],
   "source": [
    "# How many missing values are there in the county_GEOID_cross_df?\n",
    "# That is to say, how many rows in bea are missing rows in the county crosswalk?\n",
    "test_merge = pd.merge(unique_bea_geofips, unique_county_GEOIDS,\n",
    "                      left_on = ['GeoFips'],\n",
    "                      right_on = ['GEOID'],\n",
    "                      how = 'outer',\n",
    "                      indicator = 'matched',\n",
    "                      validate = 'one_to_one')\n",
    "\n",
    "print(len(test_merge.query(\"matched == 'left_only'\").GeoFips.unique()))\n",
    "# The missing values\n",
    "missing_values_bea = pd.DataFrame(test_merge.query(\"matched == 'left_only'\").groupby(['GeoFips']).size()).reset_index()['GeoFips'].values\n",
    "missing_values_crosswalk = pd.DataFrame(test_merge.query(\"matched == 'right_only'\").groupby(['GEOID']).size()).reset_index()['GEOID'].values"
   ]
  },
  {
   "cell_type": "code",
   "execution_count": 62,
   "metadata": {},
   "outputs": [
    {
     "name": "stdout",
     "output_type": "stream",
     "text": [
      "<StringArray>\n",
      "['15005', '15009', '51003', '51005', '51015', '51031', '51035', '51053',\n",
      " '51059', '51069',\n",
      " ...\n",
      " '72141', '72143', '72145', '72147', '72149', '72151', '72153', '78010',\n",
      " '78020', '78030']\n",
      "Length: 144, dtype: string\n"
     ]
    }
   ],
   "source": [
    "print(missing_values_crosswalk)"
   ]
  },
  {
   "cell_type": "markdown",
   "metadata": {},
   "source": [
    "Let's check to see how many of the missing values are in the patents data. Those are those that we need to worry about."
   ]
  },
  {
   "cell_type": "code",
   "execution_count": 55,
   "metadata": {},
   "outputs": [],
   "source": [
    "patents = pd.read_csv('./data/patentsview/all_patents_granted_and pregrant.csv',dtype={'GEOID':'string'}, low_memory=False)\n",
    "unique_patent_GEOIDS = patents.groupby('GEOID').sum().reset_index()\n",
    "unique_patent_GEOIDS_list = unique_patent_GEOIDS.GEOID.values.tolist()"
   ]
  },
  {
   "cell_type": "code",
   "execution_count": 66,
   "metadata": {},
   "outputs": [
    {
     "data": {
      "text/html": [
       "<div>\n",
       "<style scoped>\n",
       "    .dataframe tbody tr th:only-of-type {\n",
       "        vertical-align: middle;\n",
       "    }\n",
       "\n",
       "    .dataframe tbody tr th {\n",
       "        vertical-align: top;\n",
       "    }\n",
       "\n",
       "    .dataframe thead th {\n",
       "        text-align: right;\n",
       "    }\n",
       "</style>\n",
       "<table border=\"1\" class=\"dataframe\">\n",
       "  <thead>\n",
       "    <tr style=\"text-align: right;\">\n",
       "      <th></th>\n",
       "      <th>patent_number</th>\n",
       "      <th>assignee</th>\n",
       "      <th>grant_year</th>\n",
       "      <th>application_year</th>\n",
       "      <th>application_number</th>\n",
       "      <th>GEOID</th>\n",
       "      <th>ipc_section</th>\n",
       "      <th>team_size</th>\n",
       "      <th>inventors</th>\n",
       "      <th>men_inventors</th>\n",
       "      <th>women_inventors</th>\n",
       "      <th>already_granted</th>\n",
       "    </tr>\n",
       "  </thead>\n",
       "  <tbody>\n",
       "    <tr>\n",
       "      <th>1426376</th>\n",
       "      <td>7740267</td>\n",
       "      <td>ARCHIMEDES INTELLECTUAL, LLC</td>\n",
       "      <td>2010.0</td>\n",
       "      <td>2008</td>\n",
       "      <td>12078682</td>\n",
       "      <td>51790</td>\n",
       "      <td>B F</td>\n",
       "      <td>1</td>\n",
       "      <td>1</td>\n",
       "      <td>1.0</td>\n",
       "      <td>0</td>\n",
       "      <td>1</td>\n",
       "    </tr>\n",
       "    <tr>\n",
       "      <th>1426377</th>\n",
       "      <td>9581257</td>\n",
       "      <td>CLEAN PLANET INC.</td>\n",
       "      <td>2017.0</td>\n",
       "      <td>2013</td>\n",
       "      <td>13901202</td>\n",
       "      <td>51790</td>\n",
       "      <td>F</td>\n",
       "      <td>1</td>\n",
       "      <td>1</td>\n",
       "      <td>1.0</td>\n",
       "      <td>0</td>\n",
       "      <td>1</td>\n",
       "    </tr>\n",
       "    <tr>\n",
       "      <th>1426378</th>\n",
       "      <td>10401117</td>\n",
       "      <td>PARKER COMPOUND BOWS, INC.</td>\n",
       "      <td>2019.0</td>\n",
       "      <td>2018</td>\n",
       "      <td>16039548</td>\n",
       "      <td>51790</td>\n",
       "      <td>F</td>\n",
       "      <td>2</td>\n",
       "      <td>2</td>\n",
       "      <td>2.0</td>\n",
       "      <td>0</td>\n",
       "      <td>1</td>\n",
       "    </tr>\n",
       "    <tr>\n",
       "      <th>1578573</th>\n",
       "      <td>NaN</td>\n",
       "      <td>Archimedes Intellectual, LLC</td>\n",
       "      <td>NaN</td>\n",
       "      <td>2009</td>\n",
       "      <td>12385188</td>\n",
       "      <td>51790</td>\n",
       "      <td>NaN</td>\n",
       "      <td>1</td>\n",
       "      <td>1</td>\n",
       "      <td>1.0</td>\n",
       "      <td>0</td>\n",
       "      <td>0</td>\n",
       "    </tr>\n",
       "    <tr>\n",
       "      <th>1960143</th>\n",
       "      <td>NaN</td>\n",
       "      <td>CLEAN PLANET Inc.</td>\n",
       "      <td>NaN</td>\n",
       "      <td>2013</td>\n",
       "      <td>13901202</td>\n",
       "      <td>51790</td>\n",
       "      <td>NaN</td>\n",
       "      <td>1</td>\n",
       "      <td>1</td>\n",
       "      <td>1.0</td>\n",
       "      <td>0</td>\n",
       "      <td>0</td>\n",
       "    </tr>\n",
       "  </tbody>\n",
       "</table>\n",
       "</div>"
      ],
      "text/plain": [
       "        patent_number                      assignee  grant_year  \\\n",
       "1426376       7740267  ARCHIMEDES INTELLECTUAL, LLC      2010.0   \n",
       "1426377       9581257             CLEAN PLANET INC.      2017.0   \n",
       "1426378      10401117    PARKER COMPOUND BOWS, INC.      2019.0   \n",
       "1578573           NaN  Archimedes Intellectual, LLC         NaN   \n",
       "1960143           NaN             CLEAN PLANET Inc.         NaN   \n",
       "\n",
       "         application_year  application_number  GEOID ipc_section  team_size  \\\n",
       "1426376              2008            12078682  51790         B F          1   \n",
       "1426377              2013            13901202  51790           F          1   \n",
       "1426378              2018            16039548  51790           F          2   \n",
       "1578573              2009            12385188  51790         NaN          1   \n",
       "1960143              2013            13901202  51790         NaN          1   \n",
       "\n",
       "         inventors  men_inventors  women_inventors  already_granted  \n",
       "1426376          1            1.0                0                1  \n",
       "1426377          1            1.0                0                1  \n",
       "1426378          2            2.0                0                1  \n",
       "1578573          1            1.0                0                0  \n",
       "1960143          1            1.0                0                0  "
      ]
     },
     "execution_count": 66,
     "metadata": {},
     "output_type": "execute_result"
    }
   ],
   "source": [
    "patents.query(\"GEOID == '51790'\")  \n"
   ]
  },
  {
   "cell_type": "code",
   "execution_count": 56,
   "metadata": {},
   "outputs": [
    {
     "name": "stdout",
     "output_type": "stream",
     "text": [
      "28\n"
     ]
    }
   ],
   "source": [
    "# See how many of the missing values are in the patents dataframe.\n",
    "values_in_bea_not_in_patents = list(set(missing_values_bea) - set(unique_patent_GEOIDS_list))\n",
    "print(len(values_in_bea_not_in_patents))"
   ]
  },
  {
   "cell_type": "code",
   "execution_count": 58,
   "metadata": {},
   "outputs": [
    {
     "name": "stdout",
     "output_type": "stream",
     "text": [
      "0\n"
     ]
    },
    {
     "data": {
      "text/plain": [
       "[]"
      ]
     },
     "execution_count": 58,
     "metadata": {},
     "output_type": "execute_result"
    }
   ],
   "source": [
    "# Check against the original missing values list.\n",
    "values_in_bea_we_need_to_fix = list(set(missing_values_bea) - set(values_in_bea_not_in_patents))\n",
    "print(len(values_in_bea_we_need_to_fix))\n",
    "values_in_bea_we_need_to_fix"
   ]
  },
  {
   "cell_type": "markdown",
   "metadata": {},
   "source": [
    "Check it the other way? How many GEOIDS in the patent data are missing from the bea data?"
   ]
  },
  {
   "cell_type": "code",
   "execution_count": null,
   "metadata": {},
   "outputs": [],
   "source": [
    "# See how many of the missing values are in the patents dataframe.\n",
    "values_in_bea_not_in_patents = list(set(missing_values) - set(unique_patent_GEOIDS_list))\n",
    "print(len(values_in_bea_not_in_patents))"
   ]
  }
 ],
 "metadata": {
  "kernelspec": {
   "display_name": "Python 3.9.12 ('UVACapstone')",
   "language": "python",
   "name": "python3"
  },
  "language_info": {
   "codemirror_mode": {
    "name": "ipython",
    "version": 3
   },
   "file_extension": ".py",
   "mimetype": "text/x-python",
   "name": "python",
   "nbconvert_exporter": "python",
   "pygments_lexer": "ipython3",
   "version": "3.9.12"
  },
  "orig_nbformat": 4,
  "vscode": {
   "interpreter": {
    "hash": "1320d6b9c24963eeab91ed3c1b469bbfc0dc38b81cdaee0abc39ad090f12f690"
   }
  }
 },
 "nbformat": 4,
 "nbformat_minor": 2
}
