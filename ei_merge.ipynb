{
 "cells": [
  {
   "cell_type": "code",
   "execution_count": 1,
   "metadata": {},
   "outputs": [
    {
     "name": "stderr",
     "output_type": "stream",
     "text": [
      "c:\\Users\\micha\\anaconda3\\envs\\UVACapstone\\lib\\site-packages\\scipy\\__init__.py:146: UserWarning: A NumPy version >=1.16.5 and <1.23.0 is required for this version of SciPy (detected version 1.23.1\n",
      "  warnings.warn(f\"A NumPy version >={np_minversion} and <{np_maxversion}\"\n"
     ]
    }
   ],
   "source": [
    "import numpy as np\n",
    "import pandas as pd\n",
    "from matplotlib import pyplot as plt\n",
    "import seaborn as sns\n",
    "import os"
   ]
  },
  {
   "cell_type": "code",
   "execution_count": 2,
   "metadata": {},
   "outputs": [],
   "source": [
    "_patents_full = pd.read_csv('./data/merged/PATENTS_DATA.csv', dtype = {'GEOID':'str'}, low_memory = False)"
   ]
  },
  {
   "cell_type": "code",
   "execution_count": 3,
   "metadata": {},
   "outputs": [],
   "source": [
    "_ei = pd.read_csv('./data/ei/ei_final_final_hopeful.csv', dtype = {'GEOID':'str', 'County Code':'str'}, low_memory = False)"
   ]
  },
  {
   "cell_type": "code",
   "execution_count": 4,
   "metadata": {},
   "outputs": [
    {
     "data": {
      "text/html": [
       "<div>\n",
       "<style scoped>\n",
       "    .dataframe tbody tr th:only-of-type {\n",
       "        vertical-align: middle;\n",
       "    }\n",
       "\n",
       "    .dataframe tbody tr th {\n",
       "        vertical-align: top;\n",
       "    }\n",
       "\n",
       "    .dataframe thead th {\n",
       "        text-align: right;\n",
       "    }\n",
       "</style>\n",
       "<table border=\"1\" class=\"dataframe\">\n",
       "  <thead>\n",
       "    <tr style=\"text-align: right;\">\n",
       "      <th></th>\n",
       "      <th>year</th>\n",
       "    </tr>\n",
       "    <tr>\n",
       "      <th>County Code</th>\n",
       "      <th></th>\n",
       "    </tr>\n",
       "  </thead>\n",
       "  <tbody>\n",
       "    <tr>\n",
       "      <th>11001</th>\n",
       "      <td>11</td>\n",
       "    </tr>\n",
       "    <tr>\n",
       "      <th>32510</th>\n",
       "      <td>8</td>\n",
       "    </tr>\n",
       "    <tr>\n",
       "      <th>45083</th>\n",
       "      <td>11</td>\n",
       "    </tr>\n",
       "  </tbody>\n",
       "</table>\n",
       "</div>"
      ],
      "text/plain": [
       "             year\n",
       "County Code      \n",
       "11001          11\n",
       "32510           8\n",
       "45083          11"
      ]
     },
     "execution_count": 4,
     "metadata": {},
     "output_type": "execute_result"
    }
   ],
   "source": [
    "# check for duplicates in _ei\n",
    "_ei[_ei[['County Code' , 'year']].duplicated()][['County Code' , 'year']].sort_values(['County Code' , 'year']).groupby('County Code').count()"
   ]
  },
  {
   "cell_type": "code",
   "execution_count": 8,
   "metadata": {},
   "outputs": [
    {
     "data": {
      "text/plain": [
       "Int64Index([], dtype='int64')"
      ]
     },
     "execution_count": 8,
     "metadata": {},
     "output_type": "execute_result"
    }
   ],
   "source": [
    "\n",
    "#  45085 is sumter SC\n",
    "# for all rows in ei, if GEOID is 45085, then update with rows that were assigned to 45083\n",
    "ei = _ei.copy()\n",
    "for i  in ei.query('`County Code` == \"45085\"').index:\n",
    "    year = ei.loc[i, 'year']\n",
    "    results = ei.query(f'`County Code` == \"45083\" & year == {year} & County_Name == \"Sumter, SC\"')[['GEOID','County_Name','Year','Award Amount']].values.tolist()\n",
    "    GEOID_tmp  = results[0][0]\n",
    "    County_Name_tmp  = results[0][1]\n",
    "    Year_tmp  = results[0][2]\n",
    "    Award_Amount_tmp  = results[0][3]\n",
    "\n",
    "    ei.loc[i, 'GEOID'] = GEOID_tmp\n",
    "    ei.loc[i, 'County_Name'] = County_Name_tmp\n",
    "    ei.loc[i, 'Year'] = Year_tmp\n",
    "    ei.loc[i, 'Award Amount'] = Award_Amount_tmp\n",
    "    \n",
    "\n",
    "# Drop 45083 that are now 45085. That is to say, drop all 45083 that have \"County_Name\" == \"Sumter, SC\"\n",
    "ei = ei.drop(ei[(ei['County Code'] == \"45083\") & (ei['County_Name'] == \"Sumter, SC\")].index)\n",
    "ei[(ei['County Code'] == \"45083\") & (ei['County_Name'] == \"Sumter, SC\")].index\n"
   ]
  },
  {
   "cell_type": "code",
   "execution_count": 9,
   "metadata": {},
   "outputs": [],
   "source": [
    "# set max display rows and columns to 1000\n",
    "pd.set_option('display.max_rows', 1000)\n",
    "pd.set_option('display.max_columns', 1000)\n"
   ]
  },
  {
   "cell_type": "code",
   "execution_count": 10,
   "metadata": {},
   "outputs": [],
   "source": [
    "# I'm just dropping duplicates here. I'm not sure if this is the best way to do it.\n",
    "# ei = ei.drop(ei.duplicated(subset = ['County Code', 'year']), axis = 0)\n",
    "ei.drop_duplicates(subset = ['County Code', 'year'], inplace = True)\n"
   ]
  },
  {
   "cell_type": "code",
   "execution_count": 11,
   "metadata": {},
   "outputs": [
    {
     "data": {
      "text/html": [
       "<div>\n",
       "<style scoped>\n",
       "    .dataframe tbody tr th:only-of-type {\n",
       "        vertical-align: middle;\n",
       "    }\n",
       "\n",
       "    .dataframe tbody tr th {\n",
       "        vertical-align: top;\n",
       "    }\n",
       "\n",
       "    .dataframe thead th {\n",
       "        text-align: right;\n",
       "    }\n",
       "</style>\n",
       "<table border=\"1\" class=\"dataframe\">\n",
       "  <thead>\n",
       "    <tr style=\"text-align: right;\">\n",
       "      <th></th>\n",
       "      <th>year</th>\n",
       "    </tr>\n",
       "    <tr>\n",
       "      <th>County Code</th>\n",
       "      <th></th>\n",
       "    </tr>\n",
       "  </thead>\n",
       "  <tbody>\n",
       "  </tbody>\n",
       "</table>\n",
       "</div>"
      ],
      "text/plain": [
       "Empty DataFrame\n",
       "Columns: [year]\n",
       "Index: []"
      ]
     },
     "execution_count": 11,
     "metadata": {},
     "output_type": "execute_result"
    }
   ],
   "source": [
    "# check for duplicates in ei\n",
    "# See how we did.\n",
    "ei[ei[['County Code' , 'year']].duplicated()][['County Code' , 'year']].sort_values(['County Code' , 'year']).groupby('County Code').count()"
   ]
  },
  {
   "cell_type": "code",
   "execution_count": 12,
   "metadata": {},
   "outputs": [],
   "source": [
    "# How many missing values are there in the county_GEOID_cross_df?\n",
    "# That is to say, how many rows in bea are missing rows in the county crosswalk?\n",
    "# test_merge = pd.merge(_patents_full, ei,\n",
    "#                       left_on = ['GEOID', 'application_year'],\n",
    "#                       right_on = ['County Code', 'year'],\n",
    "#                       suffixes=('', '_ei'),\n",
    "#                       how = 'outer',\n",
    "#                       indicator = 'matched',\n",
    "#                       validate = 'many_to_one')\n",
    "\n",
    "\n",
    "\n",
    "# print(len(test_merge.query(\"matched == 'left_only'\").GEOID.unique()))\n",
    "# print(test_merge.query(\"matched == 'left_only'\").GEOID.unique())"
   ]
  },
  {
   "cell_type": "code",
   "execution_count": 15,
   "metadata": {},
   "outputs": [],
   "source": [
    "final_merge = pd.merge(_patents_full, ei,\n",
    "                      left_on = ['GEOID', 'application_year'],\n",
    "                      right_on = ['County Code', 'year'],\n",
    "                      suffixes=('', '_ei'),\n",
    "                      how = 'left')"
   ]
  },
  {
   "cell_type": "code",
   "execution_count": 21,
   "metadata": {},
   "outputs": [],
   "source": [
    "# Clean up some columns\n",
    "try:\n",
    "    final_merge.drop([\"Unnamed: 0\",\"GeoFIPS\",\"GeoName\",\"year_ei\",\"STNAME\",\"CTYNAME\",\"State\",\"County\",\"County Code\",\"fipstate\",\"fipscty\",\"GEOID_ei\",\"County_Name\",\"Year\"], axis = 1, inplace = True)\n",
    "except:\n",
    "    pass\n",
    "\n",
    "# make the column names like the other column names\n",
    "final_merge = final_merge.rename(columns={\n",
    "    \"Earnings by place of work\" : \"Earnings_by_place_of_work\",\n",
    "    \"Employee and self-employed contributions for government social insurance\" : \"Employee_and_self-employed_contributions_for_government_social_insurance\",\n",
    "    \"Employer contributions for employee pension and insurance funds 8\" : \"Employer_contributions_for_employee_pension_and_insurance_funds\",\n",
    "    \"Employer contributions for government social insurance\" : \"Employer_contributions_for_government_social_insurance\",\n",
    "    \"Equals: Net earnings by place of residence\" : \"Equals_Net_earnings_by_place_of_residence\",\n",
    "    \"Farm income 2\" : \"Farm_income\",\n",
    "    \"Farm proprietors' income\" : \"Farm_proprietors_income\",\n",
    "    \"Less: Contributions for government social insurance 5\" : \"Less_Contributions_for_government_social_insurance\",\n",
    "    \"Nonfarm personal income 1\" : \"Nonfarm_personal_income\",\n",
    "    \"Nonfarm proprietors' income\" : \"Nonfarm_proprietors_income\",\n",
    "    \"Per capita personal income (dollars) 4\" : \"Per_capita_personal_income_dollars\",\n",
    "    \"Personal income (thousands of dollars)\" : \"Personal_income_thousands_of_dollars\",\n",
    "    \"Plus: Adjustment for residence 6\" : \"Plus_Adjustment_for_residence\",\n",
    "    \"Plus: Dividends, interest, and rent 7\" : \"Plus_Dividends_interest_and_rent\",\n",
    "    \"Plus: Personal current transfer receipts\" : \"Plus_Personal_current_transfer_receipts\",\n",
    "    \"Population (persons) 3\" : \"Population_persons\",\n",
    "    \"Proprietors employment\" : \"Proprietors_employment\",\n",
    "    \"Proprietors' income 9\" : \"Proprietors_income\",\n",
    "    \"Supplements to wages and salaries\" : \"Supplements_to_wages_and_salaries\",\n",
    "    \"Total employment\" : \"Total_employment\",\n",
    "    \"Wage and salary employment\" : \"Wage_and_salary_employment\",\n",
    "    \"Wages and salaries\" : \"Wages_and_salaries\",\n",
    "    \"Population Estimate\" : \"Population_Estimate\",\n",
    "    \"Applications\" : \"Applications\",\n",
    "    \"Award Amount\" : \"Award_Amount\"\n",
    "})"
   ]
  },
  {
   "cell_type": "code",
   "execution_count": 23,
   "metadata": {},
   "outputs": [],
   "source": [
    "# Save the final merge\n",
    "final_merge.to_csv('./data/merged/PATENTS_DATA.csv', index = False)"
   ]
  },
  {
   "cell_type": "code",
   "execution_count": null,
   "metadata": {},
   "outputs": [],
   "source": []
  }
 ],
 "metadata": {
  "kernelspec": {
   "display_name": "Python 3.9.12 ('UVACapstone')",
   "language": "python",
   "name": "python3"
  },
  "language_info": {
   "codemirror_mode": {
    "name": "ipython",
    "version": 3
   },
   "file_extension": ".py",
   "mimetype": "text/x-python",
   "name": "python",
   "nbconvert_exporter": "python",
   "pygments_lexer": "ipython3",
   "version": "3.9.12"
  },
  "orig_nbformat": 4,
  "vscode": {
   "interpreter": {
    "hash": "1320d6b9c24963eeab91ed3c1b469bbfc0dc38b81cdaee0abc39ad090f12f690"
   }
  }
 },
 "nbformat": 4,
 "nbformat_minor": 2
}
